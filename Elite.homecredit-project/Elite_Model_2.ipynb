{
  "nbformat": 4,
  "nbformat_minor": 0,
  "metadata": {
    "colab": {
      "name": "Elite_Model_2.ipynb",
      "provenance": [],
      "collapsed_sections": []
    },
    "kernelspec": {
      "display_name": "Python 3",
      "name": "python3"
    }
  },
  "cells": [
    {
      "cell_type": "code",
      "metadata": {
        "id": "axyy3VleorYn"
      },
      "source": [
        "import pandas as pd\n",
        "import numpy as np\n",
        "import matplotlib.pyplot as plt\n",
        "import seaborn as sns\n",
        "from sklearn.preprocessing import OneHotEncoder\n",
        "import warnings\n",
        "warnings.filterwarnings('ignore')\n",
        "import lightgbm as lgb\n",
        "import gc\n",
        "from sklearn.model_selection import train_test_split\n",
        "from sklearn.model_selection import KFold\n",
        "from sklearn.metrics import roc_auc_score\n",
        "from sklearn.preprocessing import LabelEncoder\n",
        "sns.set_style('darkgrid')\n",
        "%matplotlib inline"
      ],
      "execution_count": null,
      "outputs": []
    },
    {
      "cell_type": "code",
      "metadata": {
        "id": "j91vFlqo4EYM"
      },
      "source": [
        "def reduce_mem_usage(df):\r\n",
        "   \r\n",
        "    start_mem = df.memory_usage().sum() / 1024**2\r\n",
        "    print('Memory usage of dataframe is {:.2f} MB'.format(start_mem))\r\n",
        "    \r\n",
        "    for col in df.columns:\r\n",
        "        col_type = df[col].dtype\r\n",
        "        \r\n",
        "        if col_type != object:\r\n",
        "            c_min = df[col].min()\r\n",
        "            c_max = df[col].max()\r\n",
        "            if str(col_type)[:3] == 'int':\r\n",
        "                if c_min > np.iinfo(np.int8).min and c_max < np.iinfo(np.int8).max:\r\n",
        "                    df[col] = df[col].astype(np.int8)\r\n",
        "                elif c_min > np.iinfo(np.int16).min and c_max < np.iinfo(np.int16).max:\r\n",
        "                    df[col] = df[col].astype(np.int16)\r\n",
        "                elif c_min > np.iinfo(np.int32).min and c_max < np.iinfo(np.int32).max:\r\n",
        "                    df[col] = df[col].astype(np.int32)\r\n",
        "                elif c_min > np.iinfo(np.int64).min and c_max < np.iinfo(np.int64).max:\r\n",
        "                    df[col] = df[col].astype(np.int64)  \r\n",
        "            else:\r\n",
        "                if c_min > np.finfo(np.float16).min and c_max < np.finfo(np.float16).max:\r\n",
        "                    df[col] = df[col].astype(np.float16)\r\n",
        "                elif c_min > np.finfo(np.float32).min and c_max < np.finfo(np.float32).max:\r\n",
        "                    df[col] = df[col].astype(np.float32)\r\n",
        "                else:\r\n",
        "                    df[col] = df[col].astype(np.float64)\r\n",
        "        else:\r\n",
        "            df[col] = df[col].astype('category')\r\n",
        "\r\n",
        "    end_mem = df.memory_usage().sum() / 1024**2\r\n",
        "    print('Memory usage after optimization is: {:.2f} MB'.format(end_mem))\r\n",
        "    \r\n",
        "    return df\r\n",
        "\r\n",
        "#CONVERT AND RETURN NEW FILE\r\n",
        "\r\n",
        "def import_data(file):\r\n",
        "    df = pd.read_csv(file, parse_dates=True, keep_date_col=True)\r\n",
        "    df = reduce_mem_usage(df)\r\n",
        "    return df"
      ],
      "execution_count": null,
      "outputs": []
    },
    {
      "cell_type": "code",
      "metadata": {
        "colab": {
          "base_uri": "https://localhost:8080/"
        },
        "id": "2r76KyDM4aZz",
        "outputId": "8ff1569d-66ea-4095-de0b-efaddc0982b6"
      },
      "source": [
        "!ls /content/"
      ],
      "execution_count": null,
      "outputs": [
        {
          "output_type": "stream",
          "text": [
            "application_test.csv\t     installments_payments.csv\n",
            "application_test.csv.zip     installments_payments.csv.zip\n",
            "application_train.csv\t     kaggle.json\n",
            "application_train.csv.zip    POS_CASH_balance.csv\n",
            "bureau_balance.csv\t     POS_CASH_balance.csv.zip\n",
            "bureau_balance.csv.zip\t     previous_application.csv\n",
            "bureau.csv\t\t     previous_application.csv.zip\n",
            "bureau.csv.zip\t\t     sample_data\n",
            "credit_card_balance.csv      sample_submission.csv\n",
            "credit_card_balance.csv.zip  sample_submission.csv.zip\n"
          ],
          "name": "stdout"
        }
      ]
    },
    {
      "cell_type": "code",
      "metadata": {
        "colab": {
          "base_uri": "https://localhost:8080/"
        },
        "id": "yCA-BJKn4MSJ",
        "outputId": "603fdc67-bac9-46bc-839c-b8df1aa73694"
      },
      "source": [
        "application_train = import_data(\"/content/application_train.csv\")"
      ],
      "execution_count": null,
      "outputs": [
        {
          "output_type": "stream",
          "text": [
            "Memory usage of dataframe is 186.05 MB\n",
            "Memory usage after optimization is: 45.23 MB\n"
          ],
          "name": "stdout"
        }
      ]
    },
    {
      "cell_type": "code",
      "metadata": {
        "colab": {
          "base_uri": "https://localhost:8080/"
        },
        "id": "4RxBNKut4Yf2",
        "outputId": "d926912e-00bc-4f7e-fe05-962de68a32df"
      },
      "source": [
        "application_test=import_data(\"/content/application_test.csv\")"
      ],
      "execution_count": null,
      "outputs": [
        {
          "output_type": "stream",
          "text": [
            "Memory usage of dataframe is 99.36 MB\n",
            "Memory usage after optimization is: 26.56 MB\n"
          ],
          "name": "stdout"
        }
      ]
    },
    {
      "cell_type": "code",
      "metadata": {
        "colab": {
          "base_uri": "https://localhost:8080/"
        },
        "id": "uJXFQflA4mCC",
        "outputId": "9f5645d7-cbae-426f-99ea-3163185b6fa4"
      },
      "source": [
        "bur_bal = import_data(\"/content/bureau_balance.csv\")"
      ],
      "execution_count": null,
      "outputs": [
        {
          "output_type": "stream",
          "text": [
            "Memory usage of dataframe is 624.85 MB\n",
            "Memory usage after optimization is: 202.45 MB\n"
          ],
          "name": "stdout"
        }
      ]
    },
    {
      "cell_type": "code",
      "metadata": {
        "colab": {
          "base_uri": "https://localhost:8080/"
        },
        "id": "3t-f1GAX43y7",
        "outputId": "50472870-ba92-4437-affe-cf1b7bb0b1c1"
      },
      "source": [
        "bur = import_data(\"/content/bureau.csv\")"
      ],
      "execution_count": null,
      "outputs": [
        {
          "output_type": "stream",
          "text": [
            "Memory usage of dataframe is 222.62 MB\n",
            "Memory usage after optimization is: 184.00 MB\n"
          ],
          "name": "stdout"
        }
      ]
    },
    {
      "cell_type": "code",
      "metadata": {
        "colab": {
          "base_uri": "https://localhost:8080/"
        },
        "id": "IBHhF3Tn48pG",
        "outputId": "d8993c21-4fb8-435b-e251-03d0718010f0"
      },
      "source": [
        "credit_bal = import_data(\"/content/credit_card_balance.csv\")"
      ],
      "execution_count": null,
      "outputs": [
        {
          "output_type": "stream",
          "text": [
            "Memory usage of dataframe is 673.88 MB\n",
            "Memory usage after optimization is: 275.28 MB\n"
          ],
          "name": "stdout"
        }
      ]
    },
    {
      "cell_type": "code",
      "metadata": {
        "colab": {
          "base_uri": "https://localhost:8080/"
        },
        "id": "amUlVsiw5ItY",
        "outputId": "2fa6c19e-395c-4faa-b129-fbe244910040"
      },
      "source": [
        "installment_payments = import_data(\"/content/installments_payments.csv\")"
      ],
      "execution_count": null,
      "outputs": [
        {
          "output_type": "stream",
          "text": [
            "Memory usage of dataframe is 830.41 MB\n",
            "Memory usage after optimization is: 371.61 MB\n"
          ],
          "name": "stdout"
        }
      ]
    },
    {
      "cell_type": "code",
      "metadata": {
        "colab": {
          "base_uri": "https://localhost:8080/"
        },
        "id": "eajm78rI5X-4",
        "outputId": "b7c7ea24-3a16-4550-8160-444fd0470941"
      },
      "source": [
        "pos_bal = import_data(\"/content/POS_CASH_balance.csv\")"
      ],
      "execution_count": null,
      "outputs": [
        {
          "output_type": "stream",
          "text": [
            "Memory usage of dataframe is 610.43 MB\n",
            "Memory usage after optimization is: 231.40 MB\n"
          ],
          "name": "stdout"
        }
      ]
    },
    {
      "cell_type": "code",
      "metadata": {
        "colab": {
          "base_uri": "https://localhost:8080/"
        },
        "id": "rYxJG8fd5ohf",
        "outputId": "4f728a4f-d74d-4f2a-9019-818ad85592f8"
      },
      "source": [
        "prev_application = import_data(\"/content/previous_application.csv\")"
      ],
      "execution_count": null,
      "outputs": [
        {
          "output_type": "stream",
          "text": [
            "Memory usage of dataframe is 471.48 MB\n",
            "Memory usage after optimization is: 235.95 MB\n"
          ],
          "name": "stdout"
        }
      ]
    },
    {
      "cell_type": "code",
      "metadata": {
        "colab": {
          "base_uri": "https://localhost:8080/"
        },
        "id": "3Jufh3mZ58bW",
        "outputId": "a1671b27-6d5e-4f61-f8a5-565426abc708"
      },
      "source": [
        "gc.enable()\r\n",
        "gc.collect()"
      ],
      "execution_count": null,
      "outputs": [
        {
          "output_type": "execute_result",
          "data": {
            "text/plain": [
              "8"
            ]
          },
          "metadata": {
            "tags": []
          },
          "execution_count": 28
        }
      ]
    },
    {
      "cell_type": "code",
      "metadata": {
        "id": "EuEPi2VO6ANp"
      },
      "source": [
        "application_train_org = application_train.copy()"
      ],
      "execution_count": null,
      "outputs": []
    },
    {
      "cell_type": "code",
      "metadata": {
        "colab": {
          "base_uri": "https://localhost:8080/"
        },
        "id": "BDEMCmlfo2Ka",
        "outputId": "7bca76f9-82b6-4f8a-bd83-e7a10e34bf95"
      },
      "source": [
        "print(\"Application Shape: \", application_train.shape)\n",
        "print(\"Application Shape: \", application_test.shape)"
      ],
      "execution_count": null,
      "outputs": [
        {
          "output_type": "stream",
          "text": [
            "Application Shape:  (199882, 122)\n",
            "Application Shape:  (107629, 121)\n"
          ],
          "name": "stdout"
        }
      ]
    },
    {
      "cell_type": "code",
      "metadata": {
        "id": "pSfeO2xnq-QU"
      },
      "source": [
        "def getCnamesNumeric(df):\n",
        "    return list(df.select_dtypes(exclude=['category','object']).columns)\n",
        "\n",
        "def getCnamesObject(df):\n",
        "    return list(df.select_dtypes(include=['category','object']).columns)\n",
        "\n",
        "def getDetailsAboutMissingValuesAllColumns(df):\n",
        "  return df.isna().sum()/df.shape[0]\n",
        "\n",
        "def getDetailsAboutOnlyMissingValuesColumns(df):\n",
        "  print(\"Shape: \", df.shape)\n",
        "  return df[list(df.columns[df.isna().any()])].isna().sum()/df.shape[0]\n",
        "\n",
        "def dropColumns(df, columnNames):\n",
        "  for column in columnNames:\n",
        "    df = df.drop(column, axis = 1)\n",
        "  return df\n",
        "\n",
        "def imputeCategoricalMissingValuesUsingMode(df):\n",
        "  columnName = getCnamesObject(df)\n",
        "  for col in columnName: df[col].fillna(df[col].mode().values[0], inplace = True)\n",
        "\n",
        "def imputeNumericMissingValuesUsingMean(df):\n",
        "  columnName = getCnamesNumeric(df)\n",
        "  for col in columnName: df[col].fillna(df[col].mean(), inplace = True)\n",
        "\n",
        "def imputeNumericMissingValuesUsingMode(df):\n",
        "  columnName = getCnamesNumeric(df)\n",
        "  for col in columnName: df[col].fillna(df[col].mode()[0], inplace = True)\n",
        "def imputeNumericMissingValuesUsingMedian(df):\n",
        "  columnName = getCnamesNumeric(df)\n",
        "  for col in columnName: df[col].fillna(df[col].median(), inplace = True)\n",
        "\n",
        "\n",
        "\n",
        "def plotCountPlotForCategoricalFeatures(df, cnamesObject):\n",
        "  number_of_rows = (len(cnamesObject) + 1)/2\n",
        "  plt.figure(figsize=(20, 6*number_of_rows))\n",
        "\n",
        "  for i in range(0,len(cnamesObject)):\n",
        "    plt.subplot(number_of_rows,2,i+1)\n",
        "    sns.countplot(y=cnamesObject[i], data = df)\n",
        "    plt.title(cnamesObject[i])\n",
        "    plt.tight_layout()\n",
        "\n",
        "def distributionOfCategoricalFeaturesWRTTarget(df, cnamesObject):\n",
        "  number_of_rows = (len(cnamesObject) + 1)/2\n",
        "  plt.figure(figsize=(20, 6*number_of_rows))\n",
        "\n",
        "  for i in range(0,len(cnamesObject)):\n",
        "    plt.subplot(number_of_rows,2,i+1)\n",
        "    sns.countplot(data=df, hue=\"TARGET\", y=cnamesObject[i])\n",
        "    plt.title(cnamesObject[i])\n",
        "    plt.tight_layout()\n",
        "\n",
        "def drawCorrelationMatrix(df) :\n",
        "  length = len(getCnamesNumeric(df))\n",
        "  correlaionMatrix = df.corr()\n",
        "  plt.figure(figsize=(length,length*0.8))\n",
        "  sns.heatmap(correlaionMatrix, annot=True, cmap = 'viridis')\n",
        "\n",
        "def drawDistributionPlot(df, cnamesNumeric):\n",
        "  number_of_rows = (len(cnamesNumeric) + 1)/2\n",
        "  plt.figure(figsize=(20, 4*number_of_rows))\n",
        "\n",
        "  for i in range(0, len(cnamesNumeric)):\n",
        "    plt.subplot(number_of_rows,3,i+1)\n",
        "    sns.kdeplot(df[cnamesNumeric[i]])\n",
        "    plt.title(cnamesNumeric[i])\n",
        "    plt.tight_layout()\n",
        "\n",
        "def corr_columnwise(df):\n",
        "  columns = df.columns\n",
        "  for col in columns:\n",
        "    at_corr_col = at_corr[col]\n",
        "    print(col+\" +ve\")\n",
        "    print(at_corr_col[at_corr_col>0.9].index.to_list())\n",
        "    print(col+\" -ve\")\n",
        "    print(at_corr_col[at_corr_col<-0.9].index.to_list())\n",
        "\n",
        "def remove_corr_columns(df,atNC,atCC,df_corr):\n",
        "  threshold = 0.9\n",
        "  columns = np.full((df_corr.shape[0],), True, dtype=bool)\n",
        "  for i in range(df_corr.shape[0]):\n",
        "      for j in range(i+1, df_corr.shape[0]):\n",
        "          if df_corr.iloc[i,j] >= threshold:\n",
        "              if columns[j]:\n",
        "                  columns[j] = False\n",
        "  x_temp=df[atNC].columns[columns].to_list()\n",
        "  return pd.concat([df[x_temp],df[atCC]],axis=1)\n",
        "\n",
        "def checkOutlier(data, cnames_numeric):\n",
        "    number_of_rows = (len(cnames_numeric) + 1)/2\n",
        "    plt.figure(figsize=(20, 4*number_of_rows))\n",
        "    \n",
        "    for i in range(0,len(cnames_numeric)):\n",
        "        plt.subplot(number_of_rows,4,i+1)\n",
        "        sns.boxplot(x=data[cnames_numeric[i]])\n",
        "        plt.title(cnames_numeric[i])\n",
        "        plt.tight_layout()\n",
        "\n",
        "def removeOutlier(data, cnamesNumeric):\n",
        "    for i in cnamesNumeric:\n",
        "        q75, q25 = np.percentile(data.loc[:,i], [75 ,25])\n",
        "        #Calculate IQR\n",
        "        iqr = q75 - q25\n",
        "        #Calculate inner and outer fence\n",
        "        minimum = q25 - (iqr*1.5)\n",
        "        maximum = q75 + (iqr*1.5)\n",
        "        #Replace with NA\n",
        "        data.loc[data.loc[:,i] < minimum,i] = np.nan\n",
        "        data.loc[data.loc[:,i] > maximum,i] = np.nan\n",
        "    imputeNumericMissingValuesUsingMean(data)\n",
        "    return data\n",
        "\n",
        "def drawPieChartForCategoricalFeatures(df, columnNames):\n",
        "  number_of_rows = int((len(columnNames) + 1)/2)\n",
        "  plt.figure(figsize=(20, 6*number_of_rows))\n",
        "\n",
        "  for i in range(0,len(columnNames)):\n",
        "    col = columnNames[i]\n",
        "    percentage = (df[col].value_counts(dropna=True, normalize=True)*100).to_list()\n",
        "    labels = list(df[col].unique())\n",
        "    labels = ['{0} - {1:1.2f} %'.format(i,j) for i,j in zip(labels, percentage)]\n",
        "    sizes = list(df[col].value_counts(dropna=True))\n",
        "    ax1 = plt.subplot(number_of_rows,2,i + 1)\n",
        "    wedges, autotexts = ax1.pie(sizes, startangle=90)\n",
        "    #ax1.axis('equal')\n",
        "\n",
        "    ax1.legend(wedges, labels,\n",
        "              title=col,\n",
        "              loc=\"center left\",\n",
        "              bbox_to_anchor=(1, 0, 0.5, 1))\n",
        "    plt.title(col)\n",
        "plt.show()\n",
        "\n",
        "def applyOneHotEncoding(df, Columns):\n",
        "  for col in Columns:\n",
        "    ohc = OneHotEncoder()\n",
        "    ohe = ohc.fit_transform(df[col].values.reshape(-1,1)).toarray()\n",
        "    dfOneHot = pd.DataFrame(ohe, columns=[col+\"_\"+str(ohc.categories_[0][i])\n",
        "                                                for i in range(len(ohc.categories_[0]))])\n",
        "    df = pd.concat([df, dfOneHot.reindex(df.index)], axis=1)\n",
        "    df = df.drop(col, axis = 1)\n",
        "  return df\n",
        "  \n",
        "def plot_feature_importances(df):\n",
        "    \n",
        "    df = df.sort_values('importance', ascending = False).reset_index()\n",
        "    df['importance_normalized'] = df['importance'] / df['importance'].sum()\n",
        "    plt.figure(figsize = (10, 6))\n",
        "    ax = plt.subplot()\n",
        "    ax.barh(list(reversed(list(df.index[:10]))), df['importance_normalized'].head(10))\n",
        "\n",
        "    ax.set_yticks(list(reversed(list(df.index[:10]))))\n",
        "    ax.set_yticklabels(df['feature'].head(10))\n",
        "  \n",
        "    plt.xlabel('Percentage'); plt.title('Feature Importances')\n",
        "    plt.show()\n",
        "    \n",
        "    return df"
      ],
      "execution_count": null,
      "outputs": []
    },
    {
      "cell_type": "code",
      "metadata": {
        "id": "4WubALaUTijo"
      },
      "source": [
        "def makereadyforjoin(df):\r\n",
        "  temp = df['SK_ID_CURR']\r\n",
        "  df=df[getCnamesNumeric(df)]\r\n",
        "  df['SK_ID_CURR']=temp\r\n",
        "  df=df.groupby('SK_ID_CURR').agg(['mean','max','sum','var','median'])\r\n",
        "  df.reset_index(inplace=True)\r\n",
        "  df.columns = pd.Index([e[0] + \"_\" + e[1].upper() for e in df.columns.tolist()])\r\n",
        "  df.rename(columns={'SK_ID_CURR_':'SK_ID_CURR'}, inplace=True)\r\n",
        "  return df"
      ],
      "execution_count": null,
      "outputs": []
    },
    {
      "cell_type": "code",
      "metadata": {
        "id": "VJ808CJsVzbU"
      },
      "source": [
        "prev_application = makereadyforjoin(prev_application)"
      ],
      "execution_count": null,
      "outputs": []
    },
    {
      "cell_type": "code",
      "metadata": {
        "id": "Fx-NUDXTW-oH"
      },
      "source": [
        "credit_bal = makereadyforjoin(credit_bal)"
      ],
      "execution_count": null,
      "outputs": []
    },
    {
      "cell_type": "code",
      "metadata": {
        "id": "2qG_2kSgXGhS"
      },
      "source": [
        "pos_bal = makereadyforjoin(pos_bal)"
      ],
      "execution_count": null,
      "outputs": []
    },
    {
      "cell_type": "code",
      "metadata": {
        "id": "YU13s6adXLar"
      },
      "source": [
        "installment_payments = makereadyforjoin(installment_payments)"
      ],
      "execution_count": null,
      "outputs": []
    },
    {
      "cell_type": "code",
      "metadata": {
        "id": "Pertr_sBTCgL"
      },
      "source": [
        "application_train = application_train.merge(right=prev_application, how='left', on='SK_ID_CURR')\r\n",
        "application_test = application_test.merge(right=prev_application, how='left', on='SK_ID_CURR')"
      ],
      "execution_count": null,
      "outputs": []
    },
    {
      "cell_type": "code",
      "metadata": {
        "id": "MXwtxVC1UtND"
      },
      "source": [
        "application_train = application_train.merge(right=credit_bal, how='left', on='SK_ID_CURR')\r\n",
        "application_test = application_test.merge(right=credit_bal, how='left', on='SK_ID_CURR')"
      ],
      "execution_count": null,
      "outputs": []
    },
    {
      "cell_type": "code",
      "metadata": {
        "id": "lHgIkcxpaEzJ"
      },
      "source": [
        "application_train = application_train.merge(right=pos_bal, how='left', on='SK_ID_CURR')\r\n",
        "application_test = application_test.merge(right=pos_bal, how='left', on='SK_ID_CURR')"
      ],
      "execution_count": null,
      "outputs": []
    },
    {
      "cell_type": "code",
      "metadata": {
        "id": "9LlvhLeIaHmV"
      },
      "source": [
        "application_train = application_train.merge(right=installment_payments, how='left', on='SK_ID_CURR')\r\n",
        "application_test = application_test.merge(right=installment_payments, how='left', on='SK_ID_CURR')"
      ],
      "execution_count": null,
      "outputs": []
    },
    {
      "cell_type": "code",
      "metadata": {
        "id": "ns6MKJlpr0U8"
      },
      "source": [
        "agg = {'MONTHS_BALANCE': ['min', 'max','size','mean','var','median']}\n",
        "bur_bal = bur_bal.groupby('SK_ID_BUREAU').agg(agg)\n",
        "bur_bal.columns = pd.Index([e[0] + \"_\" + e[1].upper() for e in bur_bal.columns.tolist()])\n",
        "bur_bal = bur.join(bur_bal, how='left', on='SK_ID_BUREAU')\n",
        "bur_bal.drop(columns= 'SK_ID_BUREAU', inplace= True) \n",
        "temp = bur_bal['SK_ID_CURR']\n",
        "bur_bal = bur_bal[getCnamesNumeric(bur_bal)]\n",
        "bur_bal['SK_ID_CURR']=temp \n",
        "bur_bal = bur_bal.groupby('SK_ID_CURR').agg(['min', 'max','size','mean','var','median'])\n",
        "bur_bal.reset_index(inplace=True)\n",
        "bur_bal.columns = pd.Index(['BUR_' + e[0] + \"_\" + e[1].upper() for e in bur_bal.columns.tolist()])\n",
        "bur_bal.head() \n",
        "bur_bal['SK_ID_CURR']=bur_bal['BUR_SK_ID_CURR_']\n",
        "bur_bal.drop('BUR_SK_ID_CURR_',axis=1,inplace=True) \n",
        "application_train = application_train.merge(right=bur_bal, how='left', on='SK_ID_CURR')\n",
        "application_test = application_test.merge(right=bur_bal, how='left', on='SK_ID_CURR') "
      ],
      "execution_count": null,
      "outputs": []
    },
    {
      "cell_type": "code",
      "metadata": {
        "colab": {
          "base_uri": "https://localhost:8080/"
        },
        "id": "q6Wo_ZlcMRl5",
        "outputId": "1536e805-a08c-4792-999e-c6a0b678c1dd"
      },
      "source": [
        "\r\n",
        "del application_train['SK_ID_CURR']\r\n",
        "del application_test['SK_ID_CURR']\r\n",
        "del credit_bal\r\n",
        "del pos_bal\r\n",
        "del installment_payments\r\n",
        "del prev_application\r\n",
        "gc.enable()\r\n",
        "gc.collect()"
      ],
      "execution_count": null,
      "outputs": [
        {
          "output_type": "execute_result",
          "data": {
            "text/plain": [
              "0"
            ]
          },
          "metadata": {
            "tags": []
          },
          "execution_count": 42
        }
      ]
    },
    {
      "cell_type": "code",
      "metadata": {
        "colab": {
          "base_uri": "https://localhost:8080/",
          "height": 338
        },
        "id": "-nrP5KK4o9xN",
        "outputId": "7775cfe8-78e6-4e1e-b708-0499100b2e2c"
      },
      "source": [
        "application_train.head()"
      ],
      "execution_count": null,
      "outputs": [
        {
          "output_type": "execute_result",
          "data": {
            "text/html": [
              "<div>\n",
              "<style scoped>\n",
              "    .dataframe tbody tr th:only-of-type {\n",
              "        vertical-align: middle;\n",
              "    }\n",
              "\n",
              "    .dataframe tbody tr th {\n",
              "        vertical-align: top;\n",
              "    }\n",
              "\n",
              "    .dataframe thead th {\n",
              "        text-align: right;\n",
              "    }\n",
              "</style>\n",
              "<table border=\"1\" class=\"dataframe\">\n",
              "  <thead>\n",
              "    <tr style=\"text-align: right;\">\n",
              "      <th></th>\n",
              "      <th>TARGET</th>\n",
              "      <th>NAME_CONTRACT_TYPE</th>\n",
              "      <th>CODE_GENDER</th>\n",
              "      <th>FLAG_OWN_CAR</th>\n",
              "      <th>FLAG_OWN_REALTY</th>\n",
              "      <th>CNT_CHILDREN</th>\n",
              "      <th>AMT_INCOME_TOTAL</th>\n",
              "      <th>AMT_CREDIT</th>\n",
              "      <th>AMT_ANNUITY</th>\n",
              "      <th>AMT_GOODS_PRICE</th>\n",
              "      <th>NAME_TYPE_SUITE</th>\n",
              "      <th>NAME_INCOME_TYPE</th>\n",
              "      <th>NAME_EDUCATION_TYPE</th>\n",
              "      <th>NAME_FAMILY_STATUS</th>\n",
              "      <th>NAME_HOUSING_TYPE</th>\n",
              "      <th>REGION_POPULATION_RELATIVE</th>\n",
              "      <th>DAYS_BIRTH</th>\n",
              "      <th>DAYS_EMPLOYED</th>\n",
              "      <th>DAYS_REGISTRATION</th>\n",
              "      <th>DAYS_ID_PUBLISH</th>\n",
              "      <th>OWN_CAR_AGE</th>\n",
              "      <th>FLAG_MOBIL</th>\n",
              "      <th>FLAG_EMP_PHONE</th>\n",
              "      <th>FLAG_WORK_PHONE</th>\n",
              "      <th>FLAG_CONT_MOBILE</th>\n",
              "      <th>FLAG_PHONE</th>\n",
              "      <th>FLAG_EMAIL</th>\n",
              "      <th>OCCUPATION_TYPE</th>\n",
              "      <th>CNT_FAM_MEMBERS</th>\n",
              "      <th>REGION_RATING_CLIENT</th>\n",
              "      <th>REGION_RATING_CLIENT_W_CITY</th>\n",
              "      <th>WEEKDAY_APPR_PROCESS_START</th>\n",
              "      <th>HOUR_APPR_PROCESS_START</th>\n",
              "      <th>REG_REGION_NOT_LIVE_REGION</th>\n",
              "      <th>REG_REGION_NOT_WORK_REGION</th>\n",
              "      <th>LIVE_REGION_NOT_WORK_REGION</th>\n",
              "      <th>REG_CITY_NOT_LIVE_CITY</th>\n",
              "      <th>REG_CITY_NOT_WORK_CITY</th>\n",
              "      <th>LIVE_CITY_NOT_WORK_CITY</th>\n",
              "      <th>ORGANIZATION_TYPE</th>\n",
              "      <th>...</th>\n",
              "      <th>BUR_AMT_ANNUITY_SIZE</th>\n",
              "      <th>BUR_AMT_ANNUITY_MEAN</th>\n",
              "      <th>BUR_AMT_ANNUITY_VAR</th>\n",
              "      <th>BUR_AMT_ANNUITY_MEDIAN</th>\n",
              "      <th>BUR_MONTHS_BALANCE_MIN_MIN</th>\n",
              "      <th>BUR_MONTHS_BALANCE_MIN_MAX</th>\n",
              "      <th>BUR_MONTHS_BALANCE_MIN_SIZE</th>\n",
              "      <th>BUR_MONTHS_BALANCE_MIN_MEAN</th>\n",
              "      <th>BUR_MONTHS_BALANCE_MIN_VAR</th>\n",
              "      <th>BUR_MONTHS_BALANCE_MIN_MEDIAN</th>\n",
              "      <th>BUR_MONTHS_BALANCE_MAX_MIN</th>\n",
              "      <th>BUR_MONTHS_BALANCE_MAX_MAX</th>\n",
              "      <th>BUR_MONTHS_BALANCE_MAX_SIZE</th>\n",
              "      <th>BUR_MONTHS_BALANCE_MAX_MEAN</th>\n",
              "      <th>BUR_MONTHS_BALANCE_MAX_VAR</th>\n",
              "      <th>BUR_MONTHS_BALANCE_MAX_MEDIAN</th>\n",
              "      <th>BUR_MONTHS_BALANCE_SIZE_MIN</th>\n",
              "      <th>BUR_MONTHS_BALANCE_SIZE_MAX</th>\n",
              "      <th>BUR_MONTHS_BALANCE_SIZE_SIZE</th>\n",
              "      <th>BUR_MONTHS_BALANCE_SIZE_MEAN</th>\n",
              "      <th>BUR_MONTHS_BALANCE_SIZE_VAR</th>\n",
              "      <th>BUR_MONTHS_BALANCE_SIZE_MEDIAN</th>\n",
              "      <th>BUR_MONTHS_BALANCE_MEAN_MIN</th>\n",
              "      <th>BUR_MONTHS_BALANCE_MEAN_MAX</th>\n",
              "      <th>BUR_MONTHS_BALANCE_MEAN_SIZE</th>\n",
              "      <th>BUR_MONTHS_BALANCE_MEAN_MEAN</th>\n",
              "      <th>BUR_MONTHS_BALANCE_MEAN_VAR</th>\n",
              "      <th>BUR_MONTHS_BALANCE_MEAN_MEDIAN</th>\n",
              "      <th>BUR_MONTHS_BALANCE_VAR_MIN</th>\n",
              "      <th>BUR_MONTHS_BALANCE_VAR_MAX</th>\n",
              "      <th>BUR_MONTHS_BALANCE_VAR_SIZE</th>\n",
              "      <th>BUR_MONTHS_BALANCE_VAR_MEAN</th>\n",
              "      <th>BUR_MONTHS_BALANCE_VAR_VAR</th>\n",
              "      <th>BUR_MONTHS_BALANCE_VAR_MEDIAN</th>\n",
              "      <th>BUR_MONTHS_BALANCE_MEDIAN_MIN</th>\n",
              "      <th>BUR_MONTHS_BALANCE_MEDIAN_MAX</th>\n",
              "      <th>BUR_MONTHS_BALANCE_MEDIAN_SIZE</th>\n",
              "      <th>BUR_MONTHS_BALANCE_MEDIAN_MEAN</th>\n",
              "      <th>BUR_MONTHS_BALANCE_MEDIAN_VAR</th>\n",
              "      <th>BUR_MONTHS_BALANCE_MEDIAN_MEDIAN</th>\n",
              "    </tr>\n",
              "  </thead>\n",
              "  <tbody>\n",
              "    <tr>\n",
              "      <th>0</th>\n",
              "      <td>0</td>\n",
              "      <td>Cash loans</td>\n",
              "      <td>M</td>\n",
              "      <td>N</td>\n",
              "      <td>Y</td>\n",
              "      <td>0</td>\n",
              "      <td>360000.0</td>\n",
              "      <td>1125000.0</td>\n",
              "      <td>33025.5</td>\n",
              "      <td>1125000.0</td>\n",
              "      <td>Spouse, partner</td>\n",
              "      <td>Commercial associate</td>\n",
              "      <td>Higher education</td>\n",
              "      <td>Married</td>\n",
              "      <td>House / apartment</td>\n",
              "      <td>0.022797</td>\n",
              "      <td>-18943</td>\n",
              "      <td>-7369</td>\n",
              "      <td>-2352.0</td>\n",
              "      <td>-2479</td>\n",
              "      <td>NaN</td>\n",
              "      <td>1</td>\n",
              "      <td>1</td>\n",
              "      <td>0</td>\n",
              "      <td>1</td>\n",
              "      <td>0</td>\n",
              "      <td>0</td>\n",
              "      <td>Managers</td>\n",
              "      <td>2.0</td>\n",
              "      <td>2</td>\n",
              "      <td>2</td>\n",
              "      <td>WEDNESDAY</td>\n",
              "      <td>11</td>\n",
              "      <td>0</td>\n",
              "      <td>0</td>\n",
              "      <td>0</td>\n",
              "      <td>0</td>\n",
              "      <td>1</td>\n",
              "      <td>1</td>\n",
              "      <td>Other</td>\n",
              "      <td>...</td>\n",
              "      <td>NaN</td>\n",
              "      <td>NaN</td>\n",
              "      <td>NaN</td>\n",
              "      <td>NaN</td>\n",
              "      <td>NaN</td>\n",
              "      <td>NaN</td>\n",
              "      <td>NaN</td>\n",
              "      <td>NaN</td>\n",
              "      <td>NaN</td>\n",
              "      <td>NaN</td>\n",
              "      <td>NaN</td>\n",
              "      <td>NaN</td>\n",
              "      <td>NaN</td>\n",
              "      <td>NaN</td>\n",
              "      <td>NaN</td>\n",
              "      <td>NaN</td>\n",
              "      <td>NaN</td>\n",
              "      <td>NaN</td>\n",
              "      <td>NaN</td>\n",
              "      <td>NaN</td>\n",
              "      <td>NaN</td>\n",
              "      <td>NaN</td>\n",
              "      <td>NaN</td>\n",
              "      <td>NaN</td>\n",
              "      <td>NaN</td>\n",
              "      <td>NaN</td>\n",
              "      <td>NaN</td>\n",
              "      <td>NaN</td>\n",
              "      <td>NaN</td>\n",
              "      <td>NaN</td>\n",
              "      <td>NaN</td>\n",
              "      <td>NaN</td>\n",
              "      <td>NaN</td>\n",
              "      <td>NaN</td>\n",
              "      <td>NaN</td>\n",
              "      <td>NaN</td>\n",
              "      <td>NaN</td>\n",
              "      <td>NaN</td>\n",
              "      <td>NaN</td>\n",
              "      <td>NaN</td>\n",
              "    </tr>\n",
              "    <tr>\n",
              "      <th>1</th>\n",
              "      <td>0</td>\n",
              "      <td>Cash loans</td>\n",
              "      <td>F</td>\n",
              "      <td>N</td>\n",
              "      <td>Y</td>\n",
              "      <td>0</td>\n",
              "      <td>112500.0</td>\n",
              "      <td>251280.0</td>\n",
              "      <td>13630.5</td>\n",
              "      <td>180000.0</td>\n",
              "      <td>Family</td>\n",
              "      <td>Working</td>\n",
              "      <td>Secondary / secondary special</td>\n",
              "      <td>Married</td>\n",
              "      <td>House / apartment</td>\n",
              "      <td>0.022629</td>\n",
              "      <td>-13894</td>\n",
              "      <td>-1393</td>\n",
              "      <td>-5696.0</td>\n",
              "      <td>-5698</td>\n",
              "      <td>NaN</td>\n",
              "      <td>1</td>\n",
              "      <td>1</td>\n",
              "      <td>0</td>\n",
              "      <td>1</td>\n",
              "      <td>0</td>\n",
              "      <td>0</td>\n",
              "      <td>Sales staff</td>\n",
              "      <td>2.0</td>\n",
              "      <td>2</td>\n",
              "      <td>2</td>\n",
              "      <td>WEDNESDAY</td>\n",
              "      <td>14</td>\n",
              "      <td>0</td>\n",
              "      <td>0</td>\n",
              "      <td>0</td>\n",
              "      <td>0</td>\n",
              "      <td>0</td>\n",
              "      <td>0</td>\n",
              "      <td>Self-employed</td>\n",
              "      <td>...</td>\n",
              "      <td>4.0</td>\n",
              "      <td>NaN</td>\n",
              "      <td>NaN</td>\n",
              "      <td>NaN</td>\n",
              "      <td>NaN</td>\n",
              "      <td>NaN</td>\n",
              "      <td>4.0</td>\n",
              "      <td>NaN</td>\n",
              "      <td>NaN</td>\n",
              "      <td>NaN</td>\n",
              "      <td>NaN</td>\n",
              "      <td>NaN</td>\n",
              "      <td>4.0</td>\n",
              "      <td>NaN</td>\n",
              "      <td>NaN</td>\n",
              "      <td>NaN</td>\n",
              "      <td>NaN</td>\n",
              "      <td>NaN</td>\n",
              "      <td>4.0</td>\n",
              "      <td>NaN</td>\n",
              "      <td>NaN</td>\n",
              "      <td>NaN</td>\n",
              "      <td>NaN</td>\n",
              "      <td>NaN</td>\n",
              "      <td>4.0</td>\n",
              "      <td>NaN</td>\n",
              "      <td>NaN</td>\n",
              "      <td>NaN</td>\n",
              "      <td>NaN</td>\n",
              "      <td>NaN</td>\n",
              "      <td>4.0</td>\n",
              "      <td>NaN</td>\n",
              "      <td>NaN</td>\n",
              "      <td>NaN</td>\n",
              "      <td>NaN</td>\n",
              "      <td>NaN</td>\n",
              "      <td>4.0</td>\n",
              "      <td>NaN</td>\n",
              "      <td>NaN</td>\n",
              "      <td>NaN</td>\n",
              "    </tr>\n",
              "    <tr>\n",
              "      <th>2</th>\n",
              "      <td>0</td>\n",
              "      <td>Cash loans</td>\n",
              "      <td>F</td>\n",
              "      <td>N</td>\n",
              "      <td>Y</td>\n",
              "      <td>0</td>\n",
              "      <td>225000.0</td>\n",
              "      <td>544491.0</td>\n",
              "      <td>15916.5</td>\n",
              "      <td>454500.0</td>\n",
              "      <td>Unaccompanied</td>\n",
              "      <td>Commercial associate</td>\n",
              "      <td>Secondary / secondary special</td>\n",
              "      <td>Civil marriage</td>\n",
              "      <td>House / apartment</td>\n",
              "      <td>0.035797</td>\n",
              "      <td>-19821</td>\n",
              "      <td>-2075</td>\n",
              "      <td>-2120.0</td>\n",
              "      <td>-3379</td>\n",
              "      <td>NaN</td>\n",
              "      <td>1</td>\n",
              "      <td>1</td>\n",
              "      <td>1</td>\n",
              "      <td>1</td>\n",
              "      <td>0</td>\n",
              "      <td>0</td>\n",
              "      <td>Sales staff</td>\n",
              "      <td>2.0</td>\n",
              "      <td>2</td>\n",
              "      <td>2</td>\n",
              "      <td>WEDNESDAY</td>\n",
              "      <td>16</td>\n",
              "      <td>0</td>\n",
              "      <td>0</td>\n",
              "      <td>0</td>\n",
              "      <td>0</td>\n",
              "      <td>0</td>\n",
              "      <td>0</td>\n",
              "      <td>Hotel</td>\n",
              "      <td>...</td>\n",
              "      <td>4.0</td>\n",
              "      <td>0.0</td>\n",
              "      <td>0.0</td>\n",
              "      <td>0.0</td>\n",
              "      <td>-91.0</td>\n",
              "      <td>-1.0</td>\n",
              "      <td>4.0</td>\n",
              "      <td>-45.75</td>\n",
              "      <td>2554.25</td>\n",
              "      <td>-45.5</td>\n",
              "      <td>-89.0</td>\n",
              "      <td>0.0</td>\n",
              "      <td>4.0</td>\n",
              "      <td>-44.0</td>\n",
              "      <td>2524.666667</td>\n",
              "      <td>-43.5</td>\n",
              "      <td>2.0</td>\n",
              "      <td>3.0</td>\n",
              "      <td>4.0</td>\n",
              "      <td>2.75</td>\n",
              "      <td>0.25</td>\n",
              "      <td>3.0</td>\n",
              "      <td>-90.0</td>\n",
              "      <td>-0.5</td>\n",
              "      <td>4.0</td>\n",
              "      <td>-44.875</td>\n",
              "      <td>2539.395833</td>\n",
              "      <td>-44.5</td>\n",
              "      <td>0.5</td>\n",
              "      <td>1.0</td>\n",
              "      <td>4.0</td>\n",
              "      <td>0.875</td>\n",
              "      <td>0.0625</td>\n",
              "      <td>1.0</td>\n",
              "      <td>-90.0</td>\n",
              "      <td>-0.5</td>\n",
              "      <td>4.0</td>\n",
              "      <td>-44.875</td>\n",
              "      <td>2539.395833</td>\n",
              "      <td>-44.5</td>\n",
              "    </tr>\n",
              "    <tr>\n",
              "      <th>3</th>\n",
              "      <td>0</td>\n",
              "      <td>Cash loans</td>\n",
              "      <td>F</td>\n",
              "      <td>N</td>\n",
              "      <td>N</td>\n",
              "      <td>2</td>\n",
              "      <td>211500.0</td>\n",
              "      <td>900000.0</td>\n",
              "      <td>26316.0</td>\n",
              "      <td>900000.0</td>\n",
              "      <td>Unaccompanied</td>\n",
              "      <td>Working</td>\n",
              "      <td>Secondary / secondary special</td>\n",
              "      <td>Married</td>\n",
              "      <td>House / apartment</td>\n",
              "      <td>0.006207</td>\n",
              "      <td>-13034</td>\n",
              "      <td>-2205</td>\n",
              "      <td>-1193.0</td>\n",
              "      <td>-4141</td>\n",
              "      <td>NaN</td>\n",
              "      <td>1</td>\n",
              "      <td>1</td>\n",
              "      <td>1</td>\n",
              "      <td>1</td>\n",
              "      <td>0</td>\n",
              "      <td>0</td>\n",
              "      <td>Laborers</td>\n",
              "      <td>4.0</td>\n",
              "      <td>2</td>\n",
              "      <td>2</td>\n",
              "      <td>THURSDAY</td>\n",
              "      <td>17</td>\n",
              "      <td>0</td>\n",
              "      <td>0</td>\n",
              "      <td>0</td>\n",
              "      <td>0</td>\n",
              "      <td>0</td>\n",
              "      <td>0</td>\n",
              "      <td>Industry: type 3</td>\n",
              "      <td>...</td>\n",
              "      <td>5.0</td>\n",
              "      <td>NaN</td>\n",
              "      <td>NaN</td>\n",
              "      <td>NaN</td>\n",
              "      <td>NaN</td>\n",
              "      <td>NaN</td>\n",
              "      <td>5.0</td>\n",
              "      <td>NaN</td>\n",
              "      <td>NaN</td>\n",
              "      <td>NaN</td>\n",
              "      <td>NaN</td>\n",
              "      <td>NaN</td>\n",
              "      <td>5.0</td>\n",
              "      <td>NaN</td>\n",
              "      <td>NaN</td>\n",
              "      <td>NaN</td>\n",
              "      <td>NaN</td>\n",
              "      <td>NaN</td>\n",
              "      <td>5.0</td>\n",
              "      <td>NaN</td>\n",
              "      <td>NaN</td>\n",
              "      <td>NaN</td>\n",
              "      <td>NaN</td>\n",
              "      <td>NaN</td>\n",
              "      <td>5.0</td>\n",
              "      <td>NaN</td>\n",
              "      <td>NaN</td>\n",
              "      <td>NaN</td>\n",
              "      <td>NaN</td>\n",
              "      <td>NaN</td>\n",
              "      <td>5.0</td>\n",
              "      <td>NaN</td>\n",
              "      <td>NaN</td>\n",
              "      <td>NaN</td>\n",
              "      <td>NaN</td>\n",
              "      <td>NaN</td>\n",
              "      <td>5.0</td>\n",
              "      <td>NaN</td>\n",
              "      <td>NaN</td>\n",
              "      <td>NaN</td>\n",
              "    </tr>\n",
              "    <tr>\n",
              "      <th>4</th>\n",
              "      <td>1</td>\n",
              "      <td>Cash loans</td>\n",
              "      <td>F</td>\n",
              "      <td>N</td>\n",
              "      <td>Y</td>\n",
              "      <td>0</td>\n",
              "      <td>90000.0</td>\n",
              "      <td>113760.0</td>\n",
              "      <td>8406.0</td>\n",
              "      <td>90000.0</td>\n",
              "      <td>Unaccompanied</td>\n",
              "      <td>Working</td>\n",
              "      <td>Secondary / secondary special</td>\n",
              "      <td>Married</td>\n",
              "      <td>House / apartment</td>\n",
              "      <td>0.020706</td>\n",
              "      <td>-18393</td>\n",
              "      <td>-1694</td>\n",
              "      <td>-8280.0</td>\n",
              "      <td>-1890</td>\n",
              "      <td>NaN</td>\n",
              "      <td>1</td>\n",
              "      <td>1</td>\n",
              "      <td>1</td>\n",
              "      <td>1</td>\n",
              "      <td>0</td>\n",
              "      <td>0</td>\n",
              "      <td>Sales staff</td>\n",
              "      <td>2.0</td>\n",
              "      <td>3</td>\n",
              "      <td>3</td>\n",
              "      <td>SATURDAY</td>\n",
              "      <td>12</td>\n",
              "      <td>0</td>\n",
              "      <td>0</td>\n",
              "      <td>0</td>\n",
              "      <td>0</td>\n",
              "      <td>0</td>\n",
              "      <td>0</td>\n",
              "      <td>Self-employed</td>\n",
              "      <td>...</td>\n",
              "      <td>1.0</td>\n",
              "      <td>NaN</td>\n",
              "      <td>NaN</td>\n",
              "      <td>NaN</td>\n",
              "      <td>NaN</td>\n",
              "      <td>NaN</td>\n",
              "      <td>1.0</td>\n",
              "      <td>NaN</td>\n",
              "      <td>NaN</td>\n",
              "      <td>NaN</td>\n",
              "      <td>NaN</td>\n",
              "      <td>NaN</td>\n",
              "      <td>1.0</td>\n",
              "      <td>NaN</td>\n",
              "      <td>NaN</td>\n",
              "      <td>NaN</td>\n",
              "      <td>NaN</td>\n",
              "      <td>NaN</td>\n",
              "      <td>1.0</td>\n",
              "      <td>NaN</td>\n",
              "      <td>NaN</td>\n",
              "      <td>NaN</td>\n",
              "      <td>NaN</td>\n",
              "      <td>NaN</td>\n",
              "      <td>1.0</td>\n",
              "      <td>NaN</td>\n",
              "      <td>NaN</td>\n",
              "      <td>NaN</td>\n",
              "      <td>NaN</td>\n",
              "      <td>NaN</td>\n",
              "      <td>1.0</td>\n",
              "      <td>NaN</td>\n",
              "      <td>NaN</td>\n",
              "      <td>NaN</td>\n",
              "      <td>NaN</td>\n",
              "      <td>NaN</td>\n",
              "      <td>1.0</td>\n",
              "      <td>NaN</td>\n",
              "      <td>NaN</td>\n",
              "      <td>NaN</td>\n",
              "    </tr>\n",
              "  </tbody>\n",
              "</table>\n",
              "<p>5 rows × 479 columns</p>\n",
              "</div>"
            ],
            "text/plain": [
              "   TARGET  ... BUR_MONTHS_BALANCE_MEDIAN_MEDIAN\n",
              "0       0  ...                              NaN\n",
              "1       0  ...                              NaN\n",
              "2       0  ...                            -44.5\n",
              "3       0  ...                              NaN\n",
              "4       1  ...                              NaN\n",
              "\n",
              "[5 rows x 479 columns]"
            ]
          },
          "metadata": {
            "tags": []
          },
          "execution_count": 43
        }
      ]
    },
    {
      "cell_type": "code",
      "metadata": {
        "id": "feXrCX4k22Zr"
      },
      "source": [
        "application_train['INCOME_CREDIT_PERC'] = application_train['AMT_INCOME_TOTAL'] / application_train['AMT_CREDIT']\n",
        "application_train['INCOME_PER_PERSON'] = application_train['AMT_INCOME_TOTAL'] / application_train['CNT_FAM_MEMBERS']\n",
        "application_train['ANNUITY_INCOME_PERC'] = application_train['AMT_ANNUITY'] / application_train['AMT_INCOME_TOTAL']\n",
        "application_train['LOAN_INCOME_RATIO'] = application_train['AMT_CREDIT'] / application_train['AMT_INCOME_TOTAL']\n",
        "application_train['CONSUMER_GOODS_RATIO'] = application_train['AMT_CREDIT'] / application_train['AMT_GOODS_PRICE']\n",
        "application_train['ANNUITY LENGTH'] = application_train['AMT_CREDIT'] / application_train['AMT_ANNUITY'] "
      ],
      "execution_count": null,
      "outputs": []
    },
    {
      "cell_type": "code",
      "metadata": {
        "id": "D98GlNfX3Fr7"
      },
      "source": [
        "application_test['INCOME_CREDIT_PERC'] = application_test['AMT_INCOME_TOTAL'] / application_test['AMT_CREDIT']\n",
        "application_test['INCOME_PER_PERSON'] = application_test['AMT_INCOME_TOTAL'] / application_test['CNT_FAM_MEMBERS']\n",
        "application_test['ANNUITY_INCOME_PERC'] = application_test['AMT_ANNUITY'] / application_test['AMT_INCOME_TOTAL']\n",
        "application_test['LOAN_INCOME_RATIO'] = application_test['AMT_CREDIT'] / application_test['AMT_INCOME_TOTAL']\n",
        "application_test['CONSUMER_GOODS_RATIO'] = application_test['AMT_CREDIT'] / application_test['AMT_GOODS_PRICE']\n",
        "application_test['ANNUITY LENGTH'] = application_test['AMT_CREDIT'] / application_test['AMT_ANNUITY'] "
      ],
      "execution_count": null,
      "outputs": []
    },
    {
      "cell_type": "code",
      "metadata": {
        "colab": {
          "base_uri": "https://localhost:8080/",
          "height": 363
        },
        "id": "dolnThWdpj8w",
        "outputId": "ac508f8c-224c-44e4-e43d-a28d963e6a2f"
      },
      "source": [
        "application_train.describe()"
      ],
      "execution_count": null,
      "outputs": [
        {
          "output_type": "execute_result",
          "data": {
            "text/html": [
              "<div>\n",
              "<style scoped>\n",
              "    .dataframe tbody tr th:only-of-type {\n",
              "        vertical-align: middle;\n",
              "    }\n",
              "\n",
              "    .dataframe tbody tr th {\n",
              "        vertical-align: top;\n",
              "    }\n",
              "\n",
              "    .dataframe thead th {\n",
              "        text-align: right;\n",
              "    }\n",
              "</style>\n",
              "<table border=\"1\" class=\"dataframe\">\n",
              "  <thead>\n",
              "    <tr style=\"text-align: right;\">\n",
              "      <th></th>\n",
              "      <th>TARGET</th>\n",
              "      <th>CNT_CHILDREN</th>\n",
              "      <th>AMT_INCOME_TOTAL</th>\n",
              "      <th>AMT_CREDIT</th>\n",
              "      <th>AMT_ANNUITY</th>\n",
              "      <th>AMT_GOODS_PRICE</th>\n",
              "      <th>REGION_POPULATION_RELATIVE</th>\n",
              "      <th>DAYS_BIRTH</th>\n",
              "      <th>DAYS_EMPLOYED</th>\n",
              "      <th>DAYS_REGISTRATION</th>\n",
              "      <th>DAYS_ID_PUBLISH</th>\n",
              "      <th>OWN_CAR_AGE</th>\n",
              "      <th>FLAG_MOBIL</th>\n",
              "      <th>FLAG_EMP_PHONE</th>\n",
              "      <th>FLAG_WORK_PHONE</th>\n",
              "      <th>FLAG_CONT_MOBILE</th>\n",
              "      <th>FLAG_PHONE</th>\n",
              "      <th>FLAG_EMAIL</th>\n",
              "      <th>CNT_FAM_MEMBERS</th>\n",
              "      <th>REGION_RATING_CLIENT</th>\n",
              "      <th>REGION_RATING_CLIENT_W_CITY</th>\n",
              "      <th>HOUR_APPR_PROCESS_START</th>\n",
              "      <th>REG_REGION_NOT_LIVE_REGION</th>\n",
              "      <th>REG_REGION_NOT_WORK_REGION</th>\n",
              "      <th>LIVE_REGION_NOT_WORK_REGION</th>\n",
              "      <th>REG_CITY_NOT_LIVE_CITY</th>\n",
              "      <th>REG_CITY_NOT_WORK_CITY</th>\n",
              "      <th>LIVE_CITY_NOT_WORK_CITY</th>\n",
              "      <th>EXT_SOURCE_1</th>\n",
              "      <th>EXT_SOURCE_2</th>\n",
              "      <th>EXT_SOURCE_3</th>\n",
              "      <th>APARTMENTS_AVG</th>\n",
              "      <th>BASEMENTAREA_AVG</th>\n",
              "      <th>YEARS_BEGINEXPLUATATION_AVG</th>\n",
              "      <th>YEARS_BUILD_AVG</th>\n",
              "      <th>COMMONAREA_AVG</th>\n",
              "      <th>ELEVATORS_AVG</th>\n",
              "      <th>ENTRANCES_AVG</th>\n",
              "      <th>FLOORSMAX_AVG</th>\n",
              "      <th>FLOORSMIN_AVG</th>\n",
              "      <th>...</th>\n",
              "      <th>BUR_MONTHS_BALANCE_MIN_SIZE</th>\n",
              "      <th>BUR_MONTHS_BALANCE_MIN_MEAN</th>\n",
              "      <th>BUR_MONTHS_BALANCE_MIN_VAR</th>\n",
              "      <th>BUR_MONTHS_BALANCE_MIN_MEDIAN</th>\n",
              "      <th>BUR_MONTHS_BALANCE_MAX_MIN</th>\n",
              "      <th>BUR_MONTHS_BALANCE_MAX_MAX</th>\n",
              "      <th>BUR_MONTHS_BALANCE_MAX_SIZE</th>\n",
              "      <th>BUR_MONTHS_BALANCE_MAX_MEAN</th>\n",
              "      <th>BUR_MONTHS_BALANCE_MAX_VAR</th>\n",
              "      <th>BUR_MONTHS_BALANCE_MAX_MEDIAN</th>\n",
              "      <th>BUR_MONTHS_BALANCE_SIZE_MIN</th>\n",
              "      <th>BUR_MONTHS_BALANCE_SIZE_MAX</th>\n",
              "      <th>BUR_MONTHS_BALANCE_SIZE_SIZE</th>\n",
              "      <th>BUR_MONTHS_BALANCE_SIZE_MEAN</th>\n",
              "      <th>BUR_MONTHS_BALANCE_SIZE_VAR</th>\n",
              "      <th>BUR_MONTHS_BALANCE_SIZE_MEDIAN</th>\n",
              "      <th>BUR_MONTHS_BALANCE_MEAN_MIN</th>\n",
              "      <th>BUR_MONTHS_BALANCE_MEAN_MAX</th>\n",
              "      <th>BUR_MONTHS_BALANCE_MEAN_SIZE</th>\n",
              "      <th>BUR_MONTHS_BALANCE_MEAN_MEAN</th>\n",
              "      <th>BUR_MONTHS_BALANCE_MEAN_VAR</th>\n",
              "      <th>BUR_MONTHS_BALANCE_MEAN_MEDIAN</th>\n",
              "      <th>BUR_MONTHS_BALANCE_VAR_MIN</th>\n",
              "      <th>BUR_MONTHS_BALANCE_VAR_MAX</th>\n",
              "      <th>BUR_MONTHS_BALANCE_VAR_SIZE</th>\n",
              "      <th>BUR_MONTHS_BALANCE_VAR_MEAN</th>\n",
              "      <th>BUR_MONTHS_BALANCE_VAR_VAR</th>\n",
              "      <th>BUR_MONTHS_BALANCE_VAR_MEDIAN</th>\n",
              "      <th>BUR_MONTHS_BALANCE_MEDIAN_MIN</th>\n",
              "      <th>BUR_MONTHS_BALANCE_MEDIAN_MAX</th>\n",
              "      <th>BUR_MONTHS_BALANCE_MEDIAN_SIZE</th>\n",
              "      <th>BUR_MONTHS_BALANCE_MEDIAN_MEAN</th>\n",
              "      <th>BUR_MONTHS_BALANCE_MEDIAN_VAR</th>\n",
              "      <th>BUR_MONTHS_BALANCE_MEDIAN_MEDIAN</th>\n",
              "      <th>INCOME_CREDIT_PERC</th>\n",
              "      <th>INCOME_PER_PERSON</th>\n",
              "      <th>ANNUITY_INCOME_PERC</th>\n",
              "      <th>LOAN_INCOME_RATIO</th>\n",
              "      <th>CONSUMER_GOODS_RATIO</th>\n",
              "      <th>ANNUITY LENGTH</th>\n",
              "    </tr>\n",
              "  </thead>\n",
              "  <tbody>\n",
              "    <tr>\n",
              "      <th>count</th>\n",
              "      <td>199882.000000</td>\n",
              "      <td>199882.000000</td>\n",
              "      <td>1.998820e+05</td>\n",
              "      <td>1.998820e+05</td>\n",
              "      <td>199872.000000</td>\n",
              "      <td>1.996970e+05</td>\n",
              "      <td>199882.000000</td>\n",
              "      <td>199882.000000</td>\n",
              "      <td>199882.000000</td>\n",
              "      <td>199882.0</td>\n",
              "      <td>199882.000000</td>\n",
              "      <td>68068.0</td>\n",
              "      <td>199882.0</td>\n",
              "      <td>199882.000000</td>\n",
              "      <td>199882.000000</td>\n",
              "      <td>199882.000000</td>\n",
              "      <td>199882.000000</td>\n",
              "      <td>199882.000000</td>\n",
              "      <td>199881.0</td>\n",
              "      <td>199882.000000</td>\n",
              "      <td>199882.000000</td>\n",
              "      <td>199882.000000</td>\n",
              "      <td>199882.000000</td>\n",
              "      <td>199882.000000</td>\n",
              "      <td>199882.000000</td>\n",
              "      <td>199882.000000</td>\n",
              "      <td>199882.000000</td>\n",
              "      <td>199882.000000</td>\n",
              "      <td>87079.000000</td>\n",
              "      <td>1.994560e+05</td>\n",
              "      <td>160226.000000</td>\n",
              "      <td>98267.000000</td>\n",
              "      <td>82771.000000</td>\n",
              "      <td>102235.000000</td>\n",
              "      <td>66816.000000</td>\n",
              "      <td>60065.000000</td>\n",
              "      <td>93168.000000</td>\n",
              "      <td>99131.000000</td>\n",
              "      <td>100256.000000</td>\n",
              "      <td>64099.000000</td>\n",
              "      <td>...</td>\n",
              "      <td>171265.000000</td>\n",
              "      <td>59991.000000</td>\n",
              "      <td>52097.000000</td>\n",
              "      <td>59991.000000</td>\n",
              "      <td>59991.000000</td>\n",
              "      <td>59991.000000</td>\n",
              "      <td>171265.000000</td>\n",
              "      <td>59991.000000</td>\n",
              "      <td>52097.000000</td>\n",
              "      <td>59991.000000</td>\n",
              "      <td>59991.000000</td>\n",
              "      <td>59991.000000</td>\n",
              "      <td>171265.000000</td>\n",
              "      <td>59991.000000</td>\n",
              "      <td>52097.000000</td>\n",
              "      <td>59991.000000</td>\n",
              "      <td>59991.000000</td>\n",
              "      <td>59991.000000</td>\n",
              "      <td>171265.000000</td>\n",
              "      <td>59991.000000</td>\n",
              "      <td>52097.000000</td>\n",
              "      <td>59991.000000</td>\n",
              "      <td>59833.000000</td>\n",
              "      <td>59833.000000</td>\n",
              "      <td>171265.000000</td>\n",
              "      <td>59833.000000</td>\n",
              "      <td>51896.000000</td>\n",
              "      <td>59833.000000</td>\n",
              "      <td>59991.000000</td>\n",
              "      <td>59991.000000</td>\n",
              "      <td>171265.000000</td>\n",
              "      <td>59991.000000</td>\n",
              "      <td>52097.000000</td>\n",
              "      <td>59991.000000</td>\n",
              "      <td>199882.000000</td>\n",
              "      <td>1.998810e+05</td>\n",
              "      <td>199872.000000</td>\n",
              "      <td>199882.000000</td>\n",
              "      <td>199697.000000</td>\n",
              "      <td>199872.000000</td>\n",
              "    </tr>\n",
              "    <tr>\n",
              "      <th>mean</th>\n",
              "      <td>0.081203</td>\n",
              "      <td>0.419447</td>\n",
              "      <td>1.687525e+05</td>\n",
              "      <td>5.996481e+05</td>\n",
              "      <td>27144.953125</td>\n",
              "      <td>5.389723e+05</td>\n",
              "      <td>0.020920</td>\n",
              "      <td>-16026.845549</td>\n",
              "      <td>63590.955214</td>\n",
              "      <td>NaN</td>\n",
              "      <td>-2992.801198</td>\n",
              "      <td>NaN</td>\n",
              "      <td>1.0</td>\n",
              "      <td>0.820514</td>\n",
              "      <td>0.199323</td>\n",
              "      <td>0.998124</td>\n",
              "      <td>0.281121</td>\n",
              "      <td>0.056518</td>\n",
              "      <td>NaN</td>\n",
              "      <td>2.051185</td>\n",
              "      <td>2.030393</td>\n",
              "      <td>12.057679</td>\n",
              "      <td>0.015149</td>\n",
              "      <td>0.051165</td>\n",
              "      <td>0.040914</td>\n",
              "      <td>0.078531</td>\n",
              "      <td>0.231006</td>\n",
              "      <td>0.179491</td>\n",
              "      <td>0.502930</td>\n",
              "      <td>NaN</td>\n",
              "      <td>NaN</td>\n",
              "      <td>0.117493</td>\n",
              "      <td>0.088684</td>\n",
              "      <td>NaN</td>\n",
              "      <td>0.752441</td>\n",
              "      <td>0.044708</td>\n",
              "      <td>0.078857</td>\n",
              "      <td>0.149780</td>\n",
              "      <td>0.226318</td>\n",
              "      <td>0.232300</td>\n",
              "      <td>...</td>\n",
              "      <td>5.560570</td>\n",
              "      <td>-34.195402</td>\n",
              "      <td>504.122704</td>\n",
              "      <td>-33.058150</td>\n",
              "      <td>-23.663466</td>\n",
              "      <td>-0.908553</td>\n",
              "      <td>5.560570</td>\n",
              "      <td>-7.732182</td>\n",
              "      <td>248.747781</td>\n",
              "      <td>-4.237711</td>\n",
              "      <td>14.430881</td>\n",
              "      <td>44.226884</td>\n",
              "      <td>5.560570</td>\n",
              "      <td>27.463219</td>\n",
              "      <td>315.545183</td>\n",
              "      <td>26.216491</td>\n",
              "      <td>-39.238852</td>\n",
              "      <td>-8.044132</td>\n",
              "      <td>5.560570</td>\n",
              "      <td>-20.963792</td>\n",
              "      <td>297.548947</td>\n",
              "      <td>-19.062655</td>\n",
              "      <td>37.787765</td>\n",
              "      <td>227.314266</td>\n",
              "      <td>5.560570</td>\n",
              "      <td>107.166074</td>\n",
              "      <td>17160.359625</td>\n",
              "      <td>90.279422</td>\n",
              "      <td>-39.238852</td>\n",
              "      <td>-8.044132</td>\n",
              "      <td>5.560570</td>\n",
              "      <td>-20.963792</td>\n",
              "      <td>297.548947</td>\n",
              "      <td>-19.062655</td>\n",
              "      <td>0.398580</td>\n",
              "      <td>9.304070e+04</td>\n",
              "      <td>0.180911</td>\n",
              "      <td>3.957618</td>\n",
              "      <td>1.122836</td>\n",
              "      <td>21.621534</td>\n",
              "    </tr>\n",
              "    <tr>\n",
              "      <th>std</th>\n",
              "      <td>0.273147</td>\n",
              "      <td>0.726197</td>\n",
              "      <td>1.066232e+05</td>\n",
              "      <td>4.025896e+05</td>\n",
              "      <td>14584.699219</td>\n",
              "      <td>3.697378e+05</td>\n",
              "      <td>0.013863</td>\n",
              "      <td>4363.761714</td>\n",
              "      <td>141083.570901</td>\n",
              "      <td>NaN</td>\n",
              "      <td>1507.620138</td>\n",
              "      <td>0.0</td>\n",
              "      <td>0.0</td>\n",
              "      <td>0.383760</td>\n",
              "      <td>0.399492</td>\n",
              "      <td>0.043274</td>\n",
              "      <td>0.449547</td>\n",
              "      <td>0.230921</td>\n",
              "      <td>0.0</td>\n",
              "      <td>0.509039</td>\n",
              "      <td>0.502934</td>\n",
              "      <td>3.265905</td>\n",
              "      <td>0.122145</td>\n",
              "      <td>0.220335</td>\n",
              "      <td>0.198092</td>\n",
              "      <td>0.269007</td>\n",
              "      <td>0.421477</td>\n",
              "      <td>0.383764</td>\n",
              "      <td>0.211182</td>\n",
              "      <td>0.000000e+00</td>\n",
              "      <td>0.000000</td>\n",
              "      <td>0.107483</td>\n",
              "      <td>0.082520</td>\n",
              "      <td>0.000000</td>\n",
              "      <td>0.112732</td>\n",
              "      <td>0.076172</td>\n",
              "      <td>0.134521</td>\n",
              "      <td>0.099976</td>\n",
              "      <td>0.144287</td>\n",
              "      <td>0.161255</td>\n",
              "      <td>...</td>\n",
              "      <td>4.377716</td>\n",
              "      <td>17.792386</td>\n",
              "      <td>488.771962</td>\n",
              "      <td>19.685587</td>\n",
              "      <td>26.172656</td>\n",
              "      <td>5.936723</td>\n",
              "      <td>4.377716</td>\n",
              "      <td>10.395784</td>\n",
              "      <td>391.156949</td>\n",
              "      <td>10.202941</td>\n",
              "      <td>14.938164</td>\n",
              "      <td>26.839525</td>\n",
              "      <td>4.377716</td>\n",
              "      <td>16.812779</td>\n",
              "      <td>418.613694</td>\n",
              "      <td>18.149034</td>\n",
              "      <td>23.573840</td>\n",
              "      <td>10.004585</td>\n",
              "      <td>4.377716</td>\n",
              "      <td>11.901818</td>\n",
              "      <td>356.629463</td>\n",
              "      <td>12.619286</td>\n",
              "      <td>89.792630</td>\n",
              "      <td>225.745436</td>\n",
              "      <td>4.377716</td>\n",
              "      <td>117.611743</td>\n",
              "      <td>30476.301824</td>\n",
              "      <td>121.183155</td>\n",
              "      <td>23.573840</td>\n",
              "      <td>10.004585</td>\n",
              "      <td>4.377716</td>\n",
              "      <td>11.901818</td>\n",
              "      <td>356.629463</td>\n",
              "      <td>12.619286</td>\n",
              "      <td>0.339202</td>\n",
              "      <td>7.375334e+04</td>\n",
              "      <td>0.094499</td>\n",
              "      <td>2.680780</td>\n",
              "      <td>0.124458</td>\n",
              "      <td>7.828951</td>\n",
              "    </tr>\n",
              "    <tr>\n",
              "      <th>min</th>\n",
              "      <td>0.000000</td>\n",
              "      <td>0.000000</td>\n",
              "      <td>2.565000e+04</td>\n",
              "      <td>4.500000e+04</td>\n",
              "      <td>1615.500000</td>\n",
              "      <td>4.050000e+04</td>\n",
              "      <td>0.000290</td>\n",
              "      <td>-25229.000000</td>\n",
              "      <td>-17912.000000</td>\n",
              "      <td>-24672.0</td>\n",
              "      <td>-7197.000000</td>\n",
              "      <td>0.0</td>\n",
              "      <td>1.0</td>\n",
              "      <td>0.000000</td>\n",
              "      <td>0.000000</td>\n",
              "      <td>0.000000</td>\n",
              "      <td>0.000000</td>\n",
              "      <td>0.000000</td>\n",
              "      <td>1.0</td>\n",
              "      <td>1.000000</td>\n",
              "      <td>1.000000</td>\n",
              "      <td>0.000000</td>\n",
              "      <td>0.000000</td>\n",
              "      <td>0.000000</td>\n",
              "      <td>0.000000</td>\n",
              "      <td>0.000000</td>\n",
              "      <td>0.000000</td>\n",
              "      <td>0.000000</td>\n",
              "      <td>0.014565</td>\n",
              "      <td>5.960464e-08</td>\n",
              "      <td>0.000527</td>\n",
              "      <td>0.000000</td>\n",
              "      <td>0.000000</td>\n",
              "      <td>0.000000</td>\n",
              "      <td>0.000000</td>\n",
              "      <td>0.000000</td>\n",
              "      <td>0.000000</td>\n",
              "      <td>0.000000</td>\n",
              "      <td>0.000000</td>\n",
              "      <td>0.000000</td>\n",
              "      <td>...</td>\n",
              "      <td>1.000000</td>\n",
              "      <td>-96.000000</td>\n",
              "      <td>0.000000</td>\n",
              "      <td>-96.000000</td>\n",
              "      <td>-95.000000</td>\n",
              "      <td>-92.000000</td>\n",
              "      <td>1.000000</td>\n",
              "      <td>-92.000000</td>\n",
              "      <td>0.000000</td>\n",
              "      <td>-92.000000</td>\n",
              "      <td>1.000000</td>\n",
              "      <td>1.000000</td>\n",
              "      <td>1.000000</td>\n",
              "      <td>1.000000</td>\n",
              "      <td>0.000000</td>\n",
              "      <td>1.000000</td>\n",
              "      <td>-95.000000</td>\n",
              "      <td>-92.500000</td>\n",
              "      <td>1.000000</td>\n",
              "      <td>-92.500000</td>\n",
              "      <td>0.000000</td>\n",
              "      <td>-92.500000</td>\n",
              "      <td>0.500000</td>\n",
              "      <td>0.500000</td>\n",
              "      <td>1.000000</td>\n",
              "      <td>0.500000</td>\n",
              "      <td>0.000000</td>\n",
              "      <td>0.500000</td>\n",
              "      <td>-95.000000</td>\n",
              "      <td>-92.500000</td>\n",
              "      <td>1.000000</td>\n",
              "      <td>-92.500000</td>\n",
              "      <td>0.000000</td>\n",
              "      <td>-92.500000</td>\n",
              "      <td>0.020314</td>\n",
              "      <td>2.812500e+03</td>\n",
              "      <td>0.003333</td>\n",
              "      <td>0.066667</td>\n",
              "      <td>0.150000</td>\n",
              "      <td>8.036739</td>\n",
              "    </tr>\n",
              "    <tr>\n",
              "      <th>25%</th>\n",
              "      <td>0.000000</td>\n",
              "      <td>0.000000</td>\n",
              "      <td>1.125000e+05</td>\n",
              "      <td>2.700000e+05</td>\n",
              "      <td>16524.000000</td>\n",
              "      <td>2.385000e+05</td>\n",
              "      <td>0.010010</td>\n",
              "      <td>-19670.000000</td>\n",
              "      <td>-2761.000000</td>\n",
              "      <td>-7468.0</td>\n",
              "      <td>-4296.000000</td>\n",
              "      <td>5.0</td>\n",
              "      <td>1.0</td>\n",
              "      <td>1.000000</td>\n",
              "      <td>0.000000</td>\n",
              "      <td>1.000000</td>\n",
              "      <td>0.000000</td>\n",
              "      <td>0.000000</td>\n",
              "      <td>2.0</td>\n",
              "      <td>2.000000</td>\n",
              "      <td>2.000000</td>\n",
              "      <td>10.000000</td>\n",
              "      <td>0.000000</td>\n",
              "      <td>0.000000</td>\n",
              "      <td>0.000000</td>\n",
              "      <td>0.000000</td>\n",
              "      <td>0.000000</td>\n",
              "      <td>0.000000</td>\n",
              "      <td>0.334717</td>\n",
              "      <td>3.930664e-01</td>\n",
              "      <td>0.370605</td>\n",
              "      <td>0.057709</td>\n",
              "      <td>0.044495</td>\n",
              "      <td>0.976562</td>\n",
              "      <td>0.687012</td>\n",
              "      <td>0.007896</td>\n",
              "      <td>0.000000</td>\n",
              "      <td>0.068970</td>\n",
              "      <td>0.166748</td>\n",
              "      <td>0.083313</td>\n",
              "      <td>...</td>\n",
              "      <td>2.000000</td>\n",
              "      <td>-45.181818</td>\n",
              "      <td>133.000000</td>\n",
              "      <td>-44.500000</td>\n",
              "      <td>-43.000000</td>\n",
              "      <td>0.000000</td>\n",
              "      <td>2.000000</td>\n",
              "      <td>-12.000000</td>\n",
              "      <td>0.000000</td>\n",
              "      <td>-2.500000</td>\n",
              "      <td>5.000000</td>\n",
              "      <td>21.000000</td>\n",
              "      <td>2.000000</td>\n",
              "      <td>15.000000</td>\n",
              "      <td>33.200000</td>\n",
              "      <td>12.500000</td>\n",
              "      <td>-56.000000</td>\n",
              "      <td>-10.000000</td>\n",
              "      <td>2.000000</td>\n",
              "      <td>-27.919872</td>\n",
              "      <td>58.062500</td>\n",
              "      <td>-25.500000</td>\n",
              "      <td>2.500000</td>\n",
              "      <td>42.166667</td>\n",
              "      <td>2.000000</td>\n",
              "      <td>24.300000</td>\n",
              "      <td>272.222222</td>\n",
              "      <td>15.166667</td>\n",
              "      <td>-56.000000</td>\n",
              "      <td>-10.000000</td>\n",
              "      <td>2.000000</td>\n",
              "      <td>-27.919872</td>\n",
              "      <td>58.062500</td>\n",
              "      <td>-25.500000</td>\n",
              "      <td>0.193773</td>\n",
              "      <td>4.725000e+04</td>\n",
              "      <td>0.114800</td>\n",
              "      <td>2.018667</td>\n",
              "      <td>1.000000</td>\n",
              "      <td>15.617073</td>\n",
              "    </tr>\n",
              "    <tr>\n",
              "      <th>50%</th>\n",
              "      <td>0.000000</td>\n",
              "      <td>0.000000</td>\n",
              "      <td>1.485000e+05</td>\n",
              "      <td>5.172660e+05</td>\n",
              "      <td>24912.000000</td>\n",
              "      <td>4.500000e+05</td>\n",
              "      <td>0.018845</td>\n",
              "      <td>-15738.000000</td>\n",
              "      <td>-1215.000000</td>\n",
              "      <td>-4508.0</td>\n",
              "      <td>-3247.000000</td>\n",
              "      <td>9.0</td>\n",
              "      <td>1.0</td>\n",
              "      <td>1.000000</td>\n",
              "      <td>0.000000</td>\n",
              "      <td>1.000000</td>\n",
              "      <td>0.000000</td>\n",
              "      <td>0.000000</td>\n",
              "      <td>2.0</td>\n",
              "      <td>2.000000</td>\n",
              "      <td>2.000000</td>\n",
              "      <td>12.000000</td>\n",
              "      <td>0.000000</td>\n",
              "      <td>0.000000</td>\n",
              "      <td>0.000000</td>\n",
              "      <td>0.000000</td>\n",
              "      <td>0.000000</td>\n",
              "      <td>0.000000</td>\n",
              "      <td>0.506836</td>\n",
              "      <td>5.659180e-01</td>\n",
              "      <td>0.535156</td>\n",
              "      <td>0.087585</td>\n",
              "      <td>0.076416</td>\n",
              "      <td>0.981445</td>\n",
              "      <td>0.755371</td>\n",
              "      <td>0.021103</td>\n",
              "      <td>0.000000</td>\n",
              "      <td>0.137939</td>\n",
              "      <td>0.166748</td>\n",
              "      <td>0.208252</td>\n",
              "      <td>...</td>\n",
              "      <td>4.000000</td>\n",
              "      <td>-33.000000</td>\n",
              "      <td>385.333333</td>\n",
              "      <td>-30.000000</td>\n",
              "      <td>-14.000000</td>\n",
              "      <td>0.000000</td>\n",
              "      <td>4.000000</td>\n",
              "      <td>-4.000000</td>\n",
              "      <td>79.238095</td>\n",
              "      <td>0.000000</td>\n",
              "      <td>9.000000</td>\n",
              "      <td>41.000000</td>\n",
              "      <td>4.000000</td>\n",
              "      <td>24.750000</td>\n",
              "      <td>162.000000</td>\n",
              "      <td>22.000000</td>\n",
              "      <td>-38.000000</td>\n",
              "      <td>-4.500000</td>\n",
              "      <td>4.000000</td>\n",
              "      <td>-19.937500</td>\n",
              "      <td>182.857143</td>\n",
              "      <td>-17.000000</td>\n",
              "      <td>9.166667</td>\n",
              "      <td>143.500000</td>\n",
              "      <td>4.000000</td>\n",
              "      <td>68.000000</td>\n",
              "      <td>3434.166667</td>\n",
              "      <td>46.000000</td>\n",
              "      <td>-38.000000</td>\n",
              "      <td>-4.500000</td>\n",
              "      <td>4.000000</td>\n",
              "      <td>-19.937500</td>\n",
              "      <td>182.857143</td>\n",
              "      <td>-17.000000</td>\n",
              "      <td>0.305668</td>\n",
              "      <td>7.500000e+04</td>\n",
              "      <td>0.162955</td>\n",
              "      <td>3.271525</td>\n",
              "      <td>1.118800</td>\n",
              "      <td>20.000000</td>\n",
              "    </tr>\n",
              "    <tr>\n",
              "      <th>75%</th>\n",
              "      <td>0.000000</td>\n",
              "      <td>1.000000</td>\n",
              "      <td>2.025000e+05</td>\n",
              "      <td>8.086500e+05</td>\n",
              "      <td>34654.500000</td>\n",
              "      <td>6.795000e+05</td>\n",
              "      <td>0.028656</td>\n",
              "      <td>-12396.000000</td>\n",
              "      <td>-290.000000</td>\n",
              "      <td>-2016.0</td>\n",
              "      <td>-1720.000000</td>\n",
              "      <td>15.0</td>\n",
              "      <td>1.0</td>\n",
              "      <td>1.000000</td>\n",
              "      <td>0.000000</td>\n",
              "      <td>1.000000</td>\n",
              "      <td>1.000000</td>\n",
              "      <td>0.000000</td>\n",
              "      <td>3.0</td>\n",
              "      <td>2.000000</td>\n",
              "      <td>2.000000</td>\n",
              "      <td>14.000000</td>\n",
              "      <td>0.000000</td>\n",
              "      <td>0.000000</td>\n",
              "      <td>0.000000</td>\n",
              "      <td>0.000000</td>\n",
              "      <td>0.000000</td>\n",
              "      <td>0.000000</td>\n",
              "      <td>0.676270</td>\n",
              "      <td>6.635742e-01</td>\n",
              "      <td>0.668945</td>\n",
              "      <td>0.148560</td>\n",
              "      <td>0.112122</td>\n",
              "      <td>0.986816</td>\n",
              "      <td>0.823242</td>\n",
              "      <td>0.051514</td>\n",
              "      <td>0.119995</td>\n",
              "      <td>0.206909</td>\n",
              "      <td>0.333252</td>\n",
              "      <td>0.375000</td>\n",
              "      <td>...</td>\n",
              "      <td>8.000000</td>\n",
              "      <td>-21.000000</td>\n",
              "      <td>733.238095</td>\n",
              "      <td>-18.000000</td>\n",
              "      <td>0.000000</td>\n",
              "      <td>0.000000</td>\n",
              "      <td>8.000000</td>\n",
              "      <td>0.000000</td>\n",
              "      <td>354.931818</td>\n",
              "      <td>0.000000</td>\n",
              "      <td>18.000000</td>\n",
              "      <td>65.000000</td>\n",
              "      <td>8.000000</td>\n",
              "      <td>37.000000</td>\n",
              "      <td>443.211111</td>\n",
              "      <td>36.000000</td>\n",
              "      <td>-20.000000</td>\n",
              "      <td>-2.000000</td>\n",
              "      <td>8.000000</td>\n",
              "      <td>-12.250000</td>\n",
              "      <td>412.000000</td>\n",
              "      <td>-9.750000</td>\n",
              "      <td>28.500000</td>\n",
              "      <td>357.500000</td>\n",
              "      <td>8.000000</td>\n",
              "      <td>149.065217</td>\n",
              "      <td>19828.555886</td>\n",
              "      <td>114.583333</td>\n",
              "      <td>-20.000000</td>\n",
              "      <td>-2.000000</td>\n",
              "      <td>8.000000</td>\n",
              "      <td>-12.250000</td>\n",
              "      <td>412.000000</td>\n",
              "      <td>-9.750000</td>\n",
              "      <td>0.495376</td>\n",
              "      <td>1.125000e+05</td>\n",
              "      <td>0.229160</td>\n",
              "      <td>5.160679</td>\n",
              "      <td>1.198000</td>\n",
              "      <td>27.218290</td>\n",
              "    </tr>\n",
              "    <tr>\n",
              "      <th>max</th>\n",
              "      <td>1.000000</td>\n",
              "      <td>19.000000</td>\n",
              "      <td>1.350000e+07</td>\n",
              "      <td>4.050000e+06</td>\n",
              "      <td>258025.500000</td>\n",
              "      <td>4.050000e+06</td>\n",
              "      <td>0.072510</td>\n",
              "      <td>-7673.000000</td>\n",
              "      <td>365243.000000</td>\n",
              "      <td>0.0</td>\n",
              "      <td>0.000000</td>\n",
              "      <td>91.0</td>\n",
              "      <td>1.0</td>\n",
              "      <td>1.000000</td>\n",
              "      <td>1.000000</td>\n",
              "      <td>1.000000</td>\n",
              "      <td>1.000000</td>\n",
              "      <td>1.000000</td>\n",
              "      <td>20.0</td>\n",
              "      <td>3.000000</td>\n",
              "      <td>3.000000</td>\n",
              "      <td>23.000000</td>\n",
              "      <td>1.000000</td>\n",
              "      <td>1.000000</td>\n",
              "      <td>1.000000</td>\n",
              "      <td>1.000000</td>\n",
              "      <td>1.000000</td>\n",
              "      <td>1.000000</td>\n",
              "      <td>0.947754</td>\n",
              "      <td>8.549805e-01</td>\n",
              "      <td>0.894043</td>\n",
              "      <td>1.000000</td>\n",
              "      <td>1.000000</td>\n",
              "      <td>1.000000</td>\n",
              "      <td>1.000000</td>\n",
              "      <td>1.000000</td>\n",
              "      <td>1.000000</td>\n",
              "      <td>1.000000</td>\n",
              "      <td>1.000000</td>\n",
              "      <td>1.000000</td>\n",
              "      <td>...</td>\n",
              "      <td>94.000000</td>\n",
              "      <td>0.000000</td>\n",
              "      <td>4418.000000</td>\n",
              "      <td>0.000000</td>\n",
              "      <td>0.000000</td>\n",
              "      <td>0.000000</td>\n",
              "      <td>94.000000</td>\n",
              "      <td>0.000000</td>\n",
              "      <td>4232.000000</td>\n",
              "      <td>0.000000</td>\n",
              "      <td>97.000000</td>\n",
              "      <td>97.000000</td>\n",
              "      <td>94.000000</td>\n",
              "      <td>97.000000</td>\n",
              "      <td>4418.000000</td>\n",
              "      <td>97.000000</td>\n",
              "      <td>0.000000</td>\n",
              "      <td>0.000000</td>\n",
              "      <td>94.000000</td>\n",
              "      <td>0.000000</td>\n",
              "      <td>3960.500000</td>\n",
              "      <td>0.000000</td>\n",
              "      <td>792.166667</td>\n",
              "      <td>792.166667</td>\n",
              "      <td>94.000000</td>\n",
              "      <td>792.166667</td>\n",
              "      <td>300312.500000</td>\n",
              "      <td>792.166667</td>\n",
              "      <td>0.000000</td>\n",
              "      <td>0.000000</td>\n",
              "      <td>94.000000</td>\n",
              "      <td>0.000000</td>\n",
              "      <td>3960.500000</td>\n",
              "      <td>0.000000</td>\n",
              "      <td>15.000000</td>\n",
              "      <td>6.750000e+06</td>\n",
              "      <td>1.570600</td>\n",
              "      <td>49.227200</td>\n",
              "      <td>6.000000</td>\n",
              "      <td>45.305080</td>\n",
              "    </tr>\n",
              "  </tbody>\n",
              "</table>\n",
              "<p>8 rows × 469 columns</p>\n",
              "</div>"
            ],
            "text/plain": [
              "              TARGET   CNT_CHILDREN  ...  CONSUMER_GOODS_RATIO  ANNUITY LENGTH\n",
              "count  199882.000000  199882.000000  ...         199697.000000   199872.000000\n",
              "mean        0.081203       0.419447  ...              1.122836       21.621534\n",
              "std         0.273147       0.726197  ...              0.124458        7.828951\n",
              "min         0.000000       0.000000  ...              0.150000        8.036739\n",
              "25%         0.000000       0.000000  ...              1.000000       15.617073\n",
              "50%         0.000000       0.000000  ...              1.118800       20.000000\n",
              "75%         0.000000       1.000000  ...              1.198000       27.218290\n",
              "max         1.000000      19.000000  ...              6.000000       45.305080\n",
              "\n",
              "[8 rows x 469 columns]"
            ]
          },
          "metadata": {
            "tags": []
          },
          "execution_count": 46
        }
      ]
    },
    {
      "cell_type": "code",
      "metadata": {
        "id": "cKDMVqu2k2dR"
      },
      "source": [
        "application_train=application_train.replace(np.inf, np.nan)\r\n",
        "application_train=application_train.replace(-np.inf, np.nan)"
      ],
      "execution_count": null,
      "outputs": []
    },
    {
      "cell_type": "code",
      "metadata": {
        "id": "ZwGeJ4-TlCyE"
      },
      "source": [
        "application_test=application_test.replace(np.inf, np.nan)\r\n",
        "application_test=application_test.replace(-np.inf, np.nan)"
      ],
      "execution_count": null,
      "outputs": []
    },
    {
      "cell_type": "code",
      "metadata": {
        "id": "b0KADSr2lONu"
      },
      "source": [
        "application_train_final = application_train.copy()\r\n",
        "application_test_final = application_test.copy()"
      ],
      "execution_count": null,
      "outputs": []
    },
    {
      "cell_type": "code",
      "metadata": {
        "id": "ICmSZXyUopeJ"
      },
      "source": [
        "application_train = application_train_final.copy()\r\n",
        "application_test = application_test_final.copy()"
      ],
      "execution_count": null,
      "outputs": []
    },
    {
      "cell_type": "code",
      "metadata": {
        "colab": {
          "base_uri": "https://localhost:8080/"
        },
        "id": "0KY6__K7rGR3",
        "outputId": "41a01957-4be0-4563-b221-61cc0c1056dd"
      },
      "source": [
        "atCC = getCnamesObject(application_train)\n",
        "print(\"Number of categorical columns in application_train: \", len(atCC), \"\\n\", atCC)\n",
        "\n",
        "atNC = getCnamesNumeric(application_train)\n",
        "print(\"Number of numerical columns in application_train: \", len(atNC), \"\\n\", atNC)\n",
        "\n",
        "atestCC = getCnamesObject(application_test)\n",
        "print(\"Number of categorical columns in application_test: \", len(atestCC), \"\\n\", atestCC)\n",
        "\n",
        "atestNC = getCnamesNumeric(application_test)\n",
        "print(\"Number of numerical columns in application_test: \", len(atestNC), \"\\n\", atestNC)"
      ],
      "execution_count": null,
      "outputs": [
        {
          "output_type": "stream",
          "text": [
            "Number of categorical columns in application_train:  16 \n",
            " ['NAME_CONTRACT_TYPE', 'CODE_GENDER', 'FLAG_OWN_CAR', 'FLAG_OWN_REALTY', 'NAME_TYPE_SUITE', 'NAME_INCOME_TYPE', 'NAME_EDUCATION_TYPE', 'NAME_FAMILY_STATUS', 'NAME_HOUSING_TYPE', 'OCCUPATION_TYPE', 'WEEKDAY_APPR_PROCESS_START', 'ORGANIZATION_TYPE', 'FONDKAPREMONT_MODE', 'HOUSETYPE_MODE', 'WALLSMATERIAL_MODE', 'EMERGENCYSTATE_MODE']\n",
            "Number of numerical columns in application_train:  469 \n",
            " ['TARGET', 'CNT_CHILDREN', 'AMT_INCOME_TOTAL', 'AMT_CREDIT', 'AMT_ANNUITY', 'AMT_GOODS_PRICE', 'REGION_POPULATION_RELATIVE', 'DAYS_BIRTH', 'DAYS_EMPLOYED', 'DAYS_REGISTRATION', 'DAYS_ID_PUBLISH', 'OWN_CAR_AGE', 'FLAG_MOBIL', 'FLAG_EMP_PHONE', 'FLAG_WORK_PHONE', 'FLAG_CONT_MOBILE', 'FLAG_PHONE', 'FLAG_EMAIL', 'CNT_FAM_MEMBERS', 'REGION_RATING_CLIENT', 'REGION_RATING_CLIENT_W_CITY', 'HOUR_APPR_PROCESS_START', 'REG_REGION_NOT_LIVE_REGION', 'REG_REGION_NOT_WORK_REGION', 'LIVE_REGION_NOT_WORK_REGION', 'REG_CITY_NOT_LIVE_CITY', 'REG_CITY_NOT_WORK_CITY', 'LIVE_CITY_NOT_WORK_CITY', 'EXT_SOURCE_1', 'EXT_SOURCE_2', 'EXT_SOURCE_3', 'APARTMENTS_AVG', 'BASEMENTAREA_AVG', 'YEARS_BEGINEXPLUATATION_AVG', 'YEARS_BUILD_AVG', 'COMMONAREA_AVG', 'ELEVATORS_AVG', 'ENTRANCES_AVG', 'FLOORSMAX_AVG', 'FLOORSMIN_AVG', 'LANDAREA_AVG', 'LIVINGAPARTMENTS_AVG', 'LIVINGAREA_AVG', 'NONLIVINGAPARTMENTS_AVG', 'NONLIVINGAREA_AVG', 'APARTMENTS_MODE', 'BASEMENTAREA_MODE', 'YEARS_BEGINEXPLUATATION_MODE', 'YEARS_BUILD_MODE', 'COMMONAREA_MODE', 'ELEVATORS_MODE', 'ENTRANCES_MODE', 'FLOORSMAX_MODE', 'FLOORSMIN_MODE', 'LANDAREA_MODE', 'LIVINGAPARTMENTS_MODE', 'LIVINGAREA_MODE', 'NONLIVINGAPARTMENTS_MODE', 'NONLIVINGAREA_MODE', 'APARTMENTS_MEDI', 'BASEMENTAREA_MEDI', 'YEARS_BEGINEXPLUATATION_MEDI', 'YEARS_BUILD_MEDI', 'COMMONAREA_MEDI', 'ELEVATORS_MEDI', 'ENTRANCES_MEDI', 'FLOORSMAX_MEDI', 'FLOORSMIN_MEDI', 'LANDAREA_MEDI', 'LIVINGAPARTMENTS_MEDI', 'LIVINGAREA_MEDI', 'NONLIVINGAPARTMENTS_MEDI', 'NONLIVINGAREA_MEDI', 'TOTALAREA_MODE', 'OBS_30_CNT_SOCIAL_CIRCLE', 'DEF_30_CNT_SOCIAL_CIRCLE', 'OBS_60_CNT_SOCIAL_CIRCLE', 'DEF_60_CNT_SOCIAL_CIRCLE', 'DAYS_LAST_PHONE_CHANGE', 'FLAG_DOCUMENT_2', 'FLAG_DOCUMENT_3', 'FLAG_DOCUMENT_4', 'FLAG_DOCUMENT_5', 'FLAG_DOCUMENT_6', 'FLAG_DOCUMENT_7', 'FLAG_DOCUMENT_8', 'FLAG_DOCUMENT_9', 'FLAG_DOCUMENT_10', 'FLAG_DOCUMENT_11', 'FLAG_DOCUMENT_12', 'FLAG_DOCUMENT_13', 'FLAG_DOCUMENT_14', 'FLAG_DOCUMENT_15', 'FLAG_DOCUMENT_16', 'FLAG_DOCUMENT_17', 'FLAG_DOCUMENT_18', 'FLAG_DOCUMENT_19', 'FLAG_DOCUMENT_20', 'FLAG_DOCUMENT_21', 'AMT_REQ_CREDIT_BUREAU_HOUR', 'AMT_REQ_CREDIT_BUREAU_DAY', 'AMT_REQ_CREDIT_BUREAU_WEEK', 'AMT_REQ_CREDIT_BUREAU_MON', 'AMT_REQ_CREDIT_BUREAU_QRT', 'AMT_REQ_CREDIT_BUREAU_YEAR', 'AMT_ANNUITY_MEAN', 'AMT_ANNUITY_MAX', 'AMT_ANNUITY_SUM', 'AMT_ANNUITY_VAR', 'AMT_ANNUITY_MEDIAN', 'AMT_APPLICATION_MEAN', 'AMT_APPLICATION_MAX', 'AMT_APPLICATION_SUM', 'AMT_APPLICATION_VAR', 'AMT_APPLICATION_MEDIAN', 'AMT_CREDIT_MEAN', 'AMT_CREDIT_MAX', 'AMT_CREDIT_SUM', 'AMT_CREDIT_VAR', 'AMT_CREDIT_MEDIAN', 'AMT_DOWN_PAYMENT_MEAN', 'AMT_DOWN_PAYMENT_MAX', 'AMT_DOWN_PAYMENT_SUM', 'AMT_DOWN_PAYMENT_VAR', 'AMT_DOWN_PAYMENT_MEDIAN', 'AMT_GOODS_PRICE_MEAN', 'AMT_GOODS_PRICE_MAX', 'AMT_GOODS_PRICE_SUM', 'AMT_GOODS_PRICE_VAR', 'AMT_GOODS_PRICE_MEDIAN', 'HOUR_APPR_PROCESS_START_MEAN', 'HOUR_APPR_PROCESS_START_MAX', 'HOUR_APPR_PROCESS_START_SUM', 'HOUR_APPR_PROCESS_START_VAR', 'HOUR_APPR_PROCESS_START_MEDIAN', 'NFLAG_LAST_APPL_IN_DAY_MEAN', 'NFLAG_LAST_APPL_IN_DAY_MAX', 'NFLAG_LAST_APPL_IN_DAY_SUM', 'NFLAG_LAST_APPL_IN_DAY_VAR', 'NFLAG_LAST_APPL_IN_DAY_MEDIAN', 'RATE_DOWN_PAYMENT_MEAN', 'RATE_DOWN_PAYMENT_MAX', 'RATE_DOWN_PAYMENT_SUM', 'RATE_DOWN_PAYMENT_VAR', 'RATE_DOWN_PAYMENT_MEDIAN', 'RATE_INTEREST_PRIMARY_MEAN', 'RATE_INTEREST_PRIMARY_MAX', 'RATE_INTEREST_PRIMARY_SUM', 'RATE_INTEREST_PRIMARY_VAR', 'RATE_INTEREST_PRIMARY_MEDIAN', 'RATE_INTEREST_PRIVILEGED_MEAN', 'RATE_INTEREST_PRIVILEGED_MAX', 'RATE_INTEREST_PRIVILEGED_SUM', 'RATE_INTEREST_PRIVILEGED_VAR', 'RATE_INTEREST_PRIVILEGED_MEDIAN', 'DAYS_DECISION_MEAN', 'DAYS_DECISION_MAX', 'DAYS_DECISION_SUM', 'DAYS_DECISION_VAR', 'DAYS_DECISION_MEDIAN', 'SELLERPLACE_AREA_MEAN', 'SELLERPLACE_AREA_MAX', 'SELLERPLACE_AREA_SUM', 'SELLERPLACE_AREA_VAR', 'SELLERPLACE_AREA_MEDIAN', 'CNT_PAYMENT_MEAN', 'CNT_PAYMENT_MAX', 'CNT_PAYMENT_SUM', 'CNT_PAYMENT_VAR', 'CNT_PAYMENT_MEDIAN', 'DAYS_FIRST_DRAWING_MEAN', 'DAYS_FIRST_DRAWING_MAX', 'DAYS_FIRST_DRAWING_SUM', 'DAYS_FIRST_DRAWING_VAR', 'DAYS_FIRST_DRAWING_MEDIAN', 'DAYS_FIRST_DUE_MEAN', 'DAYS_FIRST_DUE_MAX', 'DAYS_FIRST_DUE_SUM', 'DAYS_FIRST_DUE_VAR', 'DAYS_FIRST_DUE_MEDIAN', 'DAYS_LAST_DUE_1ST_VERSION_MEAN', 'DAYS_LAST_DUE_1ST_VERSION_MAX', 'DAYS_LAST_DUE_1ST_VERSION_SUM', 'DAYS_LAST_DUE_1ST_VERSION_VAR', 'DAYS_LAST_DUE_1ST_VERSION_MEDIAN', 'DAYS_LAST_DUE_MEAN', 'DAYS_LAST_DUE_MAX', 'DAYS_LAST_DUE_SUM', 'DAYS_LAST_DUE_VAR', 'DAYS_LAST_DUE_MEDIAN', 'DAYS_TERMINATION_MEAN', 'DAYS_TERMINATION_MAX', 'DAYS_TERMINATION_SUM', 'DAYS_TERMINATION_VAR', 'DAYS_TERMINATION_MEDIAN', 'NFLAG_INSURED_ON_APPROVAL_MEAN', 'NFLAG_INSURED_ON_APPROVAL_MAX', 'NFLAG_INSURED_ON_APPROVAL_SUM', 'NFLAG_INSURED_ON_APPROVAL_VAR', 'NFLAG_INSURED_ON_APPROVAL_MEDIAN', 'MONTHS_BALANCE_MEAN_x', 'MONTHS_BALANCE_MAX_x', 'MONTHS_BALANCE_SUM_x', 'MONTHS_BALANCE_VAR_x', 'MONTHS_BALANCE_MEDIAN_x', 'AMT_BALANCE_MEAN', 'AMT_BALANCE_MAX', 'AMT_BALANCE_SUM', 'AMT_BALANCE_VAR', 'AMT_BALANCE_MEDIAN', 'AMT_CREDIT_LIMIT_ACTUAL_MEAN', 'AMT_CREDIT_LIMIT_ACTUAL_MAX', 'AMT_CREDIT_LIMIT_ACTUAL_SUM', 'AMT_CREDIT_LIMIT_ACTUAL_VAR', 'AMT_CREDIT_LIMIT_ACTUAL_MEDIAN', 'AMT_DRAWINGS_ATM_CURRENT_MEAN', 'AMT_DRAWINGS_ATM_CURRENT_MAX', 'AMT_DRAWINGS_ATM_CURRENT_SUM', 'AMT_DRAWINGS_ATM_CURRENT_VAR', 'AMT_DRAWINGS_ATM_CURRENT_MEDIAN', 'AMT_DRAWINGS_CURRENT_MEAN', 'AMT_DRAWINGS_CURRENT_MAX', 'AMT_DRAWINGS_CURRENT_SUM', 'AMT_DRAWINGS_CURRENT_VAR', 'AMT_DRAWINGS_CURRENT_MEDIAN', 'AMT_DRAWINGS_OTHER_CURRENT_MEAN', 'AMT_DRAWINGS_OTHER_CURRENT_MAX', 'AMT_DRAWINGS_OTHER_CURRENT_SUM', 'AMT_DRAWINGS_OTHER_CURRENT_VAR', 'AMT_DRAWINGS_OTHER_CURRENT_MEDIAN', 'AMT_DRAWINGS_POS_CURRENT_MEAN', 'AMT_DRAWINGS_POS_CURRENT_MAX', 'AMT_DRAWINGS_POS_CURRENT_SUM', 'AMT_DRAWINGS_POS_CURRENT_VAR', 'AMT_DRAWINGS_POS_CURRENT_MEDIAN', 'AMT_INST_MIN_REGULARITY_MEAN', 'AMT_INST_MIN_REGULARITY_MAX', 'AMT_INST_MIN_REGULARITY_SUM', 'AMT_INST_MIN_REGULARITY_VAR', 'AMT_INST_MIN_REGULARITY_MEDIAN', 'AMT_PAYMENT_CURRENT_MEAN', 'AMT_PAYMENT_CURRENT_MAX', 'AMT_PAYMENT_CURRENT_SUM', 'AMT_PAYMENT_CURRENT_VAR', 'AMT_PAYMENT_CURRENT_MEDIAN', 'AMT_PAYMENT_TOTAL_CURRENT_MEAN', 'AMT_PAYMENT_TOTAL_CURRENT_MAX', 'AMT_PAYMENT_TOTAL_CURRENT_SUM', 'AMT_PAYMENT_TOTAL_CURRENT_VAR', 'AMT_PAYMENT_TOTAL_CURRENT_MEDIAN', 'AMT_RECEIVABLE_PRINCIPAL_MEAN', 'AMT_RECEIVABLE_PRINCIPAL_MAX', 'AMT_RECEIVABLE_PRINCIPAL_SUM', 'AMT_RECEIVABLE_PRINCIPAL_VAR', 'AMT_RECEIVABLE_PRINCIPAL_MEDIAN', 'AMT_RECIVABLE_MEAN', 'AMT_RECIVABLE_MAX', 'AMT_RECIVABLE_SUM', 'AMT_RECIVABLE_VAR', 'AMT_RECIVABLE_MEDIAN', 'AMT_TOTAL_RECEIVABLE_MEAN', 'AMT_TOTAL_RECEIVABLE_MAX', 'AMT_TOTAL_RECEIVABLE_SUM', 'AMT_TOTAL_RECEIVABLE_VAR', 'AMT_TOTAL_RECEIVABLE_MEDIAN', 'CNT_DRAWINGS_ATM_CURRENT_MEAN', 'CNT_DRAWINGS_ATM_CURRENT_MAX', 'CNT_DRAWINGS_ATM_CURRENT_SUM', 'CNT_DRAWINGS_ATM_CURRENT_VAR', 'CNT_DRAWINGS_ATM_CURRENT_MEDIAN', 'CNT_DRAWINGS_CURRENT_MEAN', 'CNT_DRAWINGS_CURRENT_MAX', 'CNT_DRAWINGS_CURRENT_SUM', 'CNT_DRAWINGS_CURRENT_VAR', 'CNT_DRAWINGS_CURRENT_MEDIAN', 'CNT_DRAWINGS_OTHER_CURRENT_MEAN', 'CNT_DRAWINGS_OTHER_CURRENT_MAX', 'CNT_DRAWINGS_OTHER_CURRENT_SUM', 'CNT_DRAWINGS_OTHER_CURRENT_VAR', 'CNT_DRAWINGS_OTHER_CURRENT_MEDIAN', 'CNT_DRAWINGS_POS_CURRENT_MEAN', 'CNT_DRAWINGS_POS_CURRENT_MAX', 'CNT_DRAWINGS_POS_CURRENT_SUM', 'CNT_DRAWINGS_POS_CURRENT_VAR', 'CNT_DRAWINGS_POS_CURRENT_MEDIAN', 'CNT_INSTALMENT_MATURE_CUM_MEAN', 'CNT_INSTALMENT_MATURE_CUM_MAX', 'CNT_INSTALMENT_MATURE_CUM_SUM', 'CNT_INSTALMENT_MATURE_CUM_VAR', 'CNT_INSTALMENT_MATURE_CUM_MEDIAN', 'SK_DPD_MEAN_x', 'SK_DPD_MAX_x', 'SK_DPD_SUM_x', 'SK_DPD_VAR_x', 'SK_DPD_MEDIAN_x', 'SK_DPD_DEF_MEAN_x', 'SK_DPD_DEF_MAX_x', 'SK_DPD_DEF_SUM_x', 'SK_DPD_DEF_VAR_x', 'SK_DPD_DEF_MEDIAN_x', 'MONTHS_BALANCE_MEAN_y', 'MONTHS_BALANCE_MAX_y', 'MONTHS_BALANCE_SUM_y', 'MONTHS_BALANCE_VAR_y', 'MONTHS_BALANCE_MEDIAN_y', 'CNT_INSTALMENT_MEAN', 'CNT_INSTALMENT_MAX', 'CNT_INSTALMENT_SUM', 'CNT_INSTALMENT_VAR', 'CNT_INSTALMENT_MEDIAN', 'CNT_INSTALMENT_FUTURE_MEAN', 'CNT_INSTALMENT_FUTURE_MAX', 'CNT_INSTALMENT_FUTURE_SUM', 'CNT_INSTALMENT_FUTURE_VAR', 'CNT_INSTALMENT_FUTURE_MEDIAN', 'SK_DPD_MEAN_y', 'SK_DPD_MAX_y', 'SK_DPD_SUM_y', 'SK_DPD_VAR_y', 'SK_DPD_MEDIAN_y', 'SK_DPD_DEF_MEAN_y', 'SK_DPD_DEF_MAX_y', 'SK_DPD_DEF_SUM_y', 'SK_DPD_DEF_VAR_y', 'SK_DPD_DEF_MEDIAN_y', 'NUM_INSTALMENT_VERSION_MEAN', 'NUM_INSTALMENT_VERSION_MAX', 'NUM_INSTALMENT_VERSION_SUM', 'NUM_INSTALMENT_VERSION_VAR', 'NUM_INSTALMENT_VERSION_MEDIAN', 'NUM_INSTALMENT_NUMBER_MEAN', 'NUM_INSTALMENT_NUMBER_MAX', 'NUM_INSTALMENT_NUMBER_SUM', 'NUM_INSTALMENT_NUMBER_VAR', 'NUM_INSTALMENT_NUMBER_MEDIAN', 'DAYS_INSTALMENT_MEAN', 'DAYS_INSTALMENT_MAX', 'DAYS_INSTALMENT_SUM', 'DAYS_INSTALMENT_VAR', 'DAYS_INSTALMENT_MEDIAN', 'DAYS_ENTRY_PAYMENT_MEAN', 'DAYS_ENTRY_PAYMENT_MAX', 'DAYS_ENTRY_PAYMENT_SUM', 'DAYS_ENTRY_PAYMENT_VAR', 'DAYS_ENTRY_PAYMENT_MEDIAN', 'AMT_INSTALMENT_MEAN', 'AMT_INSTALMENT_MAX', 'AMT_INSTALMENT_SUM', 'AMT_INSTALMENT_VAR', 'AMT_INSTALMENT_MEDIAN', 'AMT_PAYMENT_MEAN', 'AMT_PAYMENT_MAX', 'AMT_PAYMENT_SUM', 'AMT_PAYMENT_VAR', 'AMT_PAYMENT_MEDIAN', 'BUR_DAYS_CREDIT_MIN', 'BUR_DAYS_CREDIT_MAX', 'BUR_DAYS_CREDIT_SIZE', 'BUR_DAYS_CREDIT_MEAN', 'BUR_DAYS_CREDIT_VAR', 'BUR_DAYS_CREDIT_MEDIAN', 'BUR_CREDIT_DAY_OVERDUE_MIN', 'BUR_CREDIT_DAY_OVERDUE_MAX', 'BUR_CREDIT_DAY_OVERDUE_SIZE', 'BUR_CREDIT_DAY_OVERDUE_MEAN', 'BUR_CREDIT_DAY_OVERDUE_VAR', 'BUR_CREDIT_DAY_OVERDUE_MEDIAN', 'BUR_DAYS_CREDIT_ENDDATE_MIN', 'BUR_DAYS_CREDIT_ENDDATE_MAX', 'BUR_DAYS_CREDIT_ENDDATE_SIZE', 'BUR_DAYS_CREDIT_ENDDATE_MEAN', 'BUR_DAYS_CREDIT_ENDDATE_VAR', 'BUR_DAYS_CREDIT_ENDDATE_MEDIAN', 'BUR_DAYS_ENDDATE_FACT_MIN', 'BUR_DAYS_ENDDATE_FACT_MAX', 'BUR_DAYS_ENDDATE_FACT_SIZE', 'BUR_DAYS_ENDDATE_FACT_MEAN', 'BUR_DAYS_ENDDATE_FACT_VAR', 'BUR_DAYS_ENDDATE_FACT_MEDIAN', 'BUR_AMT_CREDIT_MAX_OVERDUE_MIN', 'BUR_AMT_CREDIT_MAX_OVERDUE_MAX', 'BUR_AMT_CREDIT_MAX_OVERDUE_SIZE', 'BUR_AMT_CREDIT_MAX_OVERDUE_MEAN', 'BUR_AMT_CREDIT_MAX_OVERDUE_VAR', 'BUR_AMT_CREDIT_MAX_OVERDUE_MEDIAN', 'BUR_CNT_CREDIT_PROLONG_MIN', 'BUR_CNT_CREDIT_PROLONG_MAX', 'BUR_CNT_CREDIT_PROLONG_SIZE', 'BUR_CNT_CREDIT_PROLONG_MEAN', 'BUR_CNT_CREDIT_PROLONG_VAR', 'BUR_CNT_CREDIT_PROLONG_MEDIAN', 'BUR_AMT_CREDIT_SUM_MIN', 'BUR_AMT_CREDIT_SUM_MAX', 'BUR_AMT_CREDIT_SUM_SIZE', 'BUR_AMT_CREDIT_SUM_MEAN', 'BUR_AMT_CREDIT_SUM_VAR', 'BUR_AMT_CREDIT_SUM_MEDIAN', 'BUR_AMT_CREDIT_SUM_DEBT_MIN', 'BUR_AMT_CREDIT_SUM_DEBT_MAX', 'BUR_AMT_CREDIT_SUM_DEBT_SIZE', 'BUR_AMT_CREDIT_SUM_DEBT_MEAN', 'BUR_AMT_CREDIT_SUM_DEBT_VAR', 'BUR_AMT_CREDIT_SUM_DEBT_MEDIAN', 'BUR_AMT_CREDIT_SUM_LIMIT_MIN', 'BUR_AMT_CREDIT_SUM_LIMIT_MAX', 'BUR_AMT_CREDIT_SUM_LIMIT_SIZE', 'BUR_AMT_CREDIT_SUM_LIMIT_MEAN', 'BUR_AMT_CREDIT_SUM_LIMIT_VAR', 'BUR_AMT_CREDIT_SUM_LIMIT_MEDIAN', 'BUR_AMT_CREDIT_SUM_OVERDUE_MIN', 'BUR_AMT_CREDIT_SUM_OVERDUE_MAX', 'BUR_AMT_CREDIT_SUM_OVERDUE_SIZE', 'BUR_AMT_CREDIT_SUM_OVERDUE_MEAN', 'BUR_AMT_CREDIT_SUM_OVERDUE_VAR', 'BUR_AMT_CREDIT_SUM_OVERDUE_MEDIAN', 'BUR_DAYS_CREDIT_UPDATE_MIN', 'BUR_DAYS_CREDIT_UPDATE_MAX', 'BUR_DAYS_CREDIT_UPDATE_SIZE', 'BUR_DAYS_CREDIT_UPDATE_MEAN', 'BUR_DAYS_CREDIT_UPDATE_VAR', 'BUR_DAYS_CREDIT_UPDATE_MEDIAN', 'BUR_AMT_ANNUITY_MIN', 'BUR_AMT_ANNUITY_MAX', 'BUR_AMT_ANNUITY_SIZE', 'BUR_AMT_ANNUITY_MEAN', 'BUR_AMT_ANNUITY_VAR', 'BUR_AMT_ANNUITY_MEDIAN', 'BUR_MONTHS_BALANCE_MIN_MIN', 'BUR_MONTHS_BALANCE_MIN_MAX', 'BUR_MONTHS_BALANCE_MIN_SIZE', 'BUR_MONTHS_BALANCE_MIN_MEAN', 'BUR_MONTHS_BALANCE_MIN_VAR', 'BUR_MONTHS_BALANCE_MIN_MEDIAN', 'BUR_MONTHS_BALANCE_MAX_MIN', 'BUR_MONTHS_BALANCE_MAX_MAX', 'BUR_MONTHS_BALANCE_MAX_SIZE', 'BUR_MONTHS_BALANCE_MAX_MEAN', 'BUR_MONTHS_BALANCE_MAX_VAR', 'BUR_MONTHS_BALANCE_MAX_MEDIAN', 'BUR_MONTHS_BALANCE_SIZE_MIN', 'BUR_MONTHS_BALANCE_SIZE_MAX', 'BUR_MONTHS_BALANCE_SIZE_SIZE', 'BUR_MONTHS_BALANCE_SIZE_MEAN', 'BUR_MONTHS_BALANCE_SIZE_VAR', 'BUR_MONTHS_BALANCE_SIZE_MEDIAN', 'BUR_MONTHS_BALANCE_MEAN_MIN', 'BUR_MONTHS_BALANCE_MEAN_MAX', 'BUR_MONTHS_BALANCE_MEAN_SIZE', 'BUR_MONTHS_BALANCE_MEAN_MEAN', 'BUR_MONTHS_BALANCE_MEAN_VAR', 'BUR_MONTHS_BALANCE_MEAN_MEDIAN', 'BUR_MONTHS_BALANCE_VAR_MIN', 'BUR_MONTHS_BALANCE_VAR_MAX', 'BUR_MONTHS_BALANCE_VAR_SIZE', 'BUR_MONTHS_BALANCE_VAR_MEAN', 'BUR_MONTHS_BALANCE_VAR_VAR', 'BUR_MONTHS_BALANCE_VAR_MEDIAN', 'BUR_MONTHS_BALANCE_MEDIAN_MIN', 'BUR_MONTHS_BALANCE_MEDIAN_MAX', 'BUR_MONTHS_BALANCE_MEDIAN_SIZE', 'BUR_MONTHS_BALANCE_MEDIAN_MEAN', 'BUR_MONTHS_BALANCE_MEDIAN_VAR', 'BUR_MONTHS_BALANCE_MEDIAN_MEDIAN', 'INCOME_CREDIT_PERC', 'INCOME_PER_PERSON', 'ANNUITY_INCOME_PERC', 'LOAN_INCOME_RATIO', 'CONSUMER_GOODS_RATIO', 'ANNUITY LENGTH']\n",
            "Number of categorical columns in application_test:  16 \n",
            " ['NAME_CONTRACT_TYPE', 'CODE_GENDER', 'FLAG_OWN_CAR', 'FLAG_OWN_REALTY', 'NAME_TYPE_SUITE', 'NAME_INCOME_TYPE', 'NAME_EDUCATION_TYPE', 'NAME_FAMILY_STATUS', 'NAME_HOUSING_TYPE', 'OCCUPATION_TYPE', 'WEEKDAY_APPR_PROCESS_START', 'ORGANIZATION_TYPE', 'FONDKAPREMONT_MODE', 'HOUSETYPE_MODE', 'WALLSMATERIAL_MODE', 'EMERGENCYSTATE_MODE']\n",
            "Number of numerical columns in application_test:  468 \n",
            " ['CNT_CHILDREN', 'AMT_INCOME_TOTAL', 'AMT_CREDIT', 'AMT_ANNUITY', 'AMT_GOODS_PRICE', 'REGION_POPULATION_RELATIVE', 'DAYS_BIRTH', 'DAYS_EMPLOYED', 'DAYS_REGISTRATION', 'DAYS_ID_PUBLISH', 'OWN_CAR_AGE', 'FLAG_MOBIL', 'FLAG_EMP_PHONE', 'FLAG_WORK_PHONE', 'FLAG_CONT_MOBILE', 'FLAG_PHONE', 'FLAG_EMAIL', 'CNT_FAM_MEMBERS', 'REGION_RATING_CLIENT', 'REGION_RATING_CLIENT_W_CITY', 'HOUR_APPR_PROCESS_START', 'REG_REGION_NOT_LIVE_REGION', 'REG_REGION_NOT_WORK_REGION', 'LIVE_REGION_NOT_WORK_REGION', 'REG_CITY_NOT_LIVE_CITY', 'REG_CITY_NOT_WORK_CITY', 'LIVE_CITY_NOT_WORK_CITY', 'EXT_SOURCE_1', 'EXT_SOURCE_2', 'EXT_SOURCE_3', 'APARTMENTS_AVG', 'BASEMENTAREA_AVG', 'YEARS_BEGINEXPLUATATION_AVG', 'YEARS_BUILD_AVG', 'COMMONAREA_AVG', 'ELEVATORS_AVG', 'ENTRANCES_AVG', 'FLOORSMAX_AVG', 'FLOORSMIN_AVG', 'LANDAREA_AVG', 'LIVINGAPARTMENTS_AVG', 'LIVINGAREA_AVG', 'NONLIVINGAPARTMENTS_AVG', 'NONLIVINGAREA_AVG', 'APARTMENTS_MODE', 'BASEMENTAREA_MODE', 'YEARS_BEGINEXPLUATATION_MODE', 'YEARS_BUILD_MODE', 'COMMONAREA_MODE', 'ELEVATORS_MODE', 'ENTRANCES_MODE', 'FLOORSMAX_MODE', 'FLOORSMIN_MODE', 'LANDAREA_MODE', 'LIVINGAPARTMENTS_MODE', 'LIVINGAREA_MODE', 'NONLIVINGAPARTMENTS_MODE', 'NONLIVINGAREA_MODE', 'APARTMENTS_MEDI', 'BASEMENTAREA_MEDI', 'YEARS_BEGINEXPLUATATION_MEDI', 'YEARS_BUILD_MEDI', 'COMMONAREA_MEDI', 'ELEVATORS_MEDI', 'ENTRANCES_MEDI', 'FLOORSMAX_MEDI', 'FLOORSMIN_MEDI', 'LANDAREA_MEDI', 'LIVINGAPARTMENTS_MEDI', 'LIVINGAREA_MEDI', 'NONLIVINGAPARTMENTS_MEDI', 'NONLIVINGAREA_MEDI', 'TOTALAREA_MODE', 'OBS_30_CNT_SOCIAL_CIRCLE', 'DEF_30_CNT_SOCIAL_CIRCLE', 'OBS_60_CNT_SOCIAL_CIRCLE', 'DEF_60_CNT_SOCIAL_CIRCLE', 'DAYS_LAST_PHONE_CHANGE', 'FLAG_DOCUMENT_2', 'FLAG_DOCUMENT_3', 'FLAG_DOCUMENT_4', 'FLAG_DOCUMENT_5', 'FLAG_DOCUMENT_6', 'FLAG_DOCUMENT_7', 'FLAG_DOCUMENT_8', 'FLAG_DOCUMENT_9', 'FLAG_DOCUMENT_10', 'FLAG_DOCUMENT_11', 'FLAG_DOCUMENT_12', 'FLAG_DOCUMENT_13', 'FLAG_DOCUMENT_14', 'FLAG_DOCUMENT_15', 'FLAG_DOCUMENT_16', 'FLAG_DOCUMENT_17', 'FLAG_DOCUMENT_18', 'FLAG_DOCUMENT_19', 'FLAG_DOCUMENT_20', 'FLAG_DOCUMENT_21', 'AMT_REQ_CREDIT_BUREAU_HOUR', 'AMT_REQ_CREDIT_BUREAU_DAY', 'AMT_REQ_CREDIT_BUREAU_WEEK', 'AMT_REQ_CREDIT_BUREAU_MON', 'AMT_REQ_CREDIT_BUREAU_QRT', 'AMT_REQ_CREDIT_BUREAU_YEAR', 'AMT_ANNUITY_MEAN', 'AMT_ANNUITY_MAX', 'AMT_ANNUITY_SUM', 'AMT_ANNUITY_VAR', 'AMT_ANNUITY_MEDIAN', 'AMT_APPLICATION_MEAN', 'AMT_APPLICATION_MAX', 'AMT_APPLICATION_SUM', 'AMT_APPLICATION_VAR', 'AMT_APPLICATION_MEDIAN', 'AMT_CREDIT_MEAN', 'AMT_CREDIT_MAX', 'AMT_CREDIT_SUM', 'AMT_CREDIT_VAR', 'AMT_CREDIT_MEDIAN', 'AMT_DOWN_PAYMENT_MEAN', 'AMT_DOWN_PAYMENT_MAX', 'AMT_DOWN_PAYMENT_SUM', 'AMT_DOWN_PAYMENT_VAR', 'AMT_DOWN_PAYMENT_MEDIAN', 'AMT_GOODS_PRICE_MEAN', 'AMT_GOODS_PRICE_MAX', 'AMT_GOODS_PRICE_SUM', 'AMT_GOODS_PRICE_VAR', 'AMT_GOODS_PRICE_MEDIAN', 'HOUR_APPR_PROCESS_START_MEAN', 'HOUR_APPR_PROCESS_START_MAX', 'HOUR_APPR_PROCESS_START_SUM', 'HOUR_APPR_PROCESS_START_VAR', 'HOUR_APPR_PROCESS_START_MEDIAN', 'NFLAG_LAST_APPL_IN_DAY_MEAN', 'NFLAG_LAST_APPL_IN_DAY_MAX', 'NFLAG_LAST_APPL_IN_DAY_SUM', 'NFLAG_LAST_APPL_IN_DAY_VAR', 'NFLAG_LAST_APPL_IN_DAY_MEDIAN', 'RATE_DOWN_PAYMENT_MEAN', 'RATE_DOWN_PAYMENT_MAX', 'RATE_DOWN_PAYMENT_SUM', 'RATE_DOWN_PAYMENT_VAR', 'RATE_DOWN_PAYMENT_MEDIAN', 'RATE_INTEREST_PRIMARY_MEAN', 'RATE_INTEREST_PRIMARY_MAX', 'RATE_INTEREST_PRIMARY_SUM', 'RATE_INTEREST_PRIMARY_VAR', 'RATE_INTEREST_PRIMARY_MEDIAN', 'RATE_INTEREST_PRIVILEGED_MEAN', 'RATE_INTEREST_PRIVILEGED_MAX', 'RATE_INTEREST_PRIVILEGED_SUM', 'RATE_INTEREST_PRIVILEGED_VAR', 'RATE_INTEREST_PRIVILEGED_MEDIAN', 'DAYS_DECISION_MEAN', 'DAYS_DECISION_MAX', 'DAYS_DECISION_SUM', 'DAYS_DECISION_VAR', 'DAYS_DECISION_MEDIAN', 'SELLERPLACE_AREA_MEAN', 'SELLERPLACE_AREA_MAX', 'SELLERPLACE_AREA_SUM', 'SELLERPLACE_AREA_VAR', 'SELLERPLACE_AREA_MEDIAN', 'CNT_PAYMENT_MEAN', 'CNT_PAYMENT_MAX', 'CNT_PAYMENT_SUM', 'CNT_PAYMENT_VAR', 'CNT_PAYMENT_MEDIAN', 'DAYS_FIRST_DRAWING_MEAN', 'DAYS_FIRST_DRAWING_MAX', 'DAYS_FIRST_DRAWING_SUM', 'DAYS_FIRST_DRAWING_VAR', 'DAYS_FIRST_DRAWING_MEDIAN', 'DAYS_FIRST_DUE_MEAN', 'DAYS_FIRST_DUE_MAX', 'DAYS_FIRST_DUE_SUM', 'DAYS_FIRST_DUE_VAR', 'DAYS_FIRST_DUE_MEDIAN', 'DAYS_LAST_DUE_1ST_VERSION_MEAN', 'DAYS_LAST_DUE_1ST_VERSION_MAX', 'DAYS_LAST_DUE_1ST_VERSION_SUM', 'DAYS_LAST_DUE_1ST_VERSION_VAR', 'DAYS_LAST_DUE_1ST_VERSION_MEDIAN', 'DAYS_LAST_DUE_MEAN', 'DAYS_LAST_DUE_MAX', 'DAYS_LAST_DUE_SUM', 'DAYS_LAST_DUE_VAR', 'DAYS_LAST_DUE_MEDIAN', 'DAYS_TERMINATION_MEAN', 'DAYS_TERMINATION_MAX', 'DAYS_TERMINATION_SUM', 'DAYS_TERMINATION_VAR', 'DAYS_TERMINATION_MEDIAN', 'NFLAG_INSURED_ON_APPROVAL_MEAN', 'NFLAG_INSURED_ON_APPROVAL_MAX', 'NFLAG_INSURED_ON_APPROVAL_SUM', 'NFLAG_INSURED_ON_APPROVAL_VAR', 'NFLAG_INSURED_ON_APPROVAL_MEDIAN', 'MONTHS_BALANCE_MEAN_x', 'MONTHS_BALANCE_MAX_x', 'MONTHS_BALANCE_SUM_x', 'MONTHS_BALANCE_VAR_x', 'MONTHS_BALANCE_MEDIAN_x', 'AMT_BALANCE_MEAN', 'AMT_BALANCE_MAX', 'AMT_BALANCE_SUM', 'AMT_BALANCE_VAR', 'AMT_BALANCE_MEDIAN', 'AMT_CREDIT_LIMIT_ACTUAL_MEAN', 'AMT_CREDIT_LIMIT_ACTUAL_MAX', 'AMT_CREDIT_LIMIT_ACTUAL_SUM', 'AMT_CREDIT_LIMIT_ACTUAL_VAR', 'AMT_CREDIT_LIMIT_ACTUAL_MEDIAN', 'AMT_DRAWINGS_ATM_CURRENT_MEAN', 'AMT_DRAWINGS_ATM_CURRENT_MAX', 'AMT_DRAWINGS_ATM_CURRENT_SUM', 'AMT_DRAWINGS_ATM_CURRENT_VAR', 'AMT_DRAWINGS_ATM_CURRENT_MEDIAN', 'AMT_DRAWINGS_CURRENT_MEAN', 'AMT_DRAWINGS_CURRENT_MAX', 'AMT_DRAWINGS_CURRENT_SUM', 'AMT_DRAWINGS_CURRENT_VAR', 'AMT_DRAWINGS_CURRENT_MEDIAN', 'AMT_DRAWINGS_OTHER_CURRENT_MEAN', 'AMT_DRAWINGS_OTHER_CURRENT_MAX', 'AMT_DRAWINGS_OTHER_CURRENT_SUM', 'AMT_DRAWINGS_OTHER_CURRENT_VAR', 'AMT_DRAWINGS_OTHER_CURRENT_MEDIAN', 'AMT_DRAWINGS_POS_CURRENT_MEAN', 'AMT_DRAWINGS_POS_CURRENT_MAX', 'AMT_DRAWINGS_POS_CURRENT_SUM', 'AMT_DRAWINGS_POS_CURRENT_VAR', 'AMT_DRAWINGS_POS_CURRENT_MEDIAN', 'AMT_INST_MIN_REGULARITY_MEAN', 'AMT_INST_MIN_REGULARITY_MAX', 'AMT_INST_MIN_REGULARITY_SUM', 'AMT_INST_MIN_REGULARITY_VAR', 'AMT_INST_MIN_REGULARITY_MEDIAN', 'AMT_PAYMENT_CURRENT_MEAN', 'AMT_PAYMENT_CURRENT_MAX', 'AMT_PAYMENT_CURRENT_SUM', 'AMT_PAYMENT_CURRENT_VAR', 'AMT_PAYMENT_CURRENT_MEDIAN', 'AMT_PAYMENT_TOTAL_CURRENT_MEAN', 'AMT_PAYMENT_TOTAL_CURRENT_MAX', 'AMT_PAYMENT_TOTAL_CURRENT_SUM', 'AMT_PAYMENT_TOTAL_CURRENT_VAR', 'AMT_PAYMENT_TOTAL_CURRENT_MEDIAN', 'AMT_RECEIVABLE_PRINCIPAL_MEAN', 'AMT_RECEIVABLE_PRINCIPAL_MAX', 'AMT_RECEIVABLE_PRINCIPAL_SUM', 'AMT_RECEIVABLE_PRINCIPAL_VAR', 'AMT_RECEIVABLE_PRINCIPAL_MEDIAN', 'AMT_RECIVABLE_MEAN', 'AMT_RECIVABLE_MAX', 'AMT_RECIVABLE_SUM', 'AMT_RECIVABLE_VAR', 'AMT_RECIVABLE_MEDIAN', 'AMT_TOTAL_RECEIVABLE_MEAN', 'AMT_TOTAL_RECEIVABLE_MAX', 'AMT_TOTAL_RECEIVABLE_SUM', 'AMT_TOTAL_RECEIVABLE_VAR', 'AMT_TOTAL_RECEIVABLE_MEDIAN', 'CNT_DRAWINGS_ATM_CURRENT_MEAN', 'CNT_DRAWINGS_ATM_CURRENT_MAX', 'CNT_DRAWINGS_ATM_CURRENT_SUM', 'CNT_DRAWINGS_ATM_CURRENT_VAR', 'CNT_DRAWINGS_ATM_CURRENT_MEDIAN', 'CNT_DRAWINGS_CURRENT_MEAN', 'CNT_DRAWINGS_CURRENT_MAX', 'CNT_DRAWINGS_CURRENT_SUM', 'CNT_DRAWINGS_CURRENT_VAR', 'CNT_DRAWINGS_CURRENT_MEDIAN', 'CNT_DRAWINGS_OTHER_CURRENT_MEAN', 'CNT_DRAWINGS_OTHER_CURRENT_MAX', 'CNT_DRAWINGS_OTHER_CURRENT_SUM', 'CNT_DRAWINGS_OTHER_CURRENT_VAR', 'CNT_DRAWINGS_OTHER_CURRENT_MEDIAN', 'CNT_DRAWINGS_POS_CURRENT_MEAN', 'CNT_DRAWINGS_POS_CURRENT_MAX', 'CNT_DRAWINGS_POS_CURRENT_SUM', 'CNT_DRAWINGS_POS_CURRENT_VAR', 'CNT_DRAWINGS_POS_CURRENT_MEDIAN', 'CNT_INSTALMENT_MATURE_CUM_MEAN', 'CNT_INSTALMENT_MATURE_CUM_MAX', 'CNT_INSTALMENT_MATURE_CUM_SUM', 'CNT_INSTALMENT_MATURE_CUM_VAR', 'CNT_INSTALMENT_MATURE_CUM_MEDIAN', 'SK_DPD_MEAN_x', 'SK_DPD_MAX_x', 'SK_DPD_SUM_x', 'SK_DPD_VAR_x', 'SK_DPD_MEDIAN_x', 'SK_DPD_DEF_MEAN_x', 'SK_DPD_DEF_MAX_x', 'SK_DPD_DEF_SUM_x', 'SK_DPD_DEF_VAR_x', 'SK_DPD_DEF_MEDIAN_x', 'MONTHS_BALANCE_MEAN_y', 'MONTHS_BALANCE_MAX_y', 'MONTHS_BALANCE_SUM_y', 'MONTHS_BALANCE_VAR_y', 'MONTHS_BALANCE_MEDIAN_y', 'CNT_INSTALMENT_MEAN', 'CNT_INSTALMENT_MAX', 'CNT_INSTALMENT_SUM', 'CNT_INSTALMENT_VAR', 'CNT_INSTALMENT_MEDIAN', 'CNT_INSTALMENT_FUTURE_MEAN', 'CNT_INSTALMENT_FUTURE_MAX', 'CNT_INSTALMENT_FUTURE_SUM', 'CNT_INSTALMENT_FUTURE_VAR', 'CNT_INSTALMENT_FUTURE_MEDIAN', 'SK_DPD_MEAN_y', 'SK_DPD_MAX_y', 'SK_DPD_SUM_y', 'SK_DPD_VAR_y', 'SK_DPD_MEDIAN_y', 'SK_DPD_DEF_MEAN_y', 'SK_DPD_DEF_MAX_y', 'SK_DPD_DEF_SUM_y', 'SK_DPD_DEF_VAR_y', 'SK_DPD_DEF_MEDIAN_y', 'NUM_INSTALMENT_VERSION_MEAN', 'NUM_INSTALMENT_VERSION_MAX', 'NUM_INSTALMENT_VERSION_SUM', 'NUM_INSTALMENT_VERSION_VAR', 'NUM_INSTALMENT_VERSION_MEDIAN', 'NUM_INSTALMENT_NUMBER_MEAN', 'NUM_INSTALMENT_NUMBER_MAX', 'NUM_INSTALMENT_NUMBER_SUM', 'NUM_INSTALMENT_NUMBER_VAR', 'NUM_INSTALMENT_NUMBER_MEDIAN', 'DAYS_INSTALMENT_MEAN', 'DAYS_INSTALMENT_MAX', 'DAYS_INSTALMENT_SUM', 'DAYS_INSTALMENT_VAR', 'DAYS_INSTALMENT_MEDIAN', 'DAYS_ENTRY_PAYMENT_MEAN', 'DAYS_ENTRY_PAYMENT_MAX', 'DAYS_ENTRY_PAYMENT_SUM', 'DAYS_ENTRY_PAYMENT_VAR', 'DAYS_ENTRY_PAYMENT_MEDIAN', 'AMT_INSTALMENT_MEAN', 'AMT_INSTALMENT_MAX', 'AMT_INSTALMENT_SUM', 'AMT_INSTALMENT_VAR', 'AMT_INSTALMENT_MEDIAN', 'AMT_PAYMENT_MEAN', 'AMT_PAYMENT_MAX', 'AMT_PAYMENT_SUM', 'AMT_PAYMENT_VAR', 'AMT_PAYMENT_MEDIAN', 'BUR_DAYS_CREDIT_MIN', 'BUR_DAYS_CREDIT_MAX', 'BUR_DAYS_CREDIT_SIZE', 'BUR_DAYS_CREDIT_MEAN', 'BUR_DAYS_CREDIT_VAR', 'BUR_DAYS_CREDIT_MEDIAN', 'BUR_CREDIT_DAY_OVERDUE_MIN', 'BUR_CREDIT_DAY_OVERDUE_MAX', 'BUR_CREDIT_DAY_OVERDUE_SIZE', 'BUR_CREDIT_DAY_OVERDUE_MEAN', 'BUR_CREDIT_DAY_OVERDUE_VAR', 'BUR_CREDIT_DAY_OVERDUE_MEDIAN', 'BUR_DAYS_CREDIT_ENDDATE_MIN', 'BUR_DAYS_CREDIT_ENDDATE_MAX', 'BUR_DAYS_CREDIT_ENDDATE_SIZE', 'BUR_DAYS_CREDIT_ENDDATE_MEAN', 'BUR_DAYS_CREDIT_ENDDATE_VAR', 'BUR_DAYS_CREDIT_ENDDATE_MEDIAN', 'BUR_DAYS_ENDDATE_FACT_MIN', 'BUR_DAYS_ENDDATE_FACT_MAX', 'BUR_DAYS_ENDDATE_FACT_SIZE', 'BUR_DAYS_ENDDATE_FACT_MEAN', 'BUR_DAYS_ENDDATE_FACT_VAR', 'BUR_DAYS_ENDDATE_FACT_MEDIAN', 'BUR_AMT_CREDIT_MAX_OVERDUE_MIN', 'BUR_AMT_CREDIT_MAX_OVERDUE_MAX', 'BUR_AMT_CREDIT_MAX_OVERDUE_SIZE', 'BUR_AMT_CREDIT_MAX_OVERDUE_MEAN', 'BUR_AMT_CREDIT_MAX_OVERDUE_VAR', 'BUR_AMT_CREDIT_MAX_OVERDUE_MEDIAN', 'BUR_CNT_CREDIT_PROLONG_MIN', 'BUR_CNT_CREDIT_PROLONG_MAX', 'BUR_CNT_CREDIT_PROLONG_SIZE', 'BUR_CNT_CREDIT_PROLONG_MEAN', 'BUR_CNT_CREDIT_PROLONG_VAR', 'BUR_CNT_CREDIT_PROLONG_MEDIAN', 'BUR_AMT_CREDIT_SUM_MIN', 'BUR_AMT_CREDIT_SUM_MAX', 'BUR_AMT_CREDIT_SUM_SIZE', 'BUR_AMT_CREDIT_SUM_MEAN', 'BUR_AMT_CREDIT_SUM_VAR', 'BUR_AMT_CREDIT_SUM_MEDIAN', 'BUR_AMT_CREDIT_SUM_DEBT_MIN', 'BUR_AMT_CREDIT_SUM_DEBT_MAX', 'BUR_AMT_CREDIT_SUM_DEBT_SIZE', 'BUR_AMT_CREDIT_SUM_DEBT_MEAN', 'BUR_AMT_CREDIT_SUM_DEBT_VAR', 'BUR_AMT_CREDIT_SUM_DEBT_MEDIAN', 'BUR_AMT_CREDIT_SUM_LIMIT_MIN', 'BUR_AMT_CREDIT_SUM_LIMIT_MAX', 'BUR_AMT_CREDIT_SUM_LIMIT_SIZE', 'BUR_AMT_CREDIT_SUM_LIMIT_MEAN', 'BUR_AMT_CREDIT_SUM_LIMIT_VAR', 'BUR_AMT_CREDIT_SUM_LIMIT_MEDIAN', 'BUR_AMT_CREDIT_SUM_OVERDUE_MIN', 'BUR_AMT_CREDIT_SUM_OVERDUE_MAX', 'BUR_AMT_CREDIT_SUM_OVERDUE_SIZE', 'BUR_AMT_CREDIT_SUM_OVERDUE_MEAN', 'BUR_AMT_CREDIT_SUM_OVERDUE_VAR', 'BUR_AMT_CREDIT_SUM_OVERDUE_MEDIAN', 'BUR_DAYS_CREDIT_UPDATE_MIN', 'BUR_DAYS_CREDIT_UPDATE_MAX', 'BUR_DAYS_CREDIT_UPDATE_SIZE', 'BUR_DAYS_CREDIT_UPDATE_MEAN', 'BUR_DAYS_CREDIT_UPDATE_VAR', 'BUR_DAYS_CREDIT_UPDATE_MEDIAN', 'BUR_AMT_ANNUITY_MIN', 'BUR_AMT_ANNUITY_MAX', 'BUR_AMT_ANNUITY_SIZE', 'BUR_AMT_ANNUITY_MEAN', 'BUR_AMT_ANNUITY_VAR', 'BUR_AMT_ANNUITY_MEDIAN', 'BUR_MONTHS_BALANCE_MIN_MIN', 'BUR_MONTHS_BALANCE_MIN_MAX', 'BUR_MONTHS_BALANCE_MIN_SIZE', 'BUR_MONTHS_BALANCE_MIN_MEAN', 'BUR_MONTHS_BALANCE_MIN_VAR', 'BUR_MONTHS_BALANCE_MIN_MEDIAN', 'BUR_MONTHS_BALANCE_MAX_MIN', 'BUR_MONTHS_BALANCE_MAX_MAX', 'BUR_MONTHS_BALANCE_MAX_SIZE', 'BUR_MONTHS_BALANCE_MAX_MEAN', 'BUR_MONTHS_BALANCE_MAX_VAR', 'BUR_MONTHS_BALANCE_MAX_MEDIAN', 'BUR_MONTHS_BALANCE_SIZE_MIN', 'BUR_MONTHS_BALANCE_SIZE_MAX', 'BUR_MONTHS_BALANCE_SIZE_SIZE', 'BUR_MONTHS_BALANCE_SIZE_MEAN', 'BUR_MONTHS_BALANCE_SIZE_VAR', 'BUR_MONTHS_BALANCE_SIZE_MEDIAN', 'BUR_MONTHS_BALANCE_MEAN_MIN', 'BUR_MONTHS_BALANCE_MEAN_MAX', 'BUR_MONTHS_BALANCE_MEAN_SIZE', 'BUR_MONTHS_BALANCE_MEAN_MEAN', 'BUR_MONTHS_BALANCE_MEAN_VAR', 'BUR_MONTHS_BALANCE_MEAN_MEDIAN', 'BUR_MONTHS_BALANCE_VAR_MIN', 'BUR_MONTHS_BALANCE_VAR_MAX', 'BUR_MONTHS_BALANCE_VAR_SIZE', 'BUR_MONTHS_BALANCE_VAR_MEAN', 'BUR_MONTHS_BALANCE_VAR_VAR', 'BUR_MONTHS_BALANCE_VAR_MEDIAN', 'BUR_MONTHS_BALANCE_MEDIAN_MIN', 'BUR_MONTHS_BALANCE_MEDIAN_MAX', 'BUR_MONTHS_BALANCE_MEDIAN_SIZE', 'BUR_MONTHS_BALANCE_MEDIAN_MEAN', 'BUR_MONTHS_BALANCE_MEDIAN_VAR', 'BUR_MONTHS_BALANCE_MEDIAN_MEDIAN', 'INCOME_CREDIT_PERC', 'INCOME_PER_PERSON', 'ANNUITY_INCOME_PERC', 'LOAN_INCOME_RATIO', 'CONSUMER_GOODS_RATIO', 'ANNUITY LENGTH']\n"
          ],
          "name": "stdout"
        }
      ]
    },
    {
      "cell_type": "code",
      "metadata": {
        "id": "8cqCPPAfrsxT"
      },
      "source": [
        "# atCC.remove('SK_ID_CURR')\n",
        "# atestCC.remove('SK_ID_CURR')"
      ],
      "execution_count": null,
      "outputs": []
    },
    {
      "cell_type": "code",
      "metadata": {
        "id": "xYvGGBOkJKzM"
      },
      "source": [
        "at_corr=application_train.corr()"
      ],
      "execution_count": null,
      "outputs": []
    },
    {
      "cell_type": "code",
      "metadata": {
        "id": "bV35g1VY3Z_q"
      },
      "source": [
        "new_application_train_all_features = application_train.copy()\n",
        "new_application_train = remove_corr_columns(application_train,atNC,atCC,at_corr)"
      ],
      "execution_count": null,
      "outputs": []
    },
    {
      "cell_type": "code",
      "metadata": {
        "colab": {
          "base_uri": "https://localhost:8080/"
        },
        "id": "63VM9y-ruhQa",
        "outputId": "849f8032-13a0-49ef-c6b6-ba3aa6eed8da"
      },
      "source": [
        "labels = new_application_train['TARGET']\n",
        "\n",
        "new_application_train, new_application_test = new_application_train.align(application_test, join = 'inner', axis = 1)\n",
        "new_application_train_all_features, new_application_test_all_features = new_application_train_all_features.align(application_test, join = 'inner', axis = 1)\n",
        "\n",
        "new_application_train['TARGET'] = labels\n",
        "new_application_train_all_features['TARGET'] = labels\n",
        "\n",
        "print('Training Features shape: ', new_application_train.shape)\n",
        "print('Training (all) Features shape: ', new_application_train_all_features.shape)\n",
        "print('Testing Features shape: ', new_application_test.shape)\n"
      ],
      "execution_count": null,
      "outputs": [
        {
          "output_type": "stream",
          "text": [
            "Training Features shape:  (199882, 292)\n",
            "Training (all) Features shape:  (199882, 485)\n",
            "Testing Features shape:  (107629, 291)\n"
          ],
          "name": "stdout"
        }
      ]
    },
    {
      "cell_type": "code",
      "metadata": {
        "id": "WhwINvcALbPn"
      },
      "source": [
        "# print(getDetailsAboutOnlyMissingValuesColumns(new_application_train).sort_values(ascending=False))\n",
        "# print(getDetailsAboutOnlyMissingValuesColumns(new_application_test).sort_values(ascending=False))"
      ],
      "execution_count": null,
      "outputs": []
    },
    {
      "cell_type": "code",
      "metadata": {
        "id": "bzUeQdeWAQDj"
      },
      "source": [
        "imputeCategoricalMissingValuesUsingMode(new_application_train)\n",
        "imputeNumericMissingValuesUsingMedian(new_application_train)\n",
        "\n",
        "imputeCategoricalMissingValuesUsingMode(new_application_test)\n",
        "imputeNumericMissingValuesUsingMedian(new_application_test)\n",
        "\n",
        "imputeCategoricalMissingValuesUsingMode(new_application_train_all_features)\n",
        "imputeNumericMissingValuesUsingMedian(new_application_train_all_features)\n",
        "\n",
        "imputeCategoricalMissingValuesUsingMode(new_application_test_all_features)\n",
        "imputeNumericMissingValuesUsingMedian(new_application_test_all_features)"
      ],
      "execution_count": null,
      "outputs": []
    },
    {
      "cell_type": "code",
      "metadata": {
        "id": "78qCpeR49oLe"
      },
      "source": [
        "# checkOutlier(new_application_train, atNC)"
      ],
      "execution_count": null,
      "outputs": []
    },
    {
      "cell_type": "code",
      "metadata": {
        "id": "5sBC728fDOv6"
      },
      "source": [
        "#Extract out target variable\n",
        "dfTarget = new_application_train.TARGET\n",
        "new_application_train = new_application_train.drop('TARGET', axis = 1)\n",
        "\n",
        "new_application_train_all_features = new_application_train_all_features.drop('TARGET', axis = 1)"
      ],
      "execution_count": null,
      "outputs": []
    },
    {
      "cell_type": "code",
      "metadata": {
        "id": "sLz1_gxdC5G_"
      },
      "source": [
        "atNC = getCnamesNumeric(new_application_train)\n",
        "atCC = getCnamesObject(new_application_train)\n",
        "\n",
        "atANC = getCnamesNumeric(new_application_train_all_features)\n",
        "atACC = getCnamesObject(new_application_train_all_features)"
      ],
      "execution_count": null,
      "outputs": []
    },
    {
      "cell_type": "code",
      "metadata": {
        "id": "_m5TUFo_CDdO"
      },
      "source": [
        "# new_application_train = removeOutlier(new_application_train, atNC)"
      ],
      "execution_count": null,
      "outputs": []
    },
    {
      "cell_type": "markdown",
      "metadata": {
        "id": "5C4VcG-9nrLc"
      },
      "source": [
        "#######################Exploring Categorical Variable########################"
      ]
    },
    {
      "cell_type": "code",
      "metadata": {
        "colab": {
          "base_uri": "https://localhost:8080/"
        },
        "id": "5DAYuuKhL8bk",
        "outputId": "43c5ab8b-7b99-41e8-a5ed-4e5145b44b3a"
      },
      "source": [
        "new_application_train.select_dtypes(['object','category']).apply(pd.Series.nunique, axis = 0)"
      ],
      "execution_count": null,
      "outputs": [
        {
          "output_type": "execute_result",
          "data": {
            "text/plain": [
              "NAME_CONTRACT_TYPE             2\n",
              "CODE_GENDER                    3\n",
              "FLAG_OWN_CAR                   2\n",
              "FLAG_OWN_REALTY                2\n",
              "NAME_TYPE_SUITE                7\n",
              "NAME_INCOME_TYPE               8\n",
              "NAME_EDUCATION_TYPE            5\n",
              "NAME_FAMILY_STATUS             6\n",
              "NAME_HOUSING_TYPE              6\n",
              "OCCUPATION_TYPE               18\n",
              "WEEKDAY_APPR_PROCESS_START     7\n",
              "ORGANIZATION_TYPE             58\n",
              "FONDKAPREMONT_MODE             4\n",
              "HOUSETYPE_MODE                 3\n",
              "WALLSMATERIAL_MODE             7\n",
              "EMERGENCYSTATE_MODE            2\n",
              "dtype: int64"
            ]
          },
          "metadata": {
            "tags": []
          },
          "execution_count": 62
        }
      ]
    },
    {
      "cell_type": "code",
      "metadata": {
        "id": "mN6Wn4TZco7I"
      },
      "source": [
        "frequency_encoded_variables = ['OCCUPATION_TYPE','ORGANIZATION_TYPE']"
      ],
      "execution_count": null,
      "outputs": []
    },
    {
      "cell_type": "code",
      "metadata": {
        "id": "MbfExHYWcybg"
      },
      "source": [
        "def frequency_encoding(variable, train, test):\r\n",
        "    t = pd.concat([train[variable], test[variable]]).value_counts().reset_index()\r\n",
        "    t = t.reset_index()\r\n",
        "    t.loc[t[variable] == 1, 'level_0'] = np.nan\r\n",
        "    t.set_index('index', inplace=True)\r\n",
        "    max_label = t['level_0'].max() + 1\r\n",
        "    t.fillna(max_label, inplace=True)\r\n",
        "    return t.to_dict()['level_0']"
      ],
      "execution_count": null,
      "outputs": []
    },
    {
      "cell_type": "code",
      "metadata": {
        "id": "A8Be8PXWdFll"
      },
      "source": [
        "from tqdm import tqdm"
      ],
      "execution_count": null,
      "outputs": []
    },
    {
      "cell_type": "code",
      "metadata": {
        "colab": {
          "base_uri": "https://localhost:8080/"
        },
        "id": "eascCKbydATn",
        "outputId": "8022cea4-3928-4a61-f55d-7e8e15bf558d"
      },
      "source": [
        "for variable in tqdm(frequency_encoded_variables):\r\n",
        "    freq_enc_dict = frequency_encoding(variable, new_application_train, new_application_test)\r\n",
        "    new_application_train[variable] = new_application_train[variable].map(lambda x: freq_enc_dict.get(x, np.nan))\r\n",
        "    new_application_test[variable] = new_application_test[variable].map(lambda x: freq_enc_dict.get(x, np.nan))"
      ],
      "execution_count": null,
      "outputs": [
        {
          "output_type": "stream",
          "text": [
            "100%|██████████| 2/2 [00:00<00:00, 51.67it/s]\n"
          ],
          "name": "stderr"
        }
      ]
    },
    {
      "cell_type": "code",
      "metadata": {
        "colab": {
          "base_uri": "https://localhost:8080/"
        },
        "id": "OI_q3mh_igiM",
        "outputId": "0c25fa35-60ef-454b-d894-cc1c8b38d4d8"
      },
      "source": [
        "for variable in tqdm(frequency_encoded_variables):\n",
        "    freq_enc_dict = frequency_encoding(variable, new_application_train_all_features, new_application_test_all_features)\n",
        "    new_application_train_all_features[variable] = new_application_train_all_features[variable].map(lambda x: freq_enc_dict.get(x, np.nan))\n",
        "    new_application_test_all_features[variable] = new_application_test_all_features[variable].map(lambda x: freq_enc_dict.get(x, np.nan))"
      ],
      "execution_count": null,
      "outputs": [
        {
          "output_type": "stream",
          "text": [
            "100%|██████████| 2/2 [00:00<00:00, 69.61it/s]\n"
          ],
          "name": "stderr"
        }
      ]
    },
    {
      "cell_type": "code",
      "metadata": {
        "id": "a5wikJA7dKXJ"
      },
      "source": [
        "for col in frequency_encoded_variables:\r\n",
        "  new_application_train[col] = new_application_train[col].astype('int32')\r\n",
        "  new_application_test[col] = new_application_test[col].astype('int32')\r\n",
        "\r\n",
        "  new_application_train_all_features[col] = new_application_train_all_features[col].astype('int32')\r\n",
        "  new_application_test_all_features[col] = new_application_test_all_features[col].astype('int32')"
      ],
      "execution_count": null,
      "outputs": []
    },
    {
      "cell_type": "code",
      "metadata": {
        "id": "r6xeTyJddTBy"
      },
      "source": [
        "atNC = getCnamesNumeric(new_application_train)\r\n",
        "atCC = getCnamesObject(new_application_train)\r\n",
        "\r\n",
        "atANC = getCnamesNumeric(new_application_train_all_features)\r\n",
        "atACC = getCnamesObject(new_application_train_all_features)"
      ],
      "execution_count": null,
      "outputs": []
    },
    {
      "cell_type": "code",
      "metadata": {
        "id": "o5JQg3ZbdfMg"
      },
      "source": [
        "new_application_train=pd.get_dummies(new_application_train)\r\n",
        "new_application_test = pd.get_dummies(new_application_test)\r\n",
        "\r\n",
        "new_application_train_all_features=pd.get_dummies(new_application_train_all_features)\r\n",
        "new_application_test_all_features = pd.get_dummies(new_application_test_all_features)"
      ],
      "execution_count": null,
      "outputs": []
    },
    {
      "cell_type": "code",
      "metadata": {
        "colab": {
          "base_uri": "https://localhost:8080/"
        },
        "id": "OhYvr4Yev8fQ",
        "outputId": "5ba33dcc-89fb-429a-c7e3-013fb8878dc7"
      },
      "source": [
        "new_application_train, new_application_test = new_application_train.align(new_application_test, join = 'inner', axis = 1)\n",
        "\n",
        "print('Training Features shape: ', new_application_train.shape)\n",
        "print('Testing Features shape: ', new_application_test.shape)\n",
        "\n",
        "new_application_train_all_features, new_application_test_all_features = new_application_train_all_features.align(new_application_test_all_features, join = 'inner', axis = 1)\n",
        "\n",
        "print('Training Features (all) shape: ', new_application_train_all_features.shape)\n",
        "print('Testing Features (all) shape: ', new_application_test_all_features.shape)"
      ],
      "execution_count": null,
      "outputs": [
        {
          "output_type": "stream",
          "text": [
            "Training Features shape:  (199882, 340)\n",
            "Testing Features shape:  (107629, 340)\n",
            "Training Features (all) shape:  (199882, 533)\n",
            "Testing Features (all) shape:  (107629, 533)\n"
          ],
          "name": "stdout"
        }
      ]
    },
    {
      "cell_type": "code",
      "metadata": {
        "id": "dVdNv2Rfww2V"
      },
      "source": [
        "train = new_application_train.copy()\n",
        "test = new_application_test.copy()\n",
        "train_labels = labels.copy()\n",
        "features = list(train.columns)\n",
        "\n",
        "trainAllFt = new_application_train_all_features.copy()\n",
        "testAllFt = new_application_test_all_features.copy()\n",
        "train_labelsAllFt = labels.copy()\n",
        "features = list(trainAllFt.columns)"
      ],
      "execution_count": null,
      "outputs": []
    },
    {
      "cell_type": "code",
      "metadata": {
        "id": "24sxGGaW-Hj7"
      },
      "source": [
        "from sklearn.preprocessing import StandardScaler\n",
        "sc = StandardScaler()\n",
        "sc.fit(train)\n",
        "train = sc.transform(train)\n",
        "test = sc.transform(test)\n",
        "\n",
        "sc1 = StandardScaler()\n",
        "sc1.fit(trainAllFt)\n",
        "trainAllFt = sc1.transform(trainAllFt)\n",
        "testAllFt = sc1.transform(testAllFt)"
      ],
      "execution_count": null,
      "outputs": []
    },
    {
      "cell_type": "code",
      "metadata": {
        "id": "qI47i3Yqsvto"
      },
      "source": [
        "train = pd.DataFrame(train,columns=new_application_train.columns)\r\n",
        "test =pd.DataFrame(test,columns=new_application_test.columns)\r\n",
        "\r\n",
        "trainAllFt = pd.DataFrame(trainAllFt,columns=new_application_train_all_features.columns)\r\n",
        "testAllFt =pd.DataFrame(testAllFt,columns=new_application_test_all_features.columns)"
      ],
      "execution_count": null,
      "outputs": []
    },
    {
      "cell_type": "code",
      "metadata": {
        "id": "MWP-LW0u-N1O"
      },
      "source": [
        "from sklearn.model_selection import RepeatedStratifiedKFold\n",
        "from sklearn.ensemble import BaggingClassifier\n",
        "from sklearn.model_selection import StratifiedKFold"
      ],
      "execution_count": null,
      "outputs": []
    },
    {
      "cell_type": "code",
      "metadata": {
        "colab": {
          "base_uri": "https://localhost:8080/"
        },
        "id": "LQ1Oh-_QvZMl",
        "outputId": "23c47637-a7ad-4234-c703-6a1a7318e2d3"
      },
      "source": [
        "labels[labels==0].shape,labels[labels==1].shape"
      ],
      "execution_count": null,
      "outputs": [
        {
          "output_type": "execute_result",
          "data": {
            "text/plain": [
              "((183651,), (16231,))"
            ]
          },
          "metadata": {
            "tags": []
          },
          "execution_count": 77
        }
      ]
    },
    {
      "cell_type": "code",
      "metadata": {
        "id": "KnHy_OAF1txd"
      },
      "source": [
        "def model(features, test_features, modelType, encoding = 'ohe', n_folds = 5):\n",
        "    \n",
        "    \n",
        "    # Extract the ids\n",
        "    train_ids = features['SK_ID_CURR']\n",
        "    test_ids = test_features['SK_ID_CURR']\n",
        "    \n",
        "    # Extract the labels for training\n",
        "    labels = features['TARGET']\n",
        "    \n",
        "    # Remove the ids and target\n",
        "    features = features.drop(columns = ['SK_ID_CURR', 'TARGET'])\n",
        "    test_features = test_features.drop(columns = ['SK_ID_CURR'])\n",
        "    \n",
        "    \n",
        "    print('Training Data Shape: ', features.shape)\n",
        "    print('Testing Data Shape: ', test_features.shape)\n",
        "    \n",
        "    # Extract feature names\n",
        "    feature_names = list(features.columns)\n",
        "    \n",
        "    # Convert to np arrays\n",
        "    features = np.array(features)\n",
        "    test_features = np.array(test_features)\n",
        "    \n",
        "    # Create the kfold object\n",
        "    k_fold = StratifiedKFold(n_splits = n_folds, shuffle = True, random_state = 50)\n",
        "    \n",
        "    # Empty array for feature importances\n",
        "    feature_importance_values = np.zeros(len(feature_names))\n",
        "    \n",
        "    # Empty array for test predictions\n",
        "    test_predictions = np.zeros(test_features.shape[0])\n",
        "    \n",
        "    # Empty array for out of fold validation predictions\n",
        "    out_of_fold = np.zeros(features.shape[0])\n",
        "    \n",
        "    # Lists for recording validation and training scores\n",
        "    valid_scores = []\n",
        "    train_scores = []\n",
        "    \n",
        "    # Iterate through each fold\n",
        "    for train_indices, valid_indices in k_fold.split(features,labels):\n",
        "        \n",
        "        # Training data for the fold\n",
        "        train_features, train_labels = features[train_indices], labels[train_indices]\n",
        "        # Validation data for the fold\n",
        "        valid_features, valid_labels = features[valid_indices], labels[valid_indices]\n",
        "        \n",
        "        # Create the model\n",
        "        # model = lgb.LGBMClassifier(n_estimators=10000, objective = 'binary',\n",
        "        #                            class_weight = 'balanced', learning_rate = 0.03,scale_pos_weight=9,\n",
        "        #                            reg_alpha = 0.01, reg_lambda = 0.01, n_jobs = -1, random_state = 50)\n",
        "        model = lgb.LGBMClassifier();\n",
        "        if(modelType == 1): \n",
        "          model = lgb.LGBMClassifier(\n",
        "                n_jobs = -1,\n",
        "                n_estimators=10000,\n",
        "                learning_rate=0.02,\n",
        "                num_leaves=34,\n",
        "                colsample_bytree=0.9497036,\n",
        "                subsample=0.8715623,\n",
        "                max_depth=8,\n",
        "                reg_alpha=0.041545473,\n",
        "                reg_lambda=0.0735294,\n",
        "                min_split_gain=0.0222415,\n",
        "                min_child_weight=39.3259775,\n",
        "                silent=-1,\n",
        "                verbose=-1, )\n",
        "        \n",
        "        else: \n",
        "            model = lgb.LGBMClassifier(\n",
        "                n_estimators=10000,\n",
        "                learning_rate=0.03,\n",
        "                num_leaves=1023,\n",
        "                colsample_bytree=0.9, \n",
        "                subsample=0.8,max_depth=-1,reg_alpha=.01,reg_lambda=.01,min_child_weight=500, \n",
        "                class_weight='balanced',) \n",
        "        \n",
        "\n",
        "        # Train the model\n",
        "        model.fit(train_features, train_labels, eval_metric = 'auc',\n",
        "                  eval_set = [(valid_features, valid_labels), (train_features, train_labels)],\n",
        "                  eval_names = ['valid', 'train'],\n",
        "                  early_stopping_rounds = 200, verbose = 200)\n",
        "        \n",
        "        # Record the best iteration\n",
        "        best_iteration = model.best_iteration_\n",
        "        \n",
        "        # Record the feature importances\n",
        "        feature_importance_values += model.feature_importances_ / k_fold.n_splits\n",
        "        \n",
        "        # Make predictions\n",
        "        test_predictions += model.predict_proba(test_features, num_iteration = best_iteration)[:, 1] / k_fold.n_splits\n",
        "        \n",
        "        # Record the out of fold predictions\n",
        "        out_of_fold[valid_indices] = model.predict_proba(valid_features, num_iteration = best_iteration)[:, 1]\n",
        "        \n",
        "        # Record the best score\n",
        "        valid_score = model.best_score_['valid']['auc']\n",
        "        train_score = model.best_score_['train']['auc']\n",
        "        \n",
        "        valid_scores.append(valid_score)\n",
        "        train_scores.append(train_score)\n",
        "        \n",
        "        # Clean up memory\n",
        "        gc.enable()\n",
        "        del model, train_features, valid_features\n",
        "        gc.collect()\n",
        "        \n",
        "    # Make the submission dataframe\n",
        "    submission = pd.DataFrame({'SK_ID_CURR': test_ids, 'TARGET': test_predictions})\n",
        "    \n",
        "    # Make the feature importance dataframe\n",
        "    feature_importances = pd.DataFrame({'feature': feature_names, 'importance': feature_importance_values})\n",
        "    \n",
        "    # Overall validation score\n",
        "    valid_auc = roc_auc_score(labels, out_of_fold)\n",
        "    \n",
        "    # Add the overall scores to the metrics\n",
        "    valid_scores.append(valid_auc)\n",
        "    train_scores.append(np.mean(train_scores))\n",
        "    \n",
        "    # Needed for creating dataframe of validation scores\n",
        "    fold_names = list(range(n_folds))\n",
        "    fold_names.append('overall')\n",
        "    \n",
        "    # Dataframe of validation scores\n",
        "    metrics = pd.DataFrame({'fold': fold_names,\n",
        "                            'train': train_scores,\n",
        "                            'valid': valid_scores}) \n",
        "    \n",
        "    return submission, feature_importances, metrics"
      ],
      "execution_count": null,
      "outputs": []
    },
    {
      "cell_type": "code",
      "metadata": {
        "colab": {
          "base_uri": "https://localhost:8080/"
        },
        "id": "aiowkoV81Wth",
        "outputId": "43a06466-26cb-45dc-e06b-39454505bec3"
      },
      "source": [
        "train['TARGET'] = pd.Series(labels)\n",
        "train['SK_ID_CURR'] = import_data('/content/application_train.csv').SK_ID_CURR\n",
        "test['SK_ID_CURR'] = import_data('/content/application_test.csv').SK_ID_CURR"
      ],
      "execution_count": null,
      "outputs": [
        {
          "output_type": "stream",
          "text": [
            "Memory usage of dataframe is 186.05 MB\n",
            "Memory usage after optimization is: 45.23 MB\n",
            "Memory usage of dataframe is 99.36 MB\n",
            "Memory usage after optimization is: 26.56 MB\n"
          ],
          "name": "stdout"
        }
      ]
    },
    {
      "cell_type": "code",
      "metadata": {
        "colab": {
          "base_uri": "https://localhost:8080/"
        },
        "id": "ESqcJnNHi5s-",
        "outputId": "beca7a60-a23d-45eb-fcfc-ba7ff7edf1e1"
      },
      "source": [
        "trainAllFt['TARGET'] = pd.Series(labels)\n",
        "trainAllFt['SK_ID_CURR'] = import_data('/content/application_train.csv').SK_ID_CURR\n",
        "testAllFt['SK_ID_CURR'] = import_data('/content/application_test.csv').SK_ID_CURR"
      ],
      "execution_count": null,
      "outputs": [
        {
          "output_type": "stream",
          "text": [
            "Memory usage of dataframe is 186.05 MB\n",
            "Memory usage after optimization is: 45.23 MB\n",
            "Memory usage of dataframe is 99.36 MB\n",
            "Memory usage after optimization is: 26.56 MB\n"
          ],
          "name": "stdout"
        }
      ]
    },
    {
      "cell_type": "markdown",
      "metadata": {
        "id": "3X5rsZidjCWs"
      },
      "source": [
        "Applying Model on Dataset without correlated columns. (----M1----)"
      ]
    },
    {
      "cell_type": "code",
      "metadata": {
        "colab": {
          "base_uri": "https://localhost:8080/"
        },
        "id": "-DC5tGbAtHZf",
        "outputId": "5d69f406-0011-4363-c41f-5f24b591fb50"
      },
      "source": [
        "submission, feature_importances, metrics = model(train, test, 1)\n",
        "print(metrics)"
      ],
      "execution_count": null,
      "outputs": [
        {
          "output_type": "stream",
          "text": [
            "Training Data Shape:  (199882, 340)\n",
            "Testing Data Shape:  (107629, 340)\n",
            "Training until validation scores don't improve for 200 rounds.\n",
            "[200]\ttrain's auc: 0.800893\ttrain's binary_logloss: 0.235091\tvalid's auc: 0.771907\tvalid's binary_logloss: 0.244065\n",
            "[400]\ttrain's auc: 0.828604\ttrain's binary_logloss: 0.223629\tvalid's auc: 0.782105\tvalid's binary_logloss: 0.239941\n",
            "[600]\ttrain's auc: 0.847116\ttrain's binary_logloss: 0.216001\tvalid's auc: 0.785128\tvalid's binary_logloss: 0.238684\n",
            "[800]\ttrain's auc: 0.862692\ttrain's binary_logloss: 0.209522\tvalid's auc: 0.786422\tvalid's binary_logloss: 0.238132\n",
            "[1000]\ttrain's auc: 0.875932\ttrain's binary_logloss: 0.203757\tvalid's auc: 0.786889\tvalid's binary_logloss: 0.237899\n",
            "Early stopping, best iteration is:\n",
            "[980]\ttrain's auc: 0.874636\ttrain's binary_logloss: 0.204305\tvalid's auc: 0.786961\tvalid's binary_logloss: 0.237888\n",
            "Training until validation scores don't improve for 200 rounds.\n",
            "[200]\ttrain's auc: 0.800691\ttrain's binary_logloss: 0.235059\tvalid's auc: 0.768489\tvalid's binary_logloss: 0.244671\n",
            "[400]\ttrain's auc: 0.828098\ttrain's binary_logloss: 0.223661\tvalid's auc: 0.77788\tvalid's binary_logloss: 0.240897\n",
            "[600]\ttrain's auc: 0.847094\ttrain's binary_logloss: 0.215867\tvalid's auc: 0.78069\tvalid's binary_logloss: 0.239898\n",
            "[800]\ttrain's auc: 0.86321\ttrain's binary_logloss: 0.209214\tvalid's auc: 0.781721\tvalid's binary_logloss: 0.239501\n",
            "[1000]\ttrain's auc: 0.876825\ttrain's binary_logloss: 0.203221\tvalid's auc: 0.781875\tvalid's binary_logloss: 0.239442\n",
            "Early stopping, best iteration is:\n",
            "[951]\ttrain's auc: 0.873816\ttrain's binary_logloss: 0.204591\tvalid's auc: 0.782041\tvalid's binary_logloss: 0.239383\n",
            "Training until validation scores don't improve for 200 rounds.\n",
            "[200]\ttrain's auc: 0.801272\ttrain's binary_logloss: 0.235003\tvalid's auc: 0.767799\tvalid's binary_logloss: 0.244738\n",
            "[400]\ttrain's auc: 0.828019\ttrain's binary_logloss: 0.22376\tvalid's auc: 0.775743\tvalid's binary_logloss: 0.241303\n",
            "[600]\ttrain's auc: 0.84664\ttrain's binary_logloss: 0.216012\tvalid's auc: 0.778497\tvalid's binary_logloss: 0.240222\n",
            "[800]\ttrain's auc: 0.862771\ttrain's binary_logloss: 0.209304\tvalid's auc: 0.779688\tvalid's binary_logloss: 0.239769\n",
            "[1000]\ttrain's auc: 0.876733\ttrain's binary_logloss: 0.203175\tvalid's auc: 0.779772\tvalid's binary_logloss: 0.239696\n",
            "Early stopping, best iteration is:\n",
            "[914]\ttrain's auc: 0.871067\ttrain's binary_logloss: 0.205744\tvalid's auc: 0.779891\tvalid's binary_logloss: 0.23963\n",
            "Training until validation scores don't improve for 200 rounds.\n",
            "[200]\ttrain's auc: 0.801538\ttrain's binary_logloss: 0.234626\tvalid's auc: 0.765733\tvalid's binary_logloss: 0.245757\n",
            "[400]\ttrain's auc: 0.828471\ttrain's binary_logloss: 0.223315\tvalid's auc: 0.775787\tvalid's binary_logloss: 0.24226\n",
            "[600]\ttrain's auc: 0.84758\ttrain's binary_logloss: 0.215446\tvalid's auc: 0.779776\tvalid's binary_logloss: 0.241136\n",
            "[800]\ttrain's auc: 0.863587\ttrain's binary_logloss: 0.208838\tvalid's auc: 0.781241\tvalid's binary_logloss: 0.240749\n",
            "[1000]\ttrain's auc: 0.876064\ttrain's binary_logloss: 0.203419\tvalid's auc: 0.781759\tvalid's binary_logloss: 0.240654\n",
            "[1200]\ttrain's auc: 0.886929\ttrain's binary_logloss: 0.198432\tvalid's auc: 0.782206\tvalid's binary_logloss: 0.240626\n",
            "[1400]\ttrain's auc: 0.896815\ttrain's binary_logloss: 0.193603\tvalid's auc: 0.782563\tvalid's binary_logloss: 0.240616\n",
            "Early stopping, best iteration is:\n",
            "[1301]\ttrain's auc: 0.892066\ttrain's binary_logloss: 0.195977\tvalid's auc: 0.782498\tvalid's binary_logloss: 0.240568\n",
            "Training until validation scores don't improve for 200 rounds.\n",
            "[200]\ttrain's auc: 0.801736\ttrain's binary_logloss: 0.235053\tvalid's auc: 0.767622\tvalid's binary_logloss: 0.244622\n",
            "[400]\ttrain's auc: 0.829212\ttrain's binary_logloss: 0.22353\tvalid's auc: 0.775676\tvalid's binary_logloss: 0.241093\n",
            "[600]\ttrain's auc: 0.849035\ttrain's binary_logloss: 0.215415\tvalid's auc: 0.778332\tvalid's binary_logloss: 0.240005\n",
            "[800]\ttrain's auc: 0.865141\ttrain's binary_logloss: 0.208666\tvalid's auc: 0.779108\tvalid's binary_logloss: 0.239689\n",
            "[1000]\ttrain's auc: 0.877762\ttrain's binary_logloss: 0.203026\tvalid's auc: 0.779778\tvalid's binary_logloss: 0.239472\n",
            "[1200]\ttrain's auc: 0.889415\ttrain's binary_logloss: 0.197579\tvalid's auc: 0.780021\tvalid's binary_logloss: 0.239379\n",
            "[1400]\ttrain's auc: 0.899703\ttrain's binary_logloss: 0.192499\tvalid's auc: 0.779815\tvalid's binary_logloss: 0.23939\n",
            "Early stopping, best iteration is:\n",
            "[1209]\ttrain's auc: 0.889878\ttrain's binary_logloss: 0.197349\tvalid's auc: 0.780077\tvalid's binary_logloss: 0.239359\n",
            "      fold     train     valid\n",
            "0        0  0.874636  0.786961\n",
            "1        1  0.873816  0.782041\n",
            "2        2  0.871067  0.779891\n",
            "3        3  0.892066  0.782498\n",
            "4        4  0.889878  0.780077\n",
            "5  overall  0.880293  0.782291\n"
          ],
          "name": "stdout"
        }
      ]
    },
    {
      "cell_type": "code",
      "metadata": {
        "id": "d16zjUzEkOIn"
      },
      "source": [
        "submission.to_csv('m1.csv', index = False)"
      ],
      "execution_count": null,
      "outputs": []
    },
    {
      "cell_type": "markdown",
      "metadata": {
        "id": "ZDll8297js5e"
      },
      "source": [
        "------------------------M1 Done---------------------"
      ]
    },
    {
      "cell_type": "markdown",
      "metadata": {
        "id": "nk7xoG75jwsx"
      },
      "source": [
        "Applying Model on Dataset all columns. (----M2----)"
      ]
    },
    {
      "cell_type": "code",
      "metadata": {
        "colab": {
          "base_uri": "https://localhost:8080/"
        },
        "id": "_rODPWb7jsCA",
        "outputId": "f2eef202-2bd2-42b0-d213-e1f593be5b40"
      },
      "source": [
        "submission, feature_importances2, metrics = model(trainAllFt, testAllFt, 1)\n",
        "print(metrics)"
      ],
      "execution_count": null,
      "outputs": [
        {
          "output_type": "stream",
          "text": [
            "Training Data Shape:  (199882, 533)\n",
            "Testing Data Shape:  (107629, 533)\n",
            "Training until validation scores don't improve for 200 rounds.\n",
            "[200]\ttrain's auc: 0.801787\ttrain's binary_logloss: 0.234734\tvalid's auc: 0.772682\tvalid's binary_logloss: 0.243928\n",
            "[400]\ttrain's auc: 0.830158\ttrain's binary_logloss: 0.223011\tvalid's auc: 0.782312\tvalid's binary_logloss: 0.239882\n",
            "[600]\ttrain's auc: 0.849616\ttrain's binary_logloss: 0.214984\tvalid's auc: 0.785591\tvalid's binary_logloss: 0.238638\n",
            "[800]\ttrain's auc: 0.865748\ttrain's binary_logloss: 0.208242\tvalid's auc: 0.786941\tvalid's binary_logloss: 0.238118\n",
            "[1000]\ttrain's auc: 0.879221\ttrain's binary_logloss: 0.202272\tvalid's auc: 0.78756\tvalid's binary_logloss: 0.23788\n",
            "[1200]\ttrain's auc: 0.89097\ttrain's binary_logloss: 0.196821\tvalid's auc: 0.78707\tvalid's binary_logloss: 0.238004\n",
            "Early stopping, best iteration is:\n",
            "[1054]\ttrain's auc: 0.882462\ttrain's binary_logloss: 0.200776\tvalid's auc: 0.787606\tvalid's binary_logloss: 0.237865\n",
            "Training until validation scores don't improve for 200 rounds.\n",
            "[200]\ttrain's auc: 0.802181\ttrain's binary_logloss: 0.234476\tvalid's auc: 0.768764\tvalid's binary_logloss: 0.244581\n",
            "[400]\ttrain's auc: 0.830289\ttrain's binary_logloss: 0.222776\tvalid's auc: 0.778529\tvalid's binary_logloss: 0.240875\n",
            "[600]\ttrain's auc: 0.850028\ttrain's binary_logloss: 0.214653\tvalid's auc: 0.78159\tvalid's binary_logloss: 0.239776\n",
            "[800]\ttrain's auc: 0.86687\ttrain's binary_logloss: 0.207602\tvalid's auc: 0.782439\tvalid's binary_logloss: 0.239439\n",
            "[1000]\ttrain's auc: 0.881067\ttrain's binary_logloss: 0.201384\tvalid's auc: 0.782287\tvalid's binary_logloss: 0.239445\n",
            "Early stopping, best iteration is:\n",
            "[873]\ttrain's auc: 0.872179\ttrain's binary_logloss: 0.205297\tvalid's auc: 0.782549\tvalid's binary_logloss: 0.239385\n",
            "Training until validation scores don't improve for 200 rounds.\n",
            "[200]\ttrain's auc: 0.802795\ttrain's binary_logloss: 0.234534\tvalid's auc: 0.767591\tvalid's binary_logloss: 0.244648\n",
            "[400]\ttrain's auc: 0.830768\ttrain's binary_logloss: 0.222801\tvalid's auc: 0.775334\tvalid's binary_logloss: 0.24129\n",
            "[600]\ttrain's auc: 0.850363\ttrain's binary_logloss: 0.214631\tvalid's auc: 0.778405\tvalid's binary_logloss: 0.240181\n",
            "[800]\ttrain's auc: 0.866879\ttrain's binary_logloss: 0.207594\tvalid's auc: 0.779544\tvalid's binary_logloss: 0.239788\n",
            "[1000]\ttrain's auc: 0.880451\ttrain's binary_logloss: 0.201492\tvalid's auc: 0.780189\tvalid's binary_logloss: 0.239556\n",
            "Early stopping, best iteration is:\n",
            "[985]\ttrain's auc: 0.879546\ttrain's binary_logloss: 0.201916\tvalid's auc: 0.780276\tvalid's binary_logloss: 0.239534\n",
            "Training until validation scores don't improve for 200 rounds.\n",
            "[200]\ttrain's auc: 0.802774\ttrain's binary_logloss: 0.234208\tvalid's auc: 0.766742\tvalid's binary_logloss: 0.245638\n",
            "[400]\ttrain's auc: 0.830407\ttrain's binary_logloss: 0.222553\tvalid's auc: 0.776781\tvalid's binary_logloss: 0.24212\n",
            "[600]\ttrain's auc: 0.850022\ttrain's binary_logloss: 0.214418\tvalid's auc: 0.780305\tvalid's binary_logloss: 0.240944\n",
            "[800]\ttrain's auc: 0.866567\ttrain's binary_logloss: 0.207463\tvalid's auc: 0.782466\tvalid's binary_logloss: 0.240341\n",
            "[1000]\ttrain's auc: 0.879959\ttrain's binary_logloss: 0.201529\tvalid's auc: 0.78317\tvalid's binary_logloss: 0.240153\n",
            "[1200]\ttrain's auc: 0.891491\ttrain's binary_logloss: 0.196046\tvalid's auc: 0.783666\tvalid's binary_logloss: 0.240116\n",
            "Early stopping, best iteration is:\n",
            "[1047]\ttrain's auc: 0.882914\ttrain's binary_logloss: 0.200163\tvalid's auc: 0.783352\tvalid's binary_logloss: 0.240102\n",
            "Training until validation scores don't improve for 200 rounds.\n",
            "[200]\ttrain's auc: 0.803099\ttrain's binary_logloss: 0.234504\tvalid's auc: 0.767898\tvalid's binary_logloss: 0.244571\n",
            "[400]\ttrain's auc: 0.831519\ttrain's binary_logloss: 0.222667\tvalid's auc: 0.775397\tvalid's binary_logloss: 0.24125\n",
            "[600]\ttrain's auc: 0.852028\ttrain's binary_logloss: 0.214219\tvalid's auc: 0.778606\tvalid's binary_logloss: 0.240075\n",
            "[800]\ttrain's auc: 0.868358\ttrain's binary_logloss: 0.20723\tvalid's auc: 0.779449\tvalid's binary_logloss: 0.239725\n",
            "[1000]\ttrain's auc: 0.881956\ttrain's binary_logloss: 0.201103\tvalid's auc: 0.779728\tvalid's binary_logloss: 0.239634\n",
            "[1200]\ttrain's auc: 0.893654\ttrain's binary_logloss: 0.195591\tvalid's auc: 0.779617\tvalid's binary_logloss: 0.239721\n",
            "Early stopping, best iteration is:\n",
            "[1004]\ttrain's auc: 0.88223\ttrain's binary_logloss: 0.200984\tvalid's auc: 0.779771\tvalid's binary_logloss: 0.239625\n",
            "      fold     train     valid\n",
            "0        0  0.882462  0.787606\n",
            "1        1  0.872179  0.782549\n",
            "2        2  0.879546  0.780276\n",
            "3        3  0.882914  0.783352\n",
            "4        4  0.882230  0.779771\n",
            "5  overall  0.879866  0.782710\n"
          ],
          "name": "stdout"
        }
      ]
    },
    {
      "cell_type": "code",
      "metadata": {
        "id": "Ya8jBJfqkRdr"
      },
      "source": [
        "submission.to_csv('m2.csv', index = False)"
      ],
      "execution_count": null,
      "outputs": []
    },
    {
      "cell_type": "markdown",
      "metadata": {
        "id": "UMO4OlZHj_Ji"
      },
      "source": [
        "------------------------M2 Done---------------------"
      ]
    },
    {
      "cell_type": "markdown",
      "metadata": {
        "id": "YpD_AkW2kbCF"
      },
      "source": [
        "Applying Different Model on Dataset without correlated columns. (----M3----)"
      ]
    },
    {
      "cell_type": "code",
      "metadata": {
        "colab": {
          "base_uri": "https://localhost:8080/"
        },
        "id": "zbzbA1Hrlfeq",
        "outputId": "f7010af2-2aac-466a-b80d-828a7bbddb19"
      },
      "source": [
        "submission, feature_importances, metrics = model(train, test, 2)\n",
        "print(metrics)"
      ],
      "execution_count": null,
      "outputs": [
        {
          "output_type": "stream",
          "text": [
            "Training Data Shape:  (199882, 340)\n",
            "Testing Data Shape:  (107629, 340)\n",
            "Training until validation scores don't improve for 200 rounds.\n",
            "[200]\ttrain's auc: 0.828416\ttrain's binary_logloss: 0.521362\tvalid's auc: 0.77997\tvalid's binary_logloss: 0.535571\n",
            "[400]\ttrain's auc: 0.864868\ttrain's binary_logloss: 0.477768\tvalid's auc: 0.784894\tvalid's binary_logloss: 0.507328\n",
            "[600]\ttrain's auc: 0.891422\ttrain's binary_logloss: 0.445006\tvalid's auc: 0.78599\tvalid's binary_logloss: 0.487457\n",
            "[800]\ttrain's auc: 0.911439\ttrain's binary_logloss: 0.417958\tvalid's auc: 0.786122\tvalid's binary_logloss: 0.470718\n",
            "Early stopping, best iteration is:\n",
            "[732]\ttrain's auc: 0.905043\ttrain's binary_logloss: 0.426687\tvalid's auc: 0.78641\tvalid's binary_logloss: 0.476021\n",
            "Training until validation scores don't improve for 200 rounds.\n",
            "[200]\ttrain's auc: 0.829183\ttrain's binary_logloss: 0.520289\tvalid's auc: 0.776724\tvalid's binary_logloss: 0.539003\n",
            "[400]\ttrain's auc: 0.865997\ttrain's binary_logloss: 0.476368\tvalid's auc: 0.781649\tvalid's binary_logloss: 0.509688\n",
            "[600]\ttrain's auc: 0.892077\ttrain's binary_logloss: 0.443849\tvalid's auc: 0.782397\tvalid's binary_logloss: 0.488834\n",
            "[800]\ttrain's auc: 0.9125\ttrain's binary_logloss: 0.41625\tvalid's auc: 0.782002\tvalid's binary_logloss: 0.47177\n",
            "Early stopping, best iteration is:\n",
            "[643]\ttrain's auc: 0.896865\ttrain's binary_logloss: 0.43754\tvalid's auc: 0.782612\tvalid's binary_logloss: 0.484843\n",
            "Training until validation scores don't improve for 200 rounds.\n",
            "[200]\ttrain's auc: 0.829187\ttrain's binary_logloss: 0.520539\tvalid's auc: 0.775008\tvalid's binary_logloss: 0.541241\n",
            "[400]\ttrain's auc: 0.865251\ttrain's binary_logloss: 0.477086\tvalid's auc: 0.780062\tvalid's binary_logloss: 0.512679\n",
            "[600]\ttrain's auc: 0.891316\ttrain's binary_logloss: 0.444489\tvalid's auc: 0.780076\tvalid's binary_logloss: 0.492517\n",
            "Early stopping, best iteration is:\n",
            "[459]\ttrain's auc: 0.873547\ttrain's binary_logloss: 0.46684\tvalid's auc: 0.780382\tvalid's binary_logloss: 0.506225\n",
            "Training until validation scores don't improve for 200 rounds.\n",
            "[200]\ttrain's auc: 0.829043\ttrain's binary_logloss: 0.519937\tvalid's auc: 0.774639\tvalid's binary_logloss: 0.539162\n",
            "[400]\ttrain's auc: 0.864989\ttrain's binary_logloss: 0.476706\tvalid's auc: 0.780017\tvalid's binary_logloss: 0.510371\n",
            "[600]\ttrain's auc: 0.891283\ttrain's binary_logloss: 0.444213\tvalid's auc: 0.781756\tvalid's binary_logloss: 0.489788\n",
            "[800]\ttrain's auc: 0.911581\ttrain's binary_logloss: 0.417131\tvalid's auc: 0.782298\tvalid's binary_logloss: 0.472942\n",
            "[1000]\ttrain's auc: 0.92735\ttrain's binary_logloss: 0.393582\tvalid's auc: 0.782211\tvalid's binary_logloss: 0.458316\n",
            "Early stopping, best iteration is:\n",
            "[817]\ttrain's auc: 0.913064\ttrain's binary_logloss: 0.414991\tvalid's auc: 0.782452\tvalid's binary_logloss: 0.471593\n",
            "Training until validation scores don't improve for 200 rounds.\n",
            "[200]\ttrain's auc: 0.830331\ttrain's binary_logloss: 0.519393\tvalid's auc: 0.773924\tvalid's binary_logloss: 0.539393\n",
            "[400]\ttrain's auc: 0.866536\ttrain's binary_logloss: 0.475511\tvalid's auc: 0.77737\tvalid's binary_logloss: 0.510803\n",
            "[600]\ttrain's auc: 0.892473\ttrain's binary_logloss: 0.442866\tvalid's auc: 0.778284\tvalid's binary_logloss: 0.490286\n",
            "[800]\ttrain's auc: 0.912602\ttrain's binary_logloss: 0.415467\tvalid's auc: 0.778074\tvalid's binary_logloss: 0.47325\n",
            "Early stopping, best iteration is:\n",
            "[683]\ttrain's auc: 0.901461\ttrain's binary_logloss: 0.431002\tvalid's auc: 0.778483\tvalid's binary_logloss: 0.482749\n",
            "      fold     train     valid\n",
            "0        0  0.905043  0.786410\n",
            "1        1  0.896865  0.782612\n",
            "2        2  0.873547  0.780382\n",
            "3        3  0.913064  0.782452\n",
            "4        4  0.901461  0.778483\n",
            "5  overall  0.897996  0.781860\n"
          ],
          "name": "stdout"
        }
      ]
    },
    {
      "cell_type": "code",
      "metadata": {
        "id": "DNzxvLaElhNu"
      },
      "source": [
        "submission.to_csv('m3.csv', index = False)"
      ],
      "execution_count": null,
      "outputs": []
    },
    {
      "cell_type": "markdown",
      "metadata": {
        "id": "f3nPmIxRmWbs"
      },
      "source": [
        "------------------------M3 Done---------------------"
      ]
    },
    {
      "cell_type": "code",
      "metadata": {
        "id": "0AAZMIbHlzJG"
      },
      "source": [
        "m1 = pd.read_csv('m1.csv')\n",
        "m2 = pd.read_csv('m2.csv')\n",
        "m3 = pd.read_csv('m3.csv')"
      ],
      "execution_count": null,
      "outputs": []
    },
    {
      "cell_type": "code",
      "metadata": {
        "id": "eyJmijZFmg-u"
      },
      "source": [
        "submission = pd.DataFrame()\n",
        "submission['SK_ID_CURR'] = m1['SK_ID_CURR']\n",
        "\n",
        "submission['TARGET'] = 0.2 * m1['TARGET'] + 0.7 * m2['TARGET'] + 0.1 * m3['TARGET']\n",
        "\n",
        "submission.to_csv('Elite_Model_2.csv', index = False)"
      ],
      "execution_count": null,
      "outputs": []
    },
    {
      "cell_type": "code",
      "metadata": {
        "colab": {
          "base_uri": "https://localhost:8080/",
          "height": 420
        },
        "id": "73271Ew71XWR",
        "outputId": "5d989d5b-c6d5-4146-ccfe-f937cdcce1d3"
      },
      "source": [
        "feature_importances2.sort_values(by=['importance'], ascending=False).head(10).set_index('feature').plot(kind='bar')"
      ],
      "execution_count": null,
      "outputs": [
        {
          "output_type": "execute_result",
          "data": {
            "text/plain": [
              "<matplotlib.axes._subplots.AxesSubplot at 0x7f81d78e32e8>"
            ]
          },
          "metadata": {
            "tags": []
          },
          "execution_count": 101
        },
        {
          "output_type": "display_data",
          "data": {
            "image/png": "[encoded data removed]",
            "text/plain": [
              "<Figure size 432x288 with 1 Axes>"
            ]
          },
          "metadata": {
            "tags": [],
            "needs_background": "light"
          }
        }
      ]
    }
  ]
}