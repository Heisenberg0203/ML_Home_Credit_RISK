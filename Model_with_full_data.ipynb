{
  "nbformat": 4,
  "nbformat_minor": 0,
  "metadata": {
    "colab": {
      "name": "FullDATA_Model.ipynb",
      "provenance": [],
      "collapsed_sections": [],
      "include_colab_link": true
    },
    "kernelspec": {
      "display_name": "Python 3",
      "name": "python3"
    }
  },
  "cells": [
    {
      "cell_type": "markdown",
      "metadata": {
        "id": "view-in-github",
        "colab_type": "text"
      },
      "source": [
        "<a href=\"https://colab.research.google.com/github/Heisenberg0203/ML_Home_Credit_RISK/blob/master/Model_with_full_data.ipynb\" target=\"_parent\"><img src=\"https://colab.research.google.com/assets/colab-badge.svg\" alt=\"Open In Colab\"/></a>"
      ]
    },
    {
      "cell_type": "code",
      "metadata": {
        "id": "q30aR7oPfRyb"
      },
      "source": [
        "! pip install -q kaggle"
      ],
      "execution_count": null,
      "outputs": []
    },
    {
      "cell_type": "code",
      "metadata": {
        "id": "sULJ6Cl7c3-r"
      },
      "source": [
        "!pip install tqdm\r\n",
        "import tqdm"
      ],
      "execution_count": null,
      "outputs": []
    },
    {
      "cell_type": "code",
      "metadata": {
        "colab": {
          "resources": {
            "http://localhost:8080/nbextensions/google.colab/files.js": {
              "data": "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",
              "ok": true,
              "headers": [
                [
                  "content-type",
                  "application/javascript"
                ]
              ],
              "status": 200,
              "status_text": ""
            }
          },
          "base_uri": "https://localhost:8080/",
          "height": 90
        },
        "id": "5uhRK4cfoU1g",
        "outputId": "1c5a56dd-9517-4a9e-9d1e-a43cde55c0ec"
      },
      "source": [
        "from google.colab import files\n",
        "files.upload()"
      ],
      "execution_count": null,
      "outputs": [
        {
          "output_type": "display_data",
          "data": {
            "text/html": [
              "\n",
              "     <input type=\"file\" id=\"files-656becad-de45-44f4-a0b0-aebf70c51b1c\" name=\"files[]\" multiple disabled\n",
              "        style=\"border:none\" />\n",
              "     <output id=\"result-656becad-de45-44f4-a0b0-aebf70c51b1c\">\n",
              "      Upload widget is only available when the cell has been executed in the\n",
              "      current browser session. Please rerun this cell to enable.\n",
              "      </output>\n",
              "      <script src=\"/nbextensions/google.colab/files.js\"></script> "
            ],
            "text/plain": [
              "<IPython.core.display.HTML object>"
            ]
          },
          "metadata": {
            "tags": []
          }
        },
        {
          "output_type": "stream",
          "text": [
            "Saving kaggle.json to kaggle.json\n"
          ],
          "name": "stdout"
        },
        {
          "output_type": "execute_result",
          "data": {
            "text/plain": [
              "{'kaggle.json': b'{\"username\":\"rushikesh0203\",\"key\":\"a57a54502e5e03998e7362e6218d1695\"}'}"
            ]
          },
          "metadata": {
            "tags": []
          },
          "execution_count": 2
        }
      ]
    },
    {
      "cell_type": "code",
      "metadata": {
        "id": "pPYuGPNkoY27"
      },
      "source": [
        "! mkdir ~/.kaggle\n",
        "\n",
        "! cp kaggle.json ~/.kaggle/"
      ],
      "execution_count": null,
      "outputs": []
    },
    {
      "cell_type": "code",
      "metadata": {
        "id": "xSG0T0lAof0z"
      },
      "source": [
        "! chmod 600 ~/.kaggle/kaggle.json"
      ],
      "execution_count": null,
      "outputs": []
    },
    {
      "cell_type": "code",
      "metadata": {
        "colab": {
          "base_uri": "https://localhost:8080/"
        },
        "id": "DzywdFnxok9f",
        "outputId": "fab87b28-141a-47c4-c2aa-186921a8534f"
      },
      "source": [
        "\n",
        "!kaggle competitions download -c iiitb2020-home-credit-default-risk -p /content"
      ],
      "execution_count": null,
      "outputs": [
        {
          "output_type": "stream",
          "text": [
            "Warning: Looks like you're using an outdated API Version, please consider updating (server 1.5.10 / client 1.5.4)\n",
            "Downloading application_train.csv.zip to /content\n",
            " 71% 17.0M/24.0M [00:01<00:00, 13.6MB/s]\n",
            "100% 24.0M/24.0M [00:01<00:00, 16.6MB/s]\n",
            "Downloading sample_submission.csv.zip to /content\n",
            "  0% 0.00/380k [00:00<?, ?B/s]\n",
            "100% 380k/380k [00:00<00:00, 53.2MB/s]\n",
            "Downloading installments_payments.csv.zip to /content\n",
            " 98% 276M/283M [00:10<00:00, 25.9MB/s]\n",
            "100% 283M/283M [00:10<00:00, 29.3MB/s]\n",
            "Downloading POS_CASH_balance.csv.zip to /content\n",
            " 83% 97.0M/117M [00:04<00:01, 12.2MB/s]\n",
            "100% 117M/117M [00:04<00:00, 27.4MB/s] \n",
            "Downloading bureau_balance.csv.zip to /content\n",
            " 93% 137M/147M [00:07<00:00, 17.4MB/s]\n",
            "100% 147M/147M [00:07<00:00, 21.5MB/s]\n",
            "Downloading application_test.csv.zip to /content\n",
            " 70% 9.00M/12.9M [00:00<00:00, 13.9MB/s]\n",
            "100% 12.9M/12.9M [00:00<00:00, 18.8MB/s]\n",
            "Downloading previous_application.csv.zip to /content\n",
            " 93% 73.0M/78.9M [00:02<00:00, 24.9MB/s]\n",
            "100% 78.9M/78.9M [00:02<00:00, 28.3MB/s]\n",
            "Downloading credit_card_balance.csv.zip to /content\n",
            " 84% 89.0M/106M [00:02<00:00, 32.3MB/s]\n",
            "100% 106M/106M [00:02<00:00, 41.4MB/s] \n",
            "Downloading bureau.csv.zip to /content\n",
            " 88% 41.0M/46.4M [00:01<00:00, 28.6MB/s]\n",
            "100% 46.4M/46.4M [00:01<00:00, 38.3MB/s]\n"
          ],
          "name": "stdout"
        }
      ]
    },
    {
      "cell_type": "code",
      "metadata": {
        "colab": {
          "base_uri": "https://localhost:8080/"
        },
        "id": "I0cElRJfomz9",
        "outputId": "627a0b18-0508-4bb8-c377-fc7498463d3e"
      },
      "source": [
        "!unzip \\*.zip"
      ],
      "execution_count": null,
      "outputs": [
        {
          "output_type": "stream",
          "text": [
            "Archive:  application_test.csv.zip\n",
            "  inflating: application_test.csv    \n",
            "\n",
            "Archive:  POS_CASH_balance.csv.zip\n",
            "  inflating: POS_CASH_balance.csv    \n",
            "\n",
            "Archive:  bureau.csv.zip\n",
            "  inflating: bureau.csv              \n",
            "\n",
            "Archive:  application_train.csv.zip\n",
            "  inflating: application_train.csv   \n",
            "\n",
            "Archive:  installments_payments.csv.zip\n",
            "  inflating: installments_payments.csv  \n",
            "\n",
            "Archive:  bureau_balance.csv.zip\n",
            "  inflating: bureau_balance.csv      \n",
            "\n",
            "Archive:  previous_application.csv.zip\n",
            "  inflating: previous_application.csv  \n",
            "\n",
            "Archive:  credit_card_balance.csv.zip\n",
            "  inflating: credit_card_balance.csv  \n",
            "\n",
            "Archive:  sample_submission.csv.zip\n",
            "  inflating: sample_submission.csv   \n",
            "\n",
            "9 archives were successfully processed.\n"
          ],
          "name": "stdout"
        }
      ]
    },
    {
      "cell_type": "code",
      "metadata": {
        "id": "axyy3VleorYn"
      },
      "source": [
        "import pandas as pd\n",
        "import numpy as np\n",
        "import matplotlib.pyplot as plt\n",
        "import seaborn as sns\n",
        "from sklearn.preprocessing import OneHotEncoder\n",
        "import warnings\n",
        "warnings.filterwarnings('ignore')\n",
        "import lightgbm as lgb\n",
        "import gc\n",
        "from sklearn.model_selection import train_test_split\n",
        "from sklearn.model_selection import KFold\n",
        "from sklearn.metrics import roc_auc_score\n",
        "from sklearn.preprocessing import LabelEncoder\n",
        "sns.set_style('darkgrid')\n",
        "%matplotlib inline"
      ],
      "execution_count": null,
      "outputs": []
    },
    {
      "cell_type": "code",
      "metadata": {
        "colab": {
          "base_uri": "https://localhost:8080/"
        },
        "id": "j91vFlqo4EYM",
        "outputId": "48607d28-89c3-4dc2-c4e6-097e4905bd46"
      },
      "source": [
        "print('WRITING PROGRAM TO REDUCE FILE SIZE....')\r\n",
        "def reduce_mem_usage(df):\r\n",
        "    \"\"\" iterate through all the columns of a dataframe and modify the data type\r\n",
        "        to reduce memory usage.        \r\n",
        "    \"\"\"\r\n",
        "    start_mem = df.memory_usage().sum() / 1024**2\r\n",
        "    print('Memory usage of dataframe is {:.2f} MB'.format(start_mem))\r\n",
        "    \r\n",
        "    for col in df.columns:\r\n",
        "        col_type = df[col].dtype\r\n",
        "        \r\n",
        "        if col_type != object:\r\n",
        "            c_min = df[col].min()\r\n",
        "            c_max = df[col].max()\r\n",
        "            if str(col_type)[:3] == 'int':\r\n",
        "                if c_min > np.iinfo(np.int8).min and c_max < np.iinfo(np.int8).max:\r\n",
        "                    df[col] = df[col].astype(np.int8)\r\n",
        "                elif c_min > np.iinfo(np.int16).min and c_max < np.iinfo(np.int16).max:\r\n",
        "                    df[col] = df[col].astype(np.int16)\r\n",
        "                elif c_min > np.iinfo(np.int32).min and c_max < np.iinfo(np.int32).max:\r\n",
        "                    df[col] = df[col].astype(np.int32)\r\n",
        "                elif c_min > np.iinfo(np.int64).min and c_max < np.iinfo(np.int64).max:\r\n",
        "                    df[col] = df[col].astype(np.int64)  \r\n",
        "            else:\r\n",
        "                if c_min > np.finfo(np.float16).min and c_max < np.finfo(np.float16).max:\r\n",
        "                    df[col] = df[col].astype(np.float16)\r\n",
        "                elif c_min > np.finfo(np.float32).min and c_max < np.finfo(np.float32).max:\r\n",
        "                    df[col] = df[col].astype(np.float32)\r\n",
        "                else:\r\n",
        "                    df[col] = df[col].astype(np.float64)\r\n",
        "        else:\r\n",
        "            df[col] = df[col].astype('category')\r\n",
        "\r\n",
        "    end_mem = df.memory_usage().sum() / 1024**2\r\n",
        "    print('Memory usage after optimization is: {:.2f} MB'.format(end_mem))\r\n",
        "    print('Decreased by {:.1f}%'.format(100 * (start_mem - end_mem) / start_mem))\r\n",
        "    \r\n",
        "    return df\r\n",
        "\r\n",
        "#CONVERT AND RETURN NEW FILE\r\n",
        "\r\n",
        "def import_data(file):\r\n",
        "    \"\"\"create a dataframe and optimize its memory usage\"\"\"\r\n",
        "    df = pd.read_csv(file, parse_dates=True, keep_date_col=True)\r\n",
        "    df = reduce_mem_usage(df)\r\n",
        "    return df\r\n",
        "\r\n",
        "print('PROGRAM COMPLETE....')"
      ],
      "execution_count": null,
      "outputs": [
        {
          "output_type": "stream",
          "text": [
            "WRITING PROGRAM TO REDUCE FILE SIZE....\n",
            "PROGRAM COMPLETE....\n"
          ],
          "name": "stdout"
        }
      ]
    },
    {
      "cell_type": "code",
      "metadata": {
        "colab": {
          "base_uri": "https://localhost:8080/"
        },
        "id": "2r76KyDM4aZz",
        "outputId": "367f5ab1-856c-4e69-ac52-38a9406e9280"
      },
      "source": [
        "!ls /content/"
      ],
      "execution_count": null,
      "outputs": [
        {
          "output_type": "stream",
          "text": [
            "application_test.csv\t     installments_payments.csv\n",
            "application_test.csv.zip     installments_payments.csv.zip\n",
            "application_train.csv\t     kaggle.json\n",
            "application_train.csv.zip    POS_CASH_balance.csv\n",
            "bureau_balance.csv\t     POS_CASH_balance.csv.zip\n",
            "bureau_balance.csv.zip\t     previous_application.csv\n",
            "bureau.csv\t\t     previous_application.csv.zip\n",
            "bureau.csv.zip\t\t     sample_data\n",
            "credit_card_balance.csv      sample_submission.csv\n",
            "credit_card_balance.csv.zip  sample_submission.csv.zip\n"
          ],
          "name": "stdout"
        }
      ]
    },
    {
      "cell_type": "code",
      "metadata": {
        "colab": {
          "base_uri": "https://localhost:8080/"
        },
        "id": "yCA-BJKn4MSJ",
        "outputId": "a3d8a431-2eaf-4406-e809-fbd20c6e5623"
      },
      "source": [
        "application_train = import_data(\"/content/application_train.csv\")"
      ],
      "execution_count": null,
      "outputs": [
        {
          "output_type": "stream",
          "text": [
            "Memory usage of dataframe is 186.05 MB\n",
            "Memory usage after optimization is: 45.23 MB\n",
            "Decreased by 75.7%\n"
          ],
          "name": "stdout"
        }
      ]
    },
    {
      "cell_type": "code",
      "metadata": {
        "colab": {
          "base_uri": "https://localhost:8080/"
        },
        "id": "4RxBNKut4Yf2",
        "outputId": "7c642ab9-5670-46d4-c673-abed66809283"
      },
      "source": [
        "application_test=import_data(\"/content/application_test.csv\")"
      ],
      "execution_count": null,
      "outputs": [
        {
          "output_type": "stream",
          "text": [
            "Memory usage of dataframe is 99.36 MB\n",
            "Memory usage after optimization is: 26.56 MB\n",
            "Decreased by 73.3%\n"
          ],
          "name": "stdout"
        }
      ]
    },
    {
      "cell_type": "code",
      "metadata": {
        "colab": {
          "base_uri": "https://localhost:8080/"
        },
        "id": "uJXFQflA4mCC",
        "outputId": "d87c5fd9-4592-45a6-c28c-6094108bb23e"
      },
      "source": [
        "bur_bal = import_data(\"/content/bureau_balance.csv\")"
      ],
      "execution_count": null,
      "outputs": [
        {
          "output_type": "stream",
          "text": [
            "Memory usage of dataframe is 624.85 MB\n",
            "Memory usage after optimization is: 202.45 MB\n",
            "Decreased by 67.6%\n"
          ],
          "name": "stdout"
        }
      ]
    },
    {
      "cell_type": "code",
      "metadata": {
        "colab": {
          "base_uri": "https://localhost:8080/"
        },
        "id": "3t-f1GAX43y7",
        "outputId": "50d0a34c-ea57-4ea4-dbff-3e74dd0b7939"
      },
      "source": [
        "bur = import_data(\"/content/bureau.csv\")"
      ],
      "execution_count": null,
      "outputs": [
        {
          "output_type": "stream",
          "text": [
            "Memory usage of dataframe is 222.62 MB\n",
            "Memory usage after optimization is: 184.00 MB\n",
            "Decreased by 17.3%\n"
          ],
          "name": "stdout"
        }
      ]
    },
    {
      "cell_type": "code",
      "metadata": {
        "colab": {
          "base_uri": "https://localhost:8080/"
        },
        "id": "IBHhF3Tn48pG",
        "outputId": "d90a66ee-f144-4c8f-c5f0-fe125b85b7b6"
      },
      "source": [
        "credit_bal = import_data(\"/content/credit_card_balance.csv\")"
      ],
      "execution_count": null,
      "outputs": [
        {
          "output_type": "stream",
          "text": [
            "Memory usage of dataframe is 673.88 MB\n",
            "Memory usage after optimization is: 275.28 MB\n",
            "Decreased by 59.2%\n"
          ],
          "name": "stdout"
        }
      ]
    },
    {
      "cell_type": "code",
      "metadata": {
        "colab": {
          "base_uri": "https://localhost:8080/"
        },
        "id": "amUlVsiw5ItY",
        "outputId": "afa7105f-548b-40b9-bf3f-a55465c92063"
      },
      "source": [
        "installment_payments = import_data(\"/content/installments_payments.csv\")"
      ],
      "execution_count": null,
      "outputs": [
        {
          "output_type": "stream",
          "text": [
            "Memory usage of dataframe is 830.41 MB\n",
            "Memory usage after optimization is: 371.61 MB\n",
            "Decreased by 55.3%\n"
          ],
          "name": "stdout"
        }
      ]
    },
    {
      "cell_type": "code",
      "metadata": {
        "colab": {
          "base_uri": "https://localhost:8080/"
        },
        "id": "eajm78rI5X-4",
        "outputId": "a3ebf98b-cf61-46fb-c248-e7842fad8a0d"
      },
      "source": [
        "pos_bal = import_data(\"/content/POS_CASH_balance.csv\")"
      ],
      "execution_count": null,
      "outputs": [
        {
          "output_type": "stream",
          "text": [
            "Memory usage of dataframe is 610.43 MB\n",
            "Memory usage after optimization is: 231.40 MB\n",
            "Decreased by 62.1%\n"
          ],
          "name": "stdout"
        }
      ]
    },
    {
      "cell_type": "code",
      "metadata": {
        "colab": {
          "base_uri": "https://localhost:8080/"
        },
        "id": "rYxJG8fd5ohf",
        "outputId": "f17fd969-66a5-4fc7-a917-c6f3058259b4"
      },
      "source": [
        "prev_application = import_data(\"/content/previous_application.csv\")"
      ],
      "execution_count": null,
      "outputs": [
        {
          "output_type": "stream",
          "text": [
            "Memory usage of dataframe is 471.48 MB\n",
            "Memory usage after optimization is: 235.95 MB\n",
            "Decreased by 50.0%\n"
          ],
          "name": "stdout"
        }
      ]
    },
    {
      "cell_type": "code",
      "metadata": {
        "colab": {
          "base_uri": "https://localhost:8080/"
        },
        "id": "3Jufh3mZ58bW",
        "outputId": "8d032152-1e2c-4549-88f9-9b0dc2e3c4b3"
      },
      "source": [
        "gc.enable()\r\n",
        "gc.collect()"
      ],
      "execution_count": null,
      "outputs": [
        {
          "output_type": "execute_result",
          "data": {
            "text/plain": [
              "15"
            ]
          },
          "metadata": {
            "tags": []
          },
          "execution_count": 12
        }
      ]
    },
    {
      "cell_type": "code",
      "metadata": {
        "id": "EuEPi2VO6ANp"
      },
      "source": [
        "application_train_org = application_train.copy()"
      ],
      "execution_count": null,
      "outputs": []
    },
    {
      "cell_type": "code",
      "metadata": {
        "colab": {
          "base_uri": "https://localhost:8080/"
        },
        "id": "BDEMCmlfo2Ka",
        "outputId": "77ad4475-7f9d-45dd-e0d6-887f88e59d98"
      },
      "source": [
        "print(\"Application Shape: \", application_train.shape)\n",
        "print(\"Application Shape: \", application_test.shape)"
      ],
      "execution_count": null,
      "outputs": [
        {
          "output_type": "stream",
          "text": [
            "Application Shape:  (199882, 122)\n",
            "Application Shape:  (107629, 121)\n"
          ],
          "name": "stdout"
        }
      ]
    },
    {
      "cell_type": "code",
      "metadata": {
        "id": "pSfeO2xnq-QU"
      },
      "source": [
        "def getCnamesNumeric(df):\n",
        "    return list(df.select_dtypes(exclude=['category','object']).columns)\n",
        "\n",
        "def getCnamesObject(df):\n",
        "    return list(df.select_dtypes(include=['category','object']).columns)\n",
        "\n",
        "def getDetailsAboutMissingValuesAllColumns(df):\n",
        "  return df.isna().sum()/df.shape[0]\n",
        "\n",
        "def getDetailsAboutOnlyMissingValuesColumns(df):\n",
        "  print(\"Shape: \", df.shape)\n",
        "  return df[list(df.columns[df.isna().any()])].isna().sum()/df.shape[0]\n",
        "\n",
        "def dropColumns(df, columnNames):\n",
        "  for column in columnNames:\n",
        "    df = df.drop(column, axis = 1)\n",
        "  return df\n",
        "\n",
        "def imputeCategoricalMissingValuesUsingMode(df):\n",
        "  columnName = getCnamesObject(df)\n",
        "  for col in columnName: df[col].fillna(df[col].mode().values[0], inplace = True)\n",
        "\n",
        "def imputeNumericMissingValuesUsingMean(df):\n",
        "  columnName = getCnamesNumeric(df)\n",
        "  for col in columnName: df[col].fillna(df[col].mean(), inplace = True)\n",
        "\n",
        "def imputeNumericMissingValuesUsingMode(df):\n",
        "  columnName = getCnamesNumeric(df)\n",
        "  for col in columnName: df[col].fillna(df[col].mode()[0], inplace = True)\n",
        "def imputeNumericMissingValuesUsingMedian(df):\n",
        "  columnName = getCnamesNumeric(df)\n",
        "  for col in columnName: df[col].fillna(df[col].median(), inplace = True)\n",
        "\n",
        "\n",
        "\n",
        "def plotCountPlotForCategoricalFeatures(df, cnamesObject):\n",
        "  number_of_rows = (len(cnamesObject) + 1)/2\n",
        "  plt.figure(figsize=(20, 6*number_of_rows))\n",
        "\n",
        "  for i in range(0,len(cnamesObject)):\n",
        "    plt.subplot(number_of_rows,2,i+1)\n",
        "    sns.countplot(y=cnamesObject[i], data = df)\n",
        "    plt.title(cnamesObject[i])\n",
        "    plt.tight_layout()\n",
        "\n",
        "def distributionOfCategoricalFeaturesWRTTarget(df, cnamesObject):\n",
        "  number_of_rows = (len(cnamesObject) + 1)/2\n",
        "  plt.figure(figsize=(20, 6*number_of_rows))\n",
        "\n",
        "  for i in range(0,len(cnamesObject)):\n",
        "    plt.subplot(number_of_rows,2,i+1)\n",
        "    sns.countplot(data=df, hue=\"TARGET\", y=cnamesObject[i])\n",
        "    plt.title(cnamesObject[i])\n",
        "    plt.tight_layout()\n",
        "\n",
        "def drawCorrelationMatrix(df) :\n",
        "  length = len(getCnamesNumeric(df))\n",
        "  correlaionMatrix = df.corr()\n",
        "  plt.figure(figsize=(length,length*0.8))\n",
        "  sns.heatmap(correlaionMatrix, annot=True, cmap = 'viridis')\n",
        "\n",
        "def drawDistributionPlot(df, cnamesNumeric):\n",
        "  number_of_rows = (len(cnamesNumeric) + 1)/2\n",
        "  plt.figure(figsize=(20, 4*number_of_rows))\n",
        "\n",
        "  for i in range(0, len(cnamesNumeric)):\n",
        "    plt.subplot(number_of_rows,3,i+1)\n",
        "    sns.kdeplot(df[cnamesNumeric[i]])\n",
        "    plt.title(cnamesNumeric[i])\n",
        "    plt.tight_layout()\n",
        "\n",
        "def corr_columnwise(df):\n",
        "  columns = df.columns\n",
        "  for col in columns:\n",
        "    at_corr_col = at_corr[col]\n",
        "    print(col+\" +ve\")\n",
        "    print(at_corr_col[at_corr_col>0.9].index.to_list())\n",
        "    print(col+\" -ve\")\n",
        "    print(at_corr_col[at_corr_col<-0.9].index.to_list())\n",
        "\n",
        "def remove_corr_columns(df,atNC,atCC,df_corr):\n",
        "  threshold = 0.9\n",
        "  columns = np.full((df_corr.shape[0],), True, dtype=bool)\n",
        "  for i in range(df_corr.shape[0]):\n",
        "      for j in range(i+1, df_corr.shape[0]):\n",
        "          if df_corr.iloc[i,j] >= threshold:\n",
        "              if columns[j]:\n",
        "                  columns[j] = False\n",
        "  x_temp=df[atNC].columns[columns].to_list()\n",
        "  return pd.concat([df[x_temp],df[atCC]],axis=1)\n",
        "\n",
        "def checkOutlier(data, cnames_numeric):\n",
        "    number_of_rows = (len(cnames_numeric) + 1)/2\n",
        "    plt.figure(figsize=(20, 4*number_of_rows))\n",
        "    \n",
        "    for i in range(0,len(cnames_numeric)):\n",
        "        plt.subplot(number_of_rows,4,i+1)\n",
        "        sns.boxplot(x=data[cnames_numeric[i]])\n",
        "        plt.title(cnames_numeric[i])\n",
        "        plt.tight_layout()\n",
        "\n",
        "def removeOutlier(data, cnamesNumeric):\n",
        "    for i in cnamesNumeric:\n",
        "        q75, q25 = np.percentile(data.loc[:,i], [75 ,25])\n",
        "        #Calculate IQR\n",
        "        iqr = q75 - q25\n",
        "        #Calculate inner and outer fence\n",
        "        minimum = q25 - (iqr*1.5)\n",
        "        maximum = q75 + (iqr*1.5)\n",
        "        #Replace with NA\n",
        "        data.loc[data.loc[:,i] < minimum,i] = np.nan\n",
        "        data.loc[data.loc[:,i] > maximum,i] = np.nan\n",
        "    imputeNumericMissingValuesUsingMean(data)\n",
        "    return data\n",
        "\n",
        "def drawPieChartForCategoricalFeatures(df, columnNames):\n",
        "  number_of_rows = int((len(columnNames) + 1)/2)\n",
        "  plt.figure(figsize=(20, 6*number_of_rows))\n",
        "\n",
        "  for i in range(0,len(columnNames)):\n",
        "    col = columnNames[i]\n",
        "    percentage = (df[col].value_counts(dropna=True, normalize=True)*100).to_list()\n",
        "    labels = list(df[col].unique())\n",
        "    labels = ['{0} - {1:1.2f} %'.format(i,j) for i,j in zip(labels, percentage)]\n",
        "    sizes = list(df[col].value_counts(dropna=True))\n",
        "    ax1 = plt.subplot(number_of_rows,2,i + 1)\n",
        "    wedges, autotexts = ax1.pie(sizes, startangle=90)\n",
        "    #ax1.axis('equal')\n",
        "\n",
        "    ax1.legend(wedges, labels,\n",
        "              title=col,\n",
        "              loc=\"center left\",\n",
        "              bbox_to_anchor=(1, 0, 0.5, 1))\n",
        "    plt.title(col)\n",
        "plt.show()\n",
        "\n",
        "def applyOneHotEncoding(df, Columns):\n",
        "  for col in Columns:\n",
        "    ohc = OneHotEncoder()\n",
        "    ohe = ohc.fit_transform(df[col].values.reshape(-1,1)).toarray()\n",
        "    dfOneHot = pd.DataFrame(ohe, columns=[col+\"_\"+str(ohc.categories_[0][i])\n",
        "                                                for i in range(len(ohc.categories_[0]))])\n",
        "    df = pd.concat([df, dfOneHot.reindex(df.index)], axis=1)\n",
        "    df = df.drop(col, axis = 1)\n",
        "  return df\n",
        "  \n",
        "def plot_feature_importances(df):\n",
        "    \n",
        "    df = df.sort_values('importance', ascending = False).reset_index()\n",
        "    df['importance_normalized'] = df['importance'] / df['importance'].sum()\n",
        "    plt.figure(figsize = (10, 6))\n",
        "    ax = plt.subplot()\n",
        "    ax.barh(list(reversed(list(df.index[:10]))), df['importance_normalized'].head(10))\n",
        "\n",
        "    ax.set_yticks(list(reversed(list(df.index[:10]))))\n",
        "    ax.set_yticklabels(df['feature'].head(10))\n",
        "  \n",
        "    plt.xlabel('Percentage'); plt.title('Feature Importances')\n",
        "    plt.show()\n",
        "    \n",
        "    return df"
      ],
      "execution_count": null,
      "outputs": []
    },
    {
      "cell_type": "code",
      "metadata": {
        "id": "4WubALaUTijo"
      },
      "source": [
        "def makereadyforjoin(df):\r\n",
        "  temp = df['SK_ID_CURR']\r\n",
        "  df=df[getCnamesNumeric(df)]\r\n",
        "  df['SK_ID_CURR']=temp\r\n",
        "  df=df.groupby('SK_ID_CURR').agg(['mean','max','sum','var','median'])\r\n",
        "  df.reset_index(inplace=True)\r\n",
        "  df.columns = pd.Index([e[0] + \"_\" + e[1].upper() for e in df.columns.tolist()])\r\n",
        "  df.rename(columns={'SK_ID_CURR_':'SK_ID_CURR'}, inplace=True)\r\n",
        "  return df"
      ],
      "execution_count": null,
      "outputs": []
    },
    {
      "cell_type": "code",
      "metadata": {
        "id": "VJ808CJsVzbU"
      },
      "source": [
        "prev_application = makereadyforjoin(prev_application)"
      ],
      "execution_count": null,
      "outputs": []
    },
    {
      "cell_type": "code",
      "metadata": {
        "id": "Fx-NUDXTW-oH"
      },
      "source": [
        "credit_bal = makereadyforjoin(credit_bal)"
      ],
      "execution_count": null,
      "outputs": []
    },
    {
      "cell_type": "code",
      "metadata": {
        "id": "2qG_2kSgXGhS"
      },
      "source": [
        "pos_bal = makereadyforjoin(pos_bal)"
      ],
      "execution_count": null,
      "outputs": []
    },
    {
      "cell_type": "code",
      "metadata": {
        "id": "YU13s6adXLar"
      },
      "source": [
        "installment_payments = makereadyforjoin(installment_payments)"
      ],
      "execution_count": null,
      "outputs": []
    },
    {
      "cell_type": "code",
      "metadata": {
        "id": "Pertr_sBTCgL"
      },
      "source": [
        "application_train = application_train.merge(right=prev_application, how='left', on='SK_ID_CURR')\r\n",
        "application_test = application_test.merge(right=prev_application, how='left', on='SK_ID_CURR')"
      ],
      "execution_count": null,
      "outputs": []
    },
    {
      "cell_type": "code",
      "metadata": {
        "id": "MXwtxVC1UtND"
      },
      "source": [
        "application_train = application_train.merge(right=credit_bal, how='left', on='SK_ID_CURR')\r\n",
        "application_test = application_test.merge(right=credit_bal, how='left', on='SK_ID_CURR')"
      ],
      "execution_count": null,
      "outputs": []
    },
    {
      "cell_type": "code",
      "metadata": {
        "id": "lHgIkcxpaEzJ"
      },
      "source": [
        "application_train = application_train.merge(right=pos_bal, how='left', on='SK_ID_CURR')\r\n",
        "application_test = application_test.merge(right=pos_bal, how='left', on='SK_ID_CURR')"
      ],
      "execution_count": null,
      "outputs": []
    },
    {
      "cell_type": "code",
      "metadata": {
        "id": "9LlvhLeIaHmV"
      },
      "source": [
        "application_train = application_train.merge(right=installment_payments, how='left', on='SK_ID_CURR')\r\n",
        "application_test = application_test.merge(right=installment_payments, how='left', on='SK_ID_CURR')"
      ],
      "execution_count": null,
      "outputs": []
    },
    {
      "cell_type": "code",
      "metadata": {
        "colab": {
          "base_uri": "https://localhost:8080/"
        },
        "id": "q6Wo_ZlcMRl5",
        "outputId": "94cf9f9e-ecea-42a7-916b-6abdf7e4248f"
      },
      "source": [
        "\r\n",
        "del application_train['SK_ID_CURR']\r\n",
        "del application_test['SK_ID_CURR']\r\n",
        "del credit_bal\r\n",
        "del pos_bal\r\n",
        "del installment_payments\r\n",
        "del prev_application\r\n",
        "gc.enable()\r\n",
        "gc.collect()"
      ],
      "execution_count": null,
      "outputs": [
        {
          "output_type": "execute_result",
          "data": {
            "text/plain": [
              "0"
            ]
          },
          "metadata": {
            "tags": []
          },
          "execution_count": 25
        }
      ]
    },
    {
      "cell_type": "code",
      "metadata": {
        "colab": {
          "base_uri": "https://localhost:8080/",
          "height": 328
        },
        "id": "-nrP5KK4o9xN",
        "outputId": "904a50df-d8d7-44b7-8510-e39bad8a7aa6"
      },
      "source": [
        "application_train.head()"
      ],
      "execution_count": null,
      "outputs": [
        {
          "output_type": "execute_result",
          "data": {
            "text/html": [
              "<div>\n",
              "<style scoped>\n",
              "    .dataframe tbody tr th:only-of-type {\n",
              "        vertical-align: middle;\n",
              "    }\n",
              "\n",
              "    .dataframe tbody tr th {\n",
              "        vertical-align: top;\n",
              "    }\n",
              "\n",
              "    .dataframe thead th {\n",
              "        text-align: right;\n",
              "    }\n",
              "</style>\n",
              "<table border=\"1\" class=\"dataframe\">\n",
              "  <thead>\n",
              "    <tr style=\"text-align: right;\">\n",
              "      <th></th>\n",
              "      <th>TARGET</th>\n",
              "      <th>NAME_CONTRACT_TYPE</th>\n",
              "      <th>CODE_GENDER</th>\n",
              "      <th>FLAG_OWN_CAR</th>\n",
              "      <th>FLAG_OWN_REALTY</th>\n",
              "      <th>CNT_CHILDREN</th>\n",
              "      <th>AMT_INCOME_TOTAL</th>\n",
              "      <th>AMT_CREDIT</th>\n",
              "      <th>AMT_ANNUITY</th>\n",
              "      <th>AMT_GOODS_PRICE</th>\n",
              "      <th>NAME_TYPE_SUITE</th>\n",
              "      <th>NAME_INCOME_TYPE</th>\n",
              "      <th>NAME_EDUCATION_TYPE</th>\n",
              "      <th>NAME_FAMILY_STATUS</th>\n",
              "      <th>NAME_HOUSING_TYPE</th>\n",
              "      <th>REGION_POPULATION_RELATIVE</th>\n",
              "      <th>DAYS_BIRTH</th>\n",
              "      <th>DAYS_EMPLOYED</th>\n",
              "      <th>DAYS_REGISTRATION</th>\n",
              "      <th>DAYS_ID_PUBLISH</th>\n",
              "      <th>OWN_CAR_AGE</th>\n",
              "      <th>FLAG_MOBIL</th>\n",
              "      <th>FLAG_EMP_PHONE</th>\n",
              "      <th>FLAG_WORK_PHONE</th>\n",
              "      <th>FLAG_CONT_MOBILE</th>\n",
              "      <th>FLAG_PHONE</th>\n",
              "      <th>FLAG_EMAIL</th>\n",
              "      <th>OCCUPATION_TYPE</th>\n",
              "      <th>CNT_FAM_MEMBERS</th>\n",
              "      <th>REGION_RATING_CLIENT</th>\n",
              "      <th>REGION_RATING_CLIENT_W_CITY</th>\n",
              "      <th>WEEKDAY_APPR_PROCESS_START</th>\n",
              "      <th>HOUR_APPR_PROCESS_START</th>\n",
              "      <th>REG_REGION_NOT_LIVE_REGION</th>\n",
              "      <th>REG_REGION_NOT_WORK_REGION</th>\n",
              "      <th>LIVE_REGION_NOT_WORK_REGION</th>\n",
              "      <th>REG_CITY_NOT_LIVE_CITY</th>\n",
              "      <th>REG_CITY_NOT_WORK_CITY</th>\n",
              "      <th>LIVE_CITY_NOT_WORK_CITY</th>\n",
              "      <th>ORGANIZATION_TYPE</th>\n",
              "      <th>...</th>\n",
              "      <th>SK_DPD_MEAN_y</th>\n",
              "      <th>SK_DPD_MAX_y</th>\n",
              "      <th>SK_DPD_SUM_y</th>\n",
              "      <th>SK_DPD_VAR_y</th>\n",
              "      <th>SK_DPD_MEDIAN_y</th>\n",
              "      <th>SK_DPD_DEF_MEAN_y</th>\n",
              "      <th>SK_DPD_DEF_MAX_y</th>\n",
              "      <th>SK_DPD_DEF_SUM_y</th>\n",
              "      <th>SK_DPD_DEF_VAR_y</th>\n",
              "      <th>SK_DPD_DEF_MEDIAN_y</th>\n",
              "      <th>NUM_INSTALMENT_VERSION_MEAN</th>\n",
              "      <th>NUM_INSTALMENT_VERSION_MAX</th>\n",
              "      <th>NUM_INSTALMENT_VERSION_SUM</th>\n",
              "      <th>NUM_INSTALMENT_VERSION_VAR</th>\n",
              "      <th>NUM_INSTALMENT_VERSION_MEDIAN</th>\n",
              "      <th>NUM_INSTALMENT_NUMBER_MEAN</th>\n",
              "      <th>NUM_INSTALMENT_NUMBER_MAX</th>\n",
              "      <th>NUM_INSTALMENT_NUMBER_SUM</th>\n",
              "      <th>NUM_INSTALMENT_NUMBER_VAR</th>\n",
              "      <th>NUM_INSTALMENT_NUMBER_MEDIAN</th>\n",
              "      <th>DAYS_INSTALMENT_MEAN</th>\n",
              "      <th>DAYS_INSTALMENT_MAX</th>\n",
              "      <th>DAYS_INSTALMENT_SUM</th>\n",
              "      <th>DAYS_INSTALMENT_VAR</th>\n",
              "      <th>DAYS_INSTALMENT_MEDIAN</th>\n",
              "      <th>DAYS_ENTRY_PAYMENT_MEAN</th>\n",
              "      <th>DAYS_ENTRY_PAYMENT_MAX</th>\n",
              "      <th>DAYS_ENTRY_PAYMENT_SUM</th>\n",
              "      <th>DAYS_ENTRY_PAYMENT_VAR</th>\n",
              "      <th>DAYS_ENTRY_PAYMENT_MEDIAN</th>\n",
              "      <th>AMT_INSTALMENT_MEAN</th>\n",
              "      <th>AMT_INSTALMENT_MAX</th>\n",
              "      <th>AMT_INSTALMENT_SUM</th>\n",
              "      <th>AMT_INSTALMENT_VAR</th>\n",
              "      <th>AMT_INSTALMENT_MEDIAN</th>\n",
              "      <th>AMT_PAYMENT_MEAN</th>\n",
              "      <th>AMT_PAYMENT_MAX</th>\n",
              "      <th>AMT_PAYMENT_SUM</th>\n",
              "      <th>AMT_PAYMENT_VAR</th>\n",
              "      <th>AMT_PAYMENT_MEDIAN</th>\n",
              "    </tr>\n",
              "  </thead>\n",
              "  <tbody>\n",
              "    <tr>\n",
              "      <th>0</th>\n",
              "      <td>0</td>\n",
              "      <td>Cash loans</td>\n",
              "      <td>M</td>\n",
              "      <td>N</td>\n",
              "      <td>Y</td>\n",
              "      <td>0</td>\n",
              "      <td>360000.0</td>\n",
              "      <td>1125000.0</td>\n",
              "      <td>33025.5</td>\n",
              "      <td>1125000.0</td>\n",
              "      <td>Spouse, partner</td>\n",
              "      <td>Commercial associate</td>\n",
              "      <td>Higher education</td>\n",
              "      <td>Married</td>\n",
              "      <td>House / apartment</td>\n",
              "      <td>0.022797</td>\n",
              "      <td>-18943</td>\n",
              "      <td>-7369</td>\n",
              "      <td>-2352.0</td>\n",
              "      <td>-2479</td>\n",
              "      <td>NaN</td>\n",
              "      <td>1</td>\n",
              "      <td>1</td>\n",
              "      <td>0</td>\n",
              "      <td>1</td>\n",
              "      <td>0</td>\n",
              "      <td>0</td>\n",
              "      <td>Managers</td>\n",
              "      <td>2.0</td>\n",
              "      <td>2</td>\n",
              "      <td>2</td>\n",
              "      <td>WEDNESDAY</td>\n",
              "      <td>11</td>\n",
              "      <td>0</td>\n",
              "      <td>0</td>\n",
              "      <td>0</td>\n",
              "      <td>0</td>\n",
              "      <td>1</td>\n",
              "      <td>1</td>\n",
              "      <td>Other</td>\n",
              "      <td>...</td>\n",
              "      <td>0.0</td>\n",
              "      <td>0.0</td>\n",
              "      <td>0.0</td>\n",
              "      <td>0.0</td>\n",
              "      <td>0.0</td>\n",
              "      <td>0.0</td>\n",
              "      <td>0.0</td>\n",
              "      <td>0.0</td>\n",
              "      <td>0.0</td>\n",
              "      <td>0.0</td>\n",
              "      <td>1.000000</td>\n",
              "      <td>1.0</td>\n",
              "      <td>22.0</td>\n",
              "      <td>0.000000</td>\n",
              "      <td>1.0</td>\n",
              "      <td>6.045455</td>\n",
              "      <td>12.0</td>\n",
              "      <td>133.0</td>\n",
              "      <td>10.997835</td>\n",
              "      <td>6.0</td>\n",
              "      <td>-2340.00</td>\n",
              "      <td>-2062.0</td>\n",
              "      <td>-51488.0</td>\n",
              "      <td>25776.0</td>\n",
              "      <td>-2352.0</td>\n",
              "      <td>-2352.00</td>\n",
              "      <td>-2080.0</td>\n",
              "      <td>-51744.0</td>\n",
              "      <td>23712.0</td>\n",
              "      <td>-2362.0</td>\n",
              "      <td>5312.074219</td>\n",
              "      <td>6176.430176</td>\n",
              "      <td>116865.632812</td>\n",
              "      <td>9.237629e+05</td>\n",
              "      <td>6132.622559</td>\n",
              "      <td>5312.074219</td>\n",
              "      <td>6176.430176</td>\n",
              "      <td>116865.632812</td>\n",
              "      <td>9.237629e+05</td>\n",
              "      <td>6132.622559</td>\n",
              "    </tr>\n",
              "    <tr>\n",
              "      <th>1</th>\n",
              "      <td>0</td>\n",
              "      <td>Cash loans</td>\n",
              "      <td>F</td>\n",
              "      <td>N</td>\n",
              "      <td>Y</td>\n",
              "      <td>0</td>\n",
              "      <td>112500.0</td>\n",
              "      <td>251280.0</td>\n",
              "      <td>13630.5</td>\n",
              "      <td>180000.0</td>\n",
              "      <td>Family</td>\n",
              "      <td>Working</td>\n",
              "      <td>Secondary / secondary special</td>\n",
              "      <td>Married</td>\n",
              "      <td>House / apartment</td>\n",
              "      <td>0.022629</td>\n",
              "      <td>-13894</td>\n",
              "      <td>-1393</td>\n",
              "      <td>-5696.0</td>\n",
              "      <td>-5698</td>\n",
              "      <td>NaN</td>\n",
              "      <td>1</td>\n",
              "      <td>1</td>\n",
              "      <td>0</td>\n",
              "      <td>1</td>\n",
              "      <td>0</td>\n",
              "      <td>0</td>\n",
              "      <td>Sales staff</td>\n",
              "      <td>2.0</td>\n",
              "      <td>2</td>\n",
              "      <td>2</td>\n",
              "      <td>WEDNESDAY</td>\n",
              "      <td>14</td>\n",
              "      <td>0</td>\n",
              "      <td>0</td>\n",
              "      <td>0</td>\n",
              "      <td>0</td>\n",
              "      <td>0</td>\n",
              "      <td>0</td>\n",
              "      <td>Self-employed</td>\n",
              "      <td>...</td>\n",
              "      <td>0.0</td>\n",
              "      <td>0.0</td>\n",
              "      <td>0.0</td>\n",
              "      <td>0.0</td>\n",
              "      <td>0.0</td>\n",
              "      <td>0.0</td>\n",
              "      <td>0.0</td>\n",
              "      <td>0.0</td>\n",
              "      <td>0.0</td>\n",
              "      <td>0.0</td>\n",
              "      <td>0.181763</td>\n",
              "      <td>2.0</td>\n",
              "      <td>10.0</td>\n",
              "      <td>0.188599</td>\n",
              "      <td>0.0</td>\n",
              "      <td>20.109091</td>\n",
              "      <td>46.0</td>\n",
              "      <td>1106.0</td>\n",
              "      <td>210.284175</td>\n",
              "      <td>19.0</td>\n",
              "      <td>-448.75</td>\n",
              "      <td>-9.0</td>\n",
              "      <td>-24688.0</td>\n",
              "      <td>inf</td>\n",
              "      <td>-386.0</td>\n",
              "      <td>-452.75</td>\n",
              "      <td>-9.0</td>\n",
              "      <td>-24896.0</td>\n",
              "      <td>inf</td>\n",
              "      <td>-394.0</td>\n",
              "      <td>15690.834961</td>\n",
              "      <td>410400.000000</td>\n",
              "      <td>862995.937500</td>\n",
              "      <td>3.057419e+09</td>\n",
              "      <td>5925.375000</td>\n",
              "      <td>15690.834961</td>\n",
              "      <td>410400.000000</td>\n",
              "      <td>862995.937500</td>\n",
              "      <td>3.057419e+09</td>\n",
              "      <td>5925.375000</td>\n",
              "    </tr>\n",
              "    <tr>\n",
              "      <th>2</th>\n",
              "      <td>0</td>\n",
              "      <td>Cash loans</td>\n",
              "      <td>F</td>\n",
              "      <td>N</td>\n",
              "      <td>Y</td>\n",
              "      <td>0</td>\n",
              "      <td>225000.0</td>\n",
              "      <td>544491.0</td>\n",
              "      <td>15916.5</td>\n",
              "      <td>454500.0</td>\n",
              "      <td>Unaccompanied</td>\n",
              "      <td>Commercial associate</td>\n",
              "      <td>Secondary / secondary special</td>\n",
              "      <td>Civil marriage</td>\n",
              "      <td>House / apartment</td>\n",
              "      <td>0.035797</td>\n",
              "      <td>-19821</td>\n",
              "      <td>-2075</td>\n",
              "      <td>-2120.0</td>\n",
              "      <td>-3379</td>\n",
              "      <td>NaN</td>\n",
              "      <td>1</td>\n",
              "      <td>1</td>\n",
              "      <td>1</td>\n",
              "      <td>1</td>\n",
              "      <td>0</td>\n",
              "      <td>0</td>\n",
              "      <td>Sales staff</td>\n",
              "      <td>2.0</td>\n",
              "      <td>2</td>\n",
              "      <td>2</td>\n",
              "      <td>WEDNESDAY</td>\n",
              "      <td>16</td>\n",
              "      <td>0</td>\n",
              "      <td>0</td>\n",
              "      <td>0</td>\n",
              "      <td>0</td>\n",
              "      <td>0</td>\n",
              "      <td>0</td>\n",
              "      <td>Hotel</td>\n",
              "      <td>...</td>\n",
              "      <td>0.0</td>\n",
              "      <td>0.0</td>\n",
              "      <td>0.0</td>\n",
              "      <td>0.0</td>\n",
              "      <td>0.0</td>\n",
              "      <td>0.0</td>\n",
              "      <td>0.0</td>\n",
              "      <td>0.0</td>\n",
              "      <td>0.0</td>\n",
              "      <td>0.0</td>\n",
              "      <td>1.052734</td>\n",
              "      <td>2.0</td>\n",
              "      <td>40.0</td>\n",
              "      <td>0.105286</td>\n",
              "      <td>1.0</td>\n",
              "      <td>5.342105</td>\n",
              "      <td>11.0</td>\n",
              "      <td>203.0</td>\n",
              "      <td>9.960882</td>\n",
              "      <td>5.0</td>\n",
              "      <td>-429.00</td>\n",
              "      <td>-18.0</td>\n",
              "      <td>-16304.0</td>\n",
              "      <td>inf</td>\n",
              "      <td>-326.5</td>\n",
              "      <td>-440.25</td>\n",
              "      <td>-26.0</td>\n",
              "      <td>-16736.0</td>\n",
              "      <td>inf</td>\n",
              "      <td>-331.0</td>\n",
              "      <td>24780.740234</td>\n",
              "      <td>54872.054688</td>\n",
              "      <td>941668.125000</td>\n",
              "      <td>1.626667e+08</td>\n",
              "      <td>18774.224609</td>\n",
              "      <td>24780.740234</td>\n",
              "      <td>54872.054688</td>\n",
              "      <td>941668.125000</td>\n",
              "      <td>1.626667e+08</td>\n",
              "      <td>18774.224609</td>\n",
              "    </tr>\n",
              "    <tr>\n",
              "      <th>3</th>\n",
              "      <td>0</td>\n",
              "      <td>Cash loans</td>\n",
              "      <td>F</td>\n",
              "      <td>N</td>\n",
              "      <td>N</td>\n",
              "      <td>2</td>\n",
              "      <td>211500.0</td>\n",
              "      <td>900000.0</td>\n",
              "      <td>26316.0</td>\n",
              "      <td>900000.0</td>\n",
              "      <td>Unaccompanied</td>\n",
              "      <td>Working</td>\n",
              "      <td>Secondary / secondary special</td>\n",
              "      <td>Married</td>\n",
              "      <td>House / apartment</td>\n",
              "      <td>0.006207</td>\n",
              "      <td>-13034</td>\n",
              "      <td>-2205</td>\n",
              "      <td>-1193.0</td>\n",
              "      <td>-4141</td>\n",
              "      <td>NaN</td>\n",
              "      <td>1</td>\n",
              "      <td>1</td>\n",
              "      <td>1</td>\n",
              "      <td>1</td>\n",
              "      <td>0</td>\n",
              "      <td>0</td>\n",
              "      <td>Laborers</td>\n",
              "      <td>4.0</td>\n",
              "      <td>2</td>\n",
              "      <td>2</td>\n",
              "      <td>THURSDAY</td>\n",
              "      <td>17</td>\n",
              "      <td>0</td>\n",
              "      <td>0</td>\n",
              "      <td>0</td>\n",
              "      <td>0</td>\n",
              "      <td>0</td>\n",
              "      <td>0</td>\n",
              "      <td>Industry: type 3</td>\n",
              "      <td>...</td>\n",
              "      <td>0.0</td>\n",
              "      <td>0.0</td>\n",
              "      <td>0.0</td>\n",
              "      <td>0.0</td>\n",
              "      <td>0.0</td>\n",
              "      <td>0.0</td>\n",
              "      <td>0.0</td>\n",
              "      <td>0.0</td>\n",
              "      <td>0.0</td>\n",
              "      <td>0.0</td>\n",
              "      <td>1.250000</td>\n",
              "      <td>2.0</td>\n",
              "      <td>5.0</td>\n",
              "      <td>0.250000</td>\n",
              "      <td>1.0</td>\n",
              "      <td>2.500000</td>\n",
              "      <td>4.0</td>\n",
              "      <td>10.0</td>\n",
              "      <td>1.666667</td>\n",
              "      <td>2.5</td>\n",
              "      <td>-409.00</td>\n",
              "      <td>-364.0</td>\n",
              "      <td>-1636.0</td>\n",
              "      <td>1500.0</td>\n",
              "      <td>-409.0</td>\n",
              "      <td>-415.50</td>\n",
              "      <td>-381.0</td>\n",
              "      <td>-1662.0</td>\n",
              "      <td>1172.0</td>\n",
              "      <td>-411.0</td>\n",
              "      <td>113274.515625</td>\n",
              "      <td>365708.656250</td>\n",
              "      <td>453098.062500</td>\n",
              "      <td>2.832133e+10</td>\n",
              "      <td>29129.804688</td>\n",
              "      <td>113274.515625</td>\n",
              "      <td>365708.656250</td>\n",
              "      <td>453098.062500</td>\n",
              "      <td>2.832133e+10</td>\n",
              "      <td>29129.804688</td>\n",
              "    </tr>\n",
              "    <tr>\n",
              "      <th>4</th>\n",
              "      <td>1</td>\n",
              "      <td>Cash loans</td>\n",
              "      <td>F</td>\n",
              "      <td>N</td>\n",
              "      <td>Y</td>\n",
              "      <td>0</td>\n",
              "      <td>90000.0</td>\n",
              "      <td>113760.0</td>\n",
              "      <td>8406.0</td>\n",
              "      <td>90000.0</td>\n",
              "      <td>Unaccompanied</td>\n",
              "      <td>Working</td>\n",
              "      <td>Secondary / secondary special</td>\n",
              "      <td>Married</td>\n",
              "      <td>House / apartment</td>\n",
              "      <td>0.020706</td>\n",
              "      <td>-18393</td>\n",
              "      <td>-1694</td>\n",
              "      <td>-8280.0</td>\n",
              "      <td>-1890</td>\n",
              "      <td>NaN</td>\n",
              "      <td>1</td>\n",
              "      <td>1</td>\n",
              "      <td>1</td>\n",
              "      <td>1</td>\n",
              "      <td>0</td>\n",
              "      <td>0</td>\n",
              "      <td>Sales staff</td>\n",
              "      <td>2.0</td>\n",
              "      <td>3</td>\n",
              "      <td>3</td>\n",
              "      <td>SATURDAY</td>\n",
              "      <td>12</td>\n",
              "      <td>0</td>\n",
              "      <td>0</td>\n",
              "      <td>0</td>\n",
              "      <td>0</td>\n",
              "      <td>0</td>\n",
              "      <td>0</td>\n",
              "      <td>Self-employed</td>\n",
              "      <td>...</td>\n",
              "      <td>NaN</td>\n",
              "      <td>NaN</td>\n",
              "      <td>NaN</td>\n",
              "      <td>NaN</td>\n",
              "      <td>NaN</td>\n",
              "      <td>NaN</td>\n",
              "      <td>NaN</td>\n",
              "      <td>NaN</td>\n",
              "      <td>NaN</td>\n",
              "      <td>NaN</td>\n",
              "      <td>0.000000</td>\n",
              "      <td>0.0</td>\n",
              "      <td>0.0</td>\n",
              "      <td>0.000000</td>\n",
              "      <td>0.0</td>\n",
              "      <td>7.000000</td>\n",
              "      <td>13.0</td>\n",
              "      <td>91.0</td>\n",
              "      <td>15.166667</td>\n",
              "      <td>7.0</td>\n",
              "      <td>-166.25</td>\n",
              "      <td>-25.0</td>\n",
              "      <td>-2162.0</td>\n",
              "      <td>5476.0</td>\n",
              "      <td>-190.0</td>\n",
              "      <td>-167.75</td>\n",
              "      <td>-25.0</td>\n",
              "      <td>-2180.0</td>\n",
              "      <td>5576.0</td>\n",
              "      <td>-209.0</td>\n",
              "      <td>1751.818848</td>\n",
              "      <td>17550.000000</td>\n",
              "      <td>22773.644531</td>\n",
              "      <td>2.319595e+07</td>\n",
              "      <td>20.205000</td>\n",
              "      <td>1751.818848</td>\n",
              "      <td>17550.000000</td>\n",
              "      <td>22773.644531</td>\n",
              "      <td>2.319595e+07</td>\n",
              "      <td>20.205000</td>\n",
              "    </tr>\n",
              "  </tbody>\n",
              "</table>\n",
              "<p>5 rows × 371 columns</p>\n",
              "</div>"
            ],
            "text/plain": [
              "   TARGET NAME_CONTRACT_TYPE  ... AMT_PAYMENT_VAR AMT_PAYMENT_MEDIAN\n",
              "0       0         Cash loans  ...    9.237629e+05        6132.622559\n",
              "1       0         Cash loans  ...    3.057419e+09        5925.375000\n",
              "2       0         Cash loans  ...    1.626667e+08       18774.224609\n",
              "3       0         Cash loans  ...    2.832133e+10       29129.804688\n",
              "4       1         Cash loans  ...    2.319595e+07          20.205000\n",
              "\n",
              "[5 rows x 371 columns]"
            ]
          },
          "metadata": {
            "tags": []
          },
          "execution_count": 26
        }
      ]
    },
    {
      "cell_type": "code",
      "metadata": {
        "colab": {
          "base_uri": "https://localhost:8080/",
          "height": 333
        },
        "id": "dolnThWdpj8w",
        "outputId": "8c70b556-680c-4e80-bc4a-53190e9a670d"
      },
      "source": [
        "application_train.describe()"
      ],
      "execution_count": null,
      "outputs": [
        {
          "output_type": "execute_result",
          "data": {
            "text/html": [
              "<div>\n",
              "<style scoped>\n",
              "    .dataframe tbody tr th:only-of-type {\n",
              "        vertical-align: middle;\n",
              "    }\n",
              "\n",
              "    .dataframe tbody tr th {\n",
              "        vertical-align: top;\n",
              "    }\n",
              "\n",
              "    .dataframe thead th {\n",
              "        text-align: right;\n",
              "    }\n",
              "</style>\n",
              "<table border=\"1\" class=\"dataframe\">\n",
              "  <thead>\n",
              "    <tr style=\"text-align: right;\">\n",
              "      <th></th>\n",
              "      <th>TARGET</th>\n",
              "      <th>CNT_CHILDREN</th>\n",
              "      <th>AMT_INCOME_TOTAL</th>\n",
              "      <th>AMT_CREDIT</th>\n",
              "      <th>AMT_ANNUITY</th>\n",
              "      <th>AMT_GOODS_PRICE</th>\n",
              "      <th>REGION_POPULATION_RELATIVE</th>\n",
              "      <th>DAYS_BIRTH</th>\n",
              "      <th>DAYS_EMPLOYED</th>\n",
              "      <th>DAYS_REGISTRATION</th>\n",
              "      <th>DAYS_ID_PUBLISH</th>\n",
              "      <th>OWN_CAR_AGE</th>\n",
              "      <th>FLAG_MOBIL</th>\n",
              "      <th>FLAG_EMP_PHONE</th>\n",
              "      <th>FLAG_WORK_PHONE</th>\n",
              "      <th>FLAG_CONT_MOBILE</th>\n",
              "      <th>FLAG_PHONE</th>\n",
              "      <th>FLAG_EMAIL</th>\n",
              "      <th>CNT_FAM_MEMBERS</th>\n",
              "      <th>REGION_RATING_CLIENT</th>\n",
              "      <th>REGION_RATING_CLIENT_W_CITY</th>\n",
              "      <th>HOUR_APPR_PROCESS_START</th>\n",
              "      <th>REG_REGION_NOT_LIVE_REGION</th>\n",
              "      <th>REG_REGION_NOT_WORK_REGION</th>\n",
              "      <th>LIVE_REGION_NOT_WORK_REGION</th>\n",
              "      <th>REG_CITY_NOT_LIVE_CITY</th>\n",
              "      <th>REG_CITY_NOT_WORK_CITY</th>\n",
              "      <th>LIVE_CITY_NOT_WORK_CITY</th>\n",
              "      <th>EXT_SOURCE_1</th>\n",
              "      <th>EXT_SOURCE_2</th>\n",
              "      <th>EXT_SOURCE_3</th>\n",
              "      <th>APARTMENTS_AVG</th>\n",
              "      <th>BASEMENTAREA_AVG</th>\n",
              "      <th>YEARS_BEGINEXPLUATATION_AVG</th>\n",
              "      <th>YEARS_BUILD_AVG</th>\n",
              "      <th>COMMONAREA_AVG</th>\n",
              "      <th>ELEVATORS_AVG</th>\n",
              "      <th>ENTRANCES_AVG</th>\n",
              "      <th>FLOORSMAX_AVG</th>\n",
              "      <th>FLOORSMIN_AVG</th>\n",
              "      <th>...</th>\n",
              "      <th>SK_DPD_MEAN_y</th>\n",
              "      <th>SK_DPD_MAX_y</th>\n",
              "      <th>SK_DPD_SUM_y</th>\n",
              "      <th>SK_DPD_VAR_y</th>\n",
              "      <th>SK_DPD_MEDIAN_y</th>\n",
              "      <th>SK_DPD_DEF_MEAN_y</th>\n",
              "      <th>SK_DPD_DEF_MAX_y</th>\n",
              "      <th>SK_DPD_DEF_SUM_y</th>\n",
              "      <th>SK_DPD_DEF_VAR_y</th>\n",
              "      <th>SK_DPD_DEF_MEDIAN_y</th>\n",
              "      <th>NUM_INSTALMENT_VERSION_MEAN</th>\n",
              "      <th>NUM_INSTALMENT_VERSION_MAX</th>\n",
              "      <th>NUM_INSTALMENT_VERSION_SUM</th>\n",
              "      <th>NUM_INSTALMENT_VERSION_VAR</th>\n",
              "      <th>NUM_INSTALMENT_VERSION_MEDIAN</th>\n",
              "      <th>NUM_INSTALMENT_NUMBER_MEAN</th>\n",
              "      <th>NUM_INSTALMENT_NUMBER_MAX</th>\n",
              "      <th>NUM_INSTALMENT_NUMBER_SUM</th>\n",
              "      <th>NUM_INSTALMENT_NUMBER_VAR</th>\n",
              "      <th>NUM_INSTALMENT_NUMBER_MEDIAN</th>\n",
              "      <th>DAYS_INSTALMENT_MEAN</th>\n",
              "      <th>DAYS_INSTALMENT_MAX</th>\n",
              "      <th>DAYS_INSTALMENT_SUM</th>\n",
              "      <th>DAYS_INSTALMENT_VAR</th>\n",
              "      <th>DAYS_INSTALMENT_MEDIAN</th>\n",
              "      <th>DAYS_ENTRY_PAYMENT_MEAN</th>\n",
              "      <th>DAYS_ENTRY_PAYMENT_MAX</th>\n",
              "      <th>DAYS_ENTRY_PAYMENT_SUM</th>\n",
              "      <th>DAYS_ENTRY_PAYMENT_VAR</th>\n",
              "      <th>DAYS_ENTRY_PAYMENT_MEDIAN</th>\n",
              "      <th>AMT_INSTALMENT_MEAN</th>\n",
              "      <th>AMT_INSTALMENT_MAX</th>\n",
              "      <th>AMT_INSTALMENT_SUM</th>\n",
              "      <th>AMT_INSTALMENT_VAR</th>\n",
              "      <th>AMT_INSTALMENT_MEDIAN</th>\n",
              "      <th>AMT_PAYMENT_MEAN</th>\n",
              "      <th>AMT_PAYMENT_MAX</th>\n",
              "      <th>AMT_PAYMENT_SUM</th>\n",
              "      <th>AMT_PAYMENT_VAR</th>\n",
              "      <th>AMT_PAYMENT_MEDIAN</th>\n",
              "    </tr>\n",
              "  </thead>\n",
              "  <tbody>\n",
              "    <tr>\n",
              "      <th>count</th>\n",
              "      <td>199882.000000</td>\n",
              "      <td>199882.000000</td>\n",
              "      <td>1.998820e+05</td>\n",
              "      <td>1.998820e+05</td>\n",
              "      <td>199872.000000</td>\n",
              "      <td>1.996970e+05</td>\n",
              "      <td>199882.000000</td>\n",
              "      <td>199882.000000</td>\n",
              "      <td>199882.000000</td>\n",
              "      <td>199882.0</td>\n",
              "      <td>199882.000000</td>\n",
              "      <td>68068.0</td>\n",
              "      <td>199882.0</td>\n",
              "      <td>199882.000000</td>\n",
              "      <td>199882.000000</td>\n",
              "      <td>199882.000000</td>\n",
              "      <td>199882.000000</td>\n",
              "      <td>199882.000000</td>\n",
              "      <td>199881.0</td>\n",
              "      <td>199882.000000</td>\n",
              "      <td>199882.000000</td>\n",
              "      <td>199882.000000</td>\n",
              "      <td>199882.000000</td>\n",
              "      <td>199882.000000</td>\n",
              "      <td>199882.000000</td>\n",
              "      <td>199882.000000</td>\n",
              "      <td>199882.000000</td>\n",
              "      <td>199882.000000</td>\n",
              "      <td>87079.000000</td>\n",
              "      <td>1.994560e+05</td>\n",
              "      <td>160226.000000</td>\n",
              "      <td>98267.000000</td>\n",
              "      <td>82771.000000</td>\n",
              "      <td>102235.000000</td>\n",
              "      <td>66816.000000</td>\n",
              "      <td>60065.000000</td>\n",
              "      <td>93168.000000</td>\n",
              "      <td>99131.000000</td>\n",
              "      <td>100256.000000</td>\n",
              "      <td>64099.000000</td>\n",
              "      <td>...</td>\n",
              "      <td>188111.000000</td>\n",
              "      <td>188111.000000</td>\n",
              "      <td>188111.000000</td>\n",
              "      <td>1.878810e+05</td>\n",
              "      <td>188111.000000</td>\n",
              "      <td>188111.000000</td>\n",
              "      <td>188111.000000</td>\n",
              "      <td>188111.000000</td>\n",
              "      <td>1.878810e+05</td>\n",
              "      <td>188111.000000</td>\n",
              "      <td>189576.000000</td>\n",
              "      <td>189576.0</td>\n",
              "      <td>189576.0</td>\n",
              "      <td>189123.000000</td>\n",
              "      <td>189576.0</td>\n",
              "      <td>189576.000000</td>\n",
              "      <td>189576.000000</td>\n",
              "      <td>189576.000000</td>\n",
              "      <td>189123.000000</td>\n",
              "      <td>189576.000000</td>\n",
              "      <td>189576.00</td>\n",
              "      <td>189576.0</td>\n",
              "      <td>189576.0</td>\n",
              "      <td>189123.0</td>\n",
              "      <td>189576.0</td>\n",
              "      <td>189570.0</td>\n",
              "      <td>189570.0</td>\n",
              "      <td>189576.0</td>\n",
              "      <td>189119.0</td>\n",
              "      <td>189570.0</td>\n",
              "      <td>1.895760e+05</td>\n",
              "      <td>1.895760e+05</td>\n",
              "      <td>1.895760e+05</td>\n",
              "      <td>1.891230e+05</td>\n",
              "      <td>1.895760e+05</td>\n",
              "      <td>1.895700e+05</td>\n",
              "      <td>1.895700e+05</td>\n",
              "      <td>1.895760e+05</td>\n",
              "      <td>1.891190e+05</td>\n",
              "      <td>1.895700e+05</td>\n",
              "    </tr>\n",
              "    <tr>\n",
              "      <th>mean</th>\n",
              "      <td>0.081203</td>\n",
              "      <td>0.419447</td>\n",
              "      <td>1.687525e+05</td>\n",
              "      <td>5.996481e+05</td>\n",
              "      <td>27144.953125</td>\n",
              "      <td>5.389723e+05</td>\n",
              "      <td>0.020920</td>\n",
              "      <td>-16026.845549</td>\n",
              "      <td>63590.955214</td>\n",
              "      <td>NaN</td>\n",
              "      <td>-2992.801198</td>\n",
              "      <td>NaN</td>\n",
              "      <td>1.0</td>\n",
              "      <td>0.820514</td>\n",
              "      <td>0.199323</td>\n",
              "      <td>0.998124</td>\n",
              "      <td>0.281121</td>\n",
              "      <td>0.056518</td>\n",
              "      <td>NaN</td>\n",
              "      <td>2.051185</td>\n",
              "      <td>2.030393</td>\n",
              "      <td>12.057679</td>\n",
              "      <td>0.015149</td>\n",
              "      <td>0.051165</td>\n",
              "      <td>0.040914</td>\n",
              "      <td>0.078531</td>\n",
              "      <td>0.231006</td>\n",
              "      <td>0.179491</td>\n",
              "      <td>0.502930</td>\n",
              "      <td>NaN</td>\n",
              "      <td>NaN</td>\n",
              "      <td>0.117493</td>\n",
              "      <td>0.088684</td>\n",
              "      <td>NaN</td>\n",
              "      <td>0.752441</td>\n",
              "      <td>0.044708</td>\n",
              "      <td>0.078857</td>\n",
              "      <td>0.149780</td>\n",
              "      <td>0.226318</td>\n",
              "      <td>0.232300</td>\n",
              "      <td>...</td>\n",
              "      <td>4.468214</td>\n",
              "      <td>15.786828</td>\n",
              "      <td>357.300955</td>\n",
              "      <td>2.273129e+03</td>\n",
              "      <td>3.267930</td>\n",
              "      <td>0.226992</td>\n",
              "      <td>1.490466</td>\n",
              "      <td>18.271324</td>\n",
              "      <td>9.516869e+01</td>\n",
              "      <td>0.145212</td>\n",
              "      <td>NaN</td>\n",
              "      <td>NaN</td>\n",
              "      <td>NaN</td>\n",
              "      <td>NaN</td>\n",
              "      <td>NaN</td>\n",
              "      <td>9.759363</td>\n",
              "      <td>24.389654</td>\n",
              "      <td>743.529962</td>\n",
              "      <td>123.473948</td>\n",
              "      <td>8.645984</td>\n",
              "      <td>NaN</td>\n",
              "      <td>NaN</td>\n",
              "      <td>NaN</td>\n",
              "      <td>NaN</td>\n",
              "      <td>NaN</td>\n",
              "      <td>NaN</td>\n",
              "      <td>NaN</td>\n",
              "      <td>NaN</td>\n",
              "      <td>NaN</td>\n",
              "      <td>NaN</td>\n",
              "      <td>1.837561e+04</td>\n",
              "      <td>1.358354e+05</td>\n",
              "      <td>6.708581e+05</td>\n",
              "      <td>2.607405e+09</td>\n",
              "      <td>1.279367e+04</td>\n",
              "      <td>1.872921e+04</td>\n",
              "      <td>1.376612e+05</td>\n",
              "      <td>6.769496e+05</td>\n",
              "      <td>2.954894e+09</td>\n",
              "      <td>1.253979e+04</td>\n",
              "    </tr>\n",
              "    <tr>\n",
              "      <th>std</th>\n",
              "      <td>0.273147</td>\n",
              "      <td>0.726197</td>\n",
              "      <td>1.066232e+05</td>\n",
              "      <td>4.025896e+05</td>\n",
              "      <td>14584.699219</td>\n",
              "      <td>3.697378e+05</td>\n",
              "      <td>0.013863</td>\n",
              "      <td>4363.761714</td>\n",
              "      <td>141083.570901</td>\n",
              "      <td>NaN</td>\n",
              "      <td>1507.620138</td>\n",
              "      <td>0.0</td>\n",
              "      <td>0.0</td>\n",
              "      <td>0.383760</td>\n",
              "      <td>0.399492</td>\n",
              "      <td>0.043274</td>\n",
              "      <td>0.449547</td>\n",
              "      <td>0.230921</td>\n",
              "      <td>0.0</td>\n",
              "      <td>0.509039</td>\n",
              "      <td>0.502934</td>\n",
              "      <td>3.265905</td>\n",
              "      <td>0.122145</td>\n",
              "      <td>0.220335</td>\n",
              "      <td>0.198092</td>\n",
              "      <td>0.269007</td>\n",
              "      <td>0.421477</td>\n",
              "      <td>0.383764</td>\n",
              "      <td>0.211182</td>\n",
              "      <td>0.000000e+00</td>\n",
              "      <td>0.000000</td>\n",
              "      <td>0.107483</td>\n",
              "      <td>0.082520</td>\n",
              "      <td>0.000000</td>\n",
              "      <td>0.112732</td>\n",
              "      <td>0.076172</td>\n",
              "      <td>0.134521</td>\n",
              "      <td>0.099976</td>\n",
              "      <td>0.144287</td>\n",
              "      <td>0.161255</td>\n",
              "      <td>...</td>\n",
              "      <td>61.164153</td>\n",
              "      <td>154.441587</td>\n",
              "      <td>5743.395517</td>\n",
              "      <td>3.485424e+04</td>\n",
              "      <td>57.937556</td>\n",
              "      <td>13.707611</td>\n",
              "      <td>31.672685</td>\n",
              "      <td>1445.190020</td>\n",
              "      <td>8.383800e+03</td>\n",
              "      <td>13.196299</td>\n",
              "      <td>0.000000</td>\n",
              "      <td>0.0</td>\n",
              "      <td>NaN</td>\n",
              "      <td>NaN</td>\n",
              "      <td>0.0</td>\n",
              "      <td>11.266113</td>\n",
              "      <td>30.056803</td>\n",
              "      <td>1868.304122</td>\n",
              "      <td>346.779968</td>\n",
              "      <td>10.255763</td>\n",
              "      <td>NaN</td>\n",
              "      <td>NaN</td>\n",
              "      <td>NaN</td>\n",
              "      <td>NaN</td>\n",
              "      <td>NaN</td>\n",
              "      <td>NaN</td>\n",
              "      <td>NaN</td>\n",
              "      <td>NaN</td>\n",
              "      <td>NaN</td>\n",
              "      <td>NaN</td>\n",
              "      <td>2.313361e+04</td>\n",
              "      <td>2.449020e+05</td>\n",
              "      <td>8.773048e+05</td>\n",
              "      <td>1.690077e+10</td>\n",
              "      <td>1.715081e+04</td>\n",
              "      <td>2.489991e+04</td>\n",
              "      <td>2.471615e+05</td>\n",
              "      <td>9.129189e+05</td>\n",
              "      <td>1.779461e+10</td>\n",
              "      <td>1.779384e+04</td>\n",
              "    </tr>\n",
              "    <tr>\n",
              "      <th>min</th>\n",
              "      <td>0.000000</td>\n",
              "      <td>0.000000</td>\n",
              "      <td>2.565000e+04</td>\n",
              "      <td>4.500000e+04</td>\n",
              "      <td>1615.500000</td>\n",
              "      <td>4.050000e+04</td>\n",
              "      <td>0.000290</td>\n",
              "      <td>-25229.000000</td>\n",
              "      <td>-17912.000000</td>\n",
              "      <td>-24672.0</td>\n",
              "      <td>-7197.000000</td>\n",
              "      <td>0.0</td>\n",
              "      <td>1.0</td>\n",
              "      <td>0.000000</td>\n",
              "      <td>0.000000</td>\n",
              "      <td>0.000000</td>\n",
              "      <td>0.000000</td>\n",
              "      <td>0.000000</td>\n",
              "      <td>1.0</td>\n",
              "      <td>1.000000</td>\n",
              "      <td>1.000000</td>\n",
              "      <td>0.000000</td>\n",
              "      <td>0.000000</td>\n",
              "      <td>0.000000</td>\n",
              "      <td>0.000000</td>\n",
              "      <td>0.000000</td>\n",
              "      <td>0.000000</td>\n",
              "      <td>0.000000</td>\n",
              "      <td>0.014565</td>\n",
              "      <td>5.960464e-08</td>\n",
              "      <td>0.000527</td>\n",
              "      <td>0.000000</td>\n",
              "      <td>0.000000</td>\n",
              "      <td>0.000000</td>\n",
              "      <td>0.000000</td>\n",
              "      <td>0.000000</td>\n",
              "      <td>0.000000</td>\n",
              "      <td>0.000000</td>\n",
              "      <td>0.000000</td>\n",
              "      <td>0.000000</td>\n",
              "      <td>...</td>\n",
              "      <td>0.000000</td>\n",
              "      <td>0.000000</td>\n",
              "      <td>0.000000</td>\n",
              "      <td>0.000000e+00</td>\n",
              "      <td>0.000000</td>\n",
              "      <td>0.000000</td>\n",
              "      <td>0.000000</td>\n",
              "      <td>0.000000</td>\n",
              "      <td>0.000000e+00</td>\n",
              "      <td>0.000000</td>\n",
              "      <td>0.000000</td>\n",
              "      <td>0.0</td>\n",
              "      <td>0.0</td>\n",
              "      <td>0.000000</td>\n",
              "      <td>0.0</td>\n",
              "      <td>1.000000</td>\n",
              "      <td>1.000000</td>\n",
              "      <td>1.000000</td>\n",
              "      <td>0.000000</td>\n",
              "      <td>1.000000</td>\n",
              "      <td>-2922.00</td>\n",
              "      <td>-2922.0</td>\n",
              "      <td>-inf</td>\n",
              "      <td>0.0</td>\n",
              "      <td>-2922.0</td>\n",
              "      <td>-2950.0</td>\n",
              "      <td>-2948.0</td>\n",
              "      <td>-inf</td>\n",
              "      <td>0.0</td>\n",
              "      <td>-3000.0</td>\n",
              "      <td>0.000000e+00</td>\n",
              "      <td>0.000000e+00</td>\n",
              "      <td>0.000000e+00</td>\n",
              "      <td>0.000000e+00</td>\n",
              "      <td>0.000000e+00</td>\n",
              "      <td>4.275000e+00</td>\n",
              "      <td>4.275000e+00</td>\n",
              "      <td>0.000000e+00</td>\n",
              "      <td>0.000000e+00</td>\n",
              "      <td>4.500000e-02</td>\n",
              "    </tr>\n",
              "    <tr>\n",
              "      <th>25%</th>\n",
              "      <td>0.000000</td>\n",
              "      <td>0.000000</td>\n",
              "      <td>1.125000e+05</td>\n",
              "      <td>2.700000e+05</td>\n",
              "      <td>16524.000000</td>\n",
              "      <td>2.385000e+05</td>\n",
              "      <td>0.010010</td>\n",
              "      <td>-19670.000000</td>\n",
              "      <td>-2761.000000</td>\n",
              "      <td>-7468.0</td>\n",
              "      <td>-4296.000000</td>\n",
              "      <td>5.0</td>\n",
              "      <td>1.0</td>\n",
              "      <td>1.000000</td>\n",
              "      <td>0.000000</td>\n",
              "      <td>1.000000</td>\n",
              "      <td>0.000000</td>\n",
              "      <td>0.000000</td>\n",
              "      <td>2.0</td>\n",
              "      <td>2.000000</td>\n",
              "      <td>2.000000</td>\n",
              "      <td>10.000000</td>\n",
              "      <td>0.000000</td>\n",
              "      <td>0.000000</td>\n",
              "      <td>0.000000</td>\n",
              "      <td>0.000000</td>\n",
              "      <td>0.000000</td>\n",
              "      <td>0.000000</td>\n",
              "      <td>0.334717</td>\n",
              "      <td>3.930664e-01</td>\n",
              "      <td>0.370605</td>\n",
              "      <td>0.057709</td>\n",
              "      <td>0.044495</td>\n",
              "      <td>0.976562</td>\n",
              "      <td>0.687012</td>\n",
              "      <td>0.007896</td>\n",
              "      <td>0.000000</td>\n",
              "      <td>0.068970</td>\n",
              "      <td>0.166748</td>\n",
              "      <td>0.083313</td>\n",
              "      <td>...</td>\n",
              "      <td>0.000000</td>\n",
              "      <td>0.000000</td>\n",
              "      <td>0.000000</td>\n",
              "      <td>0.000000e+00</td>\n",
              "      <td>0.000000</td>\n",
              "      <td>0.000000</td>\n",
              "      <td>0.000000</td>\n",
              "      <td>0.000000</td>\n",
              "      <td>0.000000e+00</td>\n",
              "      <td>0.000000</td>\n",
              "      <td>1.000000</td>\n",
              "      <td>1.0</td>\n",
              "      <td>12.0</td>\n",
              "      <td>0.000000</td>\n",
              "      <td>1.0</td>\n",
              "      <td>4.562500</td>\n",
              "      <td>10.000000</td>\n",
              "      <td>62.000000</td>\n",
              "      <td>7.183536</td>\n",
              "      <td>4.000000</td>\n",
              "      <td>-1303.00</td>\n",
              "      <td>-374.0</td>\n",
              "      <td>-48768.0</td>\n",
              "      <td>11728.0</td>\n",
              "      <td>-1298.0</td>\n",
              "      <td>-1313.0</td>\n",
              "      <td>-385.0</td>\n",
              "      <td>-49216.0</td>\n",
              "      <td>12528.0</td>\n",
              "      <td>-1309.0</td>\n",
              "      <td>7.805075e+03</td>\n",
              "      <td>1.400245e+04</td>\n",
              "      <td>1.347657e+05</td>\n",
              "      <td>4.672340e+06</td>\n",
              "      <td>5.793986e+03</td>\n",
              "      <td>7.485872e+03</td>\n",
              "      <td>1.408448e+04</td>\n",
              "      <td>1.309475e+05</td>\n",
              "      <td>8.580590e+06</td>\n",
              "      <td>5.591655e+03</td>\n",
              "    </tr>\n",
              "    <tr>\n",
              "      <th>50%</th>\n",
              "      <td>0.000000</td>\n",
              "      <td>0.000000</td>\n",
              "      <td>1.485000e+05</td>\n",
              "      <td>5.172660e+05</td>\n",
              "      <td>24912.000000</td>\n",
              "      <td>4.500000e+05</td>\n",
              "      <td>0.018845</td>\n",
              "      <td>-15738.000000</td>\n",
              "      <td>-1215.000000</td>\n",
              "      <td>-4508.0</td>\n",
              "      <td>-3247.000000</td>\n",
              "      <td>9.0</td>\n",
              "      <td>1.0</td>\n",
              "      <td>1.000000</td>\n",
              "      <td>0.000000</td>\n",
              "      <td>1.000000</td>\n",
              "      <td>0.000000</td>\n",
              "      <td>0.000000</td>\n",
              "      <td>2.0</td>\n",
              "      <td>2.000000</td>\n",
              "      <td>2.000000</td>\n",
              "      <td>12.000000</td>\n",
              "      <td>0.000000</td>\n",
              "      <td>0.000000</td>\n",
              "      <td>0.000000</td>\n",
              "      <td>0.000000</td>\n",
              "      <td>0.000000</td>\n",
              "      <td>0.000000</td>\n",
              "      <td>0.506836</td>\n",
              "      <td>5.659180e-01</td>\n",
              "      <td>0.535156</td>\n",
              "      <td>0.087585</td>\n",
              "      <td>0.076416</td>\n",
              "      <td>0.981445</td>\n",
              "      <td>0.755371</td>\n",
              "      <td>0.021103</td>\n",
              "      <td>0.000000</td>\n",
              "      <td>0.137939</td>\n",
              "      <td>0.166748</td>\n",
              "      <td>0.208252</td>\n",
              "      <td>...</td>\n",
              "      <td>0.000000</td>\n",
              "      <td>0.000000</td>\n",
              "      <td>0.000000</td>\n",
              "      <td>0.000000e+00</td>\n",
              "      <td>0.000000</td>\n",
              "      <td>0.000000</td>\n",
              "      <td>0.000000</td>\n",
              "      <td>0.000000</td>\n",
              "      <td>0.000000e+00</td>\n",
              "      <td>0.000000</td>\n",
              "      <td>1.016602</td>\n",
              "      <td>2.0</td>\n",
              "      <td>23.0</td>\n",
              "      <td>0.076416</td>\n",
              "      <td>1.0</td>\n",
              "      <td>6.045455</td>\n",
              "      <td>12.000000</td>\n",
              "      <td>155.000000</td>\n",
              "      <td>12.247748</td>\n",
              "      <td>6.000000</td>\n",
              "      <td>-795.50</td>\n",
              "      <td>-49.0</td>\n",
              "      <td>-20816.0</td>\n",
              "      <td>NaN</td>\n",
              "      <td>-666.0</td>\n",
              "      <td>-807.0</td>\n",
              "      <td>-66.0</td>\n",
              "      <td>-21104.0</td>\n",
              "      <td>NaN</td>\n",
              "      <td>-677.5</td>\n",
              "      <td>1.255602e+04</td>\n",
              "      <td>3.527505e+04</td>\n",
              "      <td>3.273489e+05</td>\n",
              "      <td>5.948734e+07</td>\n",
              "      <td>9.353970e+03</td>\n",
              "      <td>1.220558e+04</td>\n",
              "      <td>3.593927e+04</td>\n",
              "      <td>3.176787e+05</td>\n",
              "      <td>6.927303e+07</td>\n",
              "      <td>9.005062e+03</td>\n",
              "    </tr>\n",
              "    <tr>\n",
              "      <th>75%</th>\n",
              "      <td>0.000000</td>\n",
              "      <td>1.000000</td>\n",
              "      <td>2.025000e+05</td>\n",
              "      <td>8.086500e+05</td>\n",
              "      <td>34654.500000</td>\n",
              "      <td>6.795000e+05</td>\n",
              "      <td>0.028656</td>\n",
              "      <td>-12396.000000</td>\n",
              "      <td>-290.000000</td>\n",
              "      <td>-2016.0</td>\n",
              "      <td>-1720.000000</td>\n",
              "      <td>15.0</td>\n",
              "      <td>1.0</td>\n",
              "      <td>1.000000</td>\n",
              "      <td>0.000000</td>\n",
              "      <td>1.000000</td>\n",
              "      <td>1.000000</td>\n",
              "      <td>0.000000</td>\n",
              "      <td>3.0</td>\n",
              "      <td>2.000000</td>\n",
              "      <td>2.000000</td>\n",
              "      <td>14.000000</td>\n",
              "      <td>0.000000</td>\n",
              "      <td>0.000000</td>\n",
              "      <td>0.000000</td>\n",
              "      <td>0.000000</td>\n",
              "      <td>0.000000</td>\n",
              "      <td>0.000000</td>\n",
              "      <td>0.676270</td>\n",
              "      <td>6.635742e-01</td>\n",
              "      <td>0.668945</td>\n",
              "      <td>0.148560</td>\n",
              "      <td>0.112122</td>\n",
              "      <td>0.986816</td>\n",
              "      <td>0.823242</td>\n",
              "      <td>0.051514</td>\n",
              "      <td>0.119995</td>\n",
              "      <td>0.206909</td>\n",
              "      <td>0.333252</td>\n",
              "      <td>0.375000</td>\n",
              "      <td>...</td>\n",
              "      <td>0.000000</td>\n",
              "      <td>0.000000</td>\n",
              "      <td>0.000000</td>\n",
              "      <td>0.000000e+00</td>\n",
              "      <td>0.000000</td>\n",
              "      <td>0.000000</td>\n",
              "      <td>0.000000</td>\n",
              "      <td>0.000000</td>\n",
              "      <td>0.000000e+00</td>\n",
              "      <td>0.000000</td>\n",
              "      <td>1.111328</td>\n",
              "      <td>2.0</td>\n",
              "      <td>43.0</td>\n",
              "      <td>0.247559</td>\n",
              "      <td>1.0</td>\n",
              "      <td>9.417769</td>\n",
              "      <td>24.000000</td>\n",
              "      <td>430.000000</td>\n",
              "      <td>40.391156</td>\n",
              "      <td>8.000000</td>\n",
              "      <td>-418.25</td>\n",
              "      <td>-18.0</td>\n",
              "      <td>-6592.0</td>\n",
              "      <td>inf</td>\n",
              "      <td>-352.0</td>\n",
              "      <td>-431.0</td>\n",
              "      <td>-26.0</td>\n",
              "      <td>-6796.0</td>\n",
              "      <td>inf</td>\n",
              "      <td>-364.0</td>\n",
              "      <td>2.137916e+04</td>\n",
              "      <td>1.294232e+05</td>\n",
              "      <td>8.415628e+05</td>\n",
              "      <td>5.637078e+08</td>\n",
              "      <td>1.525475e+04</td>\n",
              "      <td>2.136579e+04</td>\n",
              "      <td>1.321208e+05</td>\n",
              "      <td>8.311668e+05</td>\n",
              "      <td>6.259064e+08</td>\n",
              "      <td>1.476946e+04</td>\n",
              "    </tr>\n",
              "    <tr>\n",
              "      <th>max</th>\n",
              "      <td>1.000000</td>\n",
              "      <td>19.000000</td>\n",
              "      <td>1.350000e+07</td>\n",
              "      <td>4.050000e+06</td>\n",
              "      <td>258025.500000</td>\n",
              "      <td>4.050000e+06</td>\n",
              "      <td>0.072510</td>\n",
              "      <td>-7673.000000</td>\n",
              "      <td>365243.000000</td>\n",
              "      <td>0.0</td>\n",
              "      <td>0.000000</td>\n",
              "      <td>91.0</td>\n",
              "      <td>1.0</td>\n",
              "      <td>1.000000</td>\n",
              "      <td>1.000000</td>\n",
              "      <td>1.000000</td>\n",
              "      <td>1.000000</td>\n",
              "      <td>1.000000</td>\n",
              "      <td>20.0</td>\n",
              "      <td>3.000000</td>\n",
              "      <td>3.000000</td>\n",
              "      <td>23.000000</td>\n",
              "      <td>1.000000</td>\n",
              "      <td>1.000000</td>\n",
              "      <td>1.000000</td>\n",
              "      <td>1.000000</td>\n",
              "      <td>1.000000</td>\n",
              "      <td>1.000000</td>\n",
              "      <td>0.947754</td>\n",
              "      <td>8.549805e-01</td>\n",
              "      <td>0.894043</td>\n",
              "      <td>1.000000</td>\n",
              "      <td>1.000000</td>\n",
              "      <td>1.000000</td>\n",
              "      <td>1.000000</td>\n",
              "      <td>1.000000</td>\n",
              "      <td>1.000000</td>\n",
              "      <td>1.000000</td>\n",
              "      <td>1.000000</td>\n",
              "      <td>1.000000</td>\n",
              "      <td>...</td>\n",
              "      <td>2356.926829</td>\n",
              "      <td>4050.000000</td>\n",
              "      <td>249991.000000</td>\n",
              "      <td>1.833024e+06</td>\n",
              "      <td>2452.500000</td>\n",
              "      <td>1740.554455</td>\n",
              "      <td>3373.000000</td>\n",
              "      <td>184970.000000</td>\n",
              "      <td>1.151706e+06</td>\n",
              "      <td>1755.000000</td>\n",
              "      <td>39.000000</td>\n",
              "      <td>68.0</td>\n",
              "      <td>1395.0</td>\n",
              "      <td>268.000000</td>\n",
              "      <td>39.0</td>\n",
              "      <td>130.549296</td>\n",
              "      <td>277.000000</td>\n",
              "      <td>41371.000000</td>\n",
              "      <td>7549.267245</td>\n",
              "      <td>130.000000</td>\n",
              "      <td>-3.00</td>\n",
              "      <td>-2.0</td>\n",
              "      <td>-3.0</td>\n",
              "      <td>inf</td>\n",
              "      <td>-3.0</td>\n",
              "      <td>-3.0</td>\n",
              "      <td>-2.0</td>\n",
              "      <td>0.0</td>\n",
              "      <td>inf</td>\n",
              "      <td>-3.0</td>\n",
              "      <td>2.291331e+06</td>\n",
              "      <td>3.771488e+06</td>\n",
              "      <td>1.694176e+07</td>\n",
              "      <td>2.436698e+12</td>\n",
              "      <td>2.291331e+06</td>\n",
              "      <td>2.291331e+06</td>\n",
              "      <td>3.771488e+06</td>\n",
              "      <td>1.678127e+07</td>\n",
              "      <td>2.436698e+12</td>\n",
              "      <td>2.291331e+06</td>\n",
              "    </tr>\n",
              "  </tbody>\n",
              "</table>\n",
              "<p>8 rows × 355 columns</p>\n",
              "</div>"
            ],
            "text/plain": [
              "              TARGET   CNT_CHILDREN  ...  AMT_PAYMENT_VAR  AMT_PAYMENT_MEDIAN\n",
              "count  199882.000000  199882.000000  ...     1.891190e+05        1.895700e+05\n",
              "mean        0.081203       0.419447  ...     2.954894e+09        1.253979e+04\n",
              "std         0.273147       0.726197  ...     1.779461e+10        1.779384e+04\n",
              "min         0.000000       0.000000  ...     0.000000e+00        4.500000e-02\n",
              "25%         0.000000       0.000000  ...     8.580590e+06        5.591655e+03\n",
              "50%         0.000000       0.000000  ...     6.927303e+07        9.005062e+03\n",
              "75%         0.000000       1.000000  ...     6.259064e+08        1.476946e+04\n",
              "max         1.000000      19.000000  ...     2.436698e+12        2.291331e+06\n",
              "\n",
              "[8 rows x 355 columns]"
            ]
          },
          "metadata": {
            "tags": []
          },
          "execution_count": 27
        }
      ]
    },
    {
      "cell_type": "code",
      "metadata": {
        "id": "cKDMVqu2k2dR"
      },
      "source": [
        "application_train=application_train.replace(np.inf, np.nan)\r\n",
        "application_train=application_train.replace(-np.inf, np.nan)"
      ],
      "execution_count": null,
      "outputs": []
    },
    {
      "cell_type": "code",
      "metadata": {
        "id": "ZwGeJ4-TlCyE"
      },
      "source": [
        "application_test=application_test.replace(np.inf, np.nan)\r\n",
        "application_test=application_test.replace(-np.inf, np.nan)"
      ],
      "execution_count": null,
      "outputs": []
    },
    {
      "cell_type": "code",
      "metadata": {
        "id": "b0KADSr2lONu"
      },
      "source": [
        "application_train_final = application_train.copy()\r\n",
        "application_test_final = application_test.copy()"
      ],
      "execution_count": null,
      "outputs": []
    },
    {
      "cell_type": "code",
      "metadata": {
        "id": "ICmSZXyUopeJ"
      },
      "source": [
        "application_train = application_train_final.copy()\r\n",
        "application_test = application_test_final.copy()"
      ],
      "execution_count": null,
      "outputs": []
    },
    {
      "cell_type": "code",
      "metadata": {
        "colab": {
          "base_uri": "https://localhost:8080/"
        },
        "id": "0KY6__K7rGR3",
        "outputId": "2fbf5309-cc83-4ada-e150-b8b8b4129585"
      },
      "source": [
        "atCC = getCnamesObject(application_train)\n",
        "print(\"Number of categorical columns in application_train: \", len(atCC), \"\\n\", atCC)\n",
        "\n",
        "atNC = getCnamesNumeric(application_train)\n",
        "print(\"Number of numerical columns in application_train: \", len(atNC), \"\\n\", atNC)\n",
        "\n",
        "atestCC = getCnamesObject(application_test)\n",
        "print(\"Number of categorical columns in application_test: \", len(atestCC), \"\\n\", atestCC)\n",
        "\n",
        "atestNC = getCnamesNumeric(application_test)\n",
        "print(\"Number of numerical columns in application_test: \", len(atestNC), \"\\n\", atestNC)"
      ],
      "execution_count": null,
      "outputs": [
        {
          "output_type": "stream",
          "text": [
            "Number of categorical columns in application_train:  16 \n",
            " ['NAME_CONTRACT_TYPE', 'CODE_GENDER', 'FLAG_OWN_CAR', 'FLAG_OWN_REALTY', 'NAME_TYPE_SUITE', 'NAME_INCOME_TYPE', 'NAME_EDUCATION_TYPE', 'NAME_FAMILY_STATUS', 'NAME_HOUSING_TYPE', 'OCCUPATION_TYPE', 'WEEKDAY_APPR_PROCESS_START', 'ORGANIZATION_TYPE', 'FONDKAPREMONT_MODE', 'HOUSETYPE_MODE', 'WALLSMATERIAL_MODE', 'EMERGENCYSTATE_MODE']\n",
            "Number of numerical columns in application_train:  355 \n",
            " ['TARGET', 'CNT_CHILDREN', 'AMT_INCOME_TOTAL', 'AMT_CREDIT', 'AMT_ANNUITY', 'AMT_GOODS_PRICE', 'REGION_POPULATION_RELATIVE', 'DAYS_BIRTH', 'DAYS_EMPLOYED', 'DAYS_REGISTRATION', 'DAYS_ID_PUBLISH', 'OWN_CAR_AGE', 'FLAG_MOBIL', 'FLAG_EMP_PHONE', 'FLAG_WORK_PHONE', 'FLAG_CONT_MOBILE', 'FLAG_PHONE', 'FLAG_EMAIL', 'CNT_FAM_MEMBERS', 'REGION_RATING_CLIENT', 'REGION_RATING_CLIENT_W_CITY', 'HOUR_APPR_PROCESS_START', 'REG_REGION_NOT_LIVE_REGION', 'REG_REGION_NOT_WORK_REGION', 'LIVE_REGION_NOT_WORK_REGION', 'REG_CITY_NOT_LIVE_CITY', 'REG_CITY_NOT_WORK_CITY', 'LIVE_CITY_NOT_WORK_CITY', 'EXT_SOURCE_1', 'EXT_SOURCE_2', 'EXT_SOURCE_3', 'APARTMENTS_AVG', 'BASEMENTAREA_AVG', 'YEARS_BEGINEXPLUATATION_AVG', 'YEARS_BUILD_AVG', 'COMMONAREA_AVG', 'ELEVATORS_AVG', 'ENTRANCES_AVG', 'FLOORSMAX_AVG', 'FLOORSMIN_AVG', 'LANDAREA_AVG', 'LIVINGAPARTMENTS_AVG', 'LIVINGAREA_AVG', 'NONLIVINGAPARTMENTS_AVG', 'NONLIVINGAREA_AVG', 'APARTMENTS_MODE', 'BASEMENTAREA_MODE', 'YEARS_BEGINEXPLUATATION_MODE', 'YEARS_BUILD_MODE', 'COMMONAREA_MODE', 'ELEVATORS_MODE', 'ENTRANCES_MODE', 'FLOORSMAX_MODE', 'FLOORSMIN_MODE', 'LANDAREA_MODE', 'LIVINGAPARTMENTS_MODE', 'LIVINGAREA_MODE', 'NONLIVINGAPARTMENTS_MODE', 'NONLIVINGAREA_MODE', 'APARTMENTS_MEDI', 'BASEMENTAREA_MEDI', 'YEARS_BEGINEXPLUATATION_MEDI', 'YEARS_BUILD_MEDI', 'COMMONAREA_MEDI', 'ELEVATORS_MEDI', 'ENTRANCES_MEDI', 'FLOORSMAX_MEDI', 'FLOORSMIN_MEDI', 'LANDAREA_MEDI', 'LIVINGAPARTMENTS_MEDI', 'LIVINGAREA_MEDI', 'NONLIVINGAPARTMENTS_MEDI', 'NONLIVINGAREA_MEDI', 'TOTALAREA_MODE', 'OBS_30_CNT_SOCIAL_CIRCLE', 'DEF_30_CNT_SOCIAL_CIRCLE', 'OBS_60_CNT_SOCIAL_CIRCLE', 'DEF_60_CNT_SOCIAL_CIRCLE', 'DAYS_LAST_PHONE_CHANGE', 'FLAG_DOCUMENT_2', 'FLAG_DOCUMENT_3', 'FLAG_DOCUMENT_4', 'FLAG_DOCUMENT_5', 'FLAG_DOCUMENT_6', 'FLAG_DOCUMENT_7', 'FLAG_DOCUMENT_8', 'FLAG_DOCUMENT_9', 'FLAG_DOCUMENT_10', 'FLAG_DOCUMENT_11', 'FLAG_DOCUMENT_12', 'FLAG_DOCUMENT_13', 'FLAG_DOCUMENT_14', 'FLAG_DOCUMENT_15', 'FLAG_DOCUMENT_16', 'FLAG_DOCUMENT_17', 'FLAG_DOCUMENT_18', 'FLAG_DOCUMENT_19', 'FLAG_DOCUMENT_20', 'FLAG_DOCUMENT_21', 'AMT_REQ_CREDIT_BUREAU_HOUR', 'AMT_REQ_CREDIT_BUREAU_DAY', 'AMT_REQ_CREDIT_BUREAU_WEEK', 'AMT_REQ_CREDIT_BUREAU_MON', 'AMT_REQ_CREDIT_BUREAU_QRT', 'AMT_REQ_CREDIT_BUREAU_YEAR', 'AMT_ANNUITY_MEAN', 'AMT_ANNUITY_MAX', 'AMT_ANNUITY_SUM', 'AMT_ANNUITY_VAR', 'AMT_ANNUITY_MEDIAN', 'AMT_APPLICATION_MEAN', 'AMT_APPLICATION_MAX', 'AMT_APPLICATION_SUM', 'AMT_APPLICATION_VAR', 'AMT_APPLICATION_MEDIAN', 'AMT_CREDIT_MEAN', 'AMT_CREDIT_MAX', 'AMT_CREDIT_SUM', 'AMT_CREDIT_VAR', 'AMT_CREDIT_MEDIAN', 'AMT_DOWN_PAYMENT_MEAN', 'AMT_DOWN_PAYMENT_MAX', 'AMT_DOWN_PAYMENT_SUM', 'AMT_DOWN_PAYMENT_VAR', 'AMT_DOWN_PAYMENT_MEDIAN', 'AMT_GOODS_PRICE_MEAN', 'AMT_GOODS_PRICE_MAX', 'AMT_GOODS_PRICE_SUM', 'AMT_GOODS_PRICE_VAR', 'AMT_GOODS_PRICE_MEDIAN', 'HOUR_APPR_PROCESS_START_MEAN', 'HOUR_APPR_PROCESS_START_MAX', 'HOUR_APPR_PROCESS_START_SUM', 'HOUR_APPR_PROCESS_START_VAR', 'HOUR_APPR_PROCESS_START_MEDIAN', 'NFLAG_LAST_APPL_IN_DAY_MEAN', 'NFLAG_LAST_APPL_IN_DAY_MAX', 'NFLAG_LAST_APPL_IN_DAY_SUM', 'NFLAG_LAST_APPL_IN_DAY_VAR', 'NFLAG_LAST_APPL_IN_DAY_MEDIAN', 'RATE_DOWN_PAYMENT_MEAN', 'RATE_DOWN_PAYMENT_MAX', 'RATE_DOWN_PAYMENT_SUM', 'RATE_DOWN_PAYMENT_VAR', 'RATE_DOWN_PAYMENT_MEDIAN', 'RATE_INTEREST_PRIMARY_MEAN', 'RATE_INTEREST_PRIMARY_MAX', 'RATE_INTEREST_PRIMARY_SUM', 'RATE_INTEREST_PRIMARY_VAR', 'RATE_INTEREST_PRIMARY_MEDIAN', 'RATE_INTEREST_PRIVILEGED_MEAN', 'RATE_INTEREST_PRIVILEGED_MAX', 'RATE_INTEREST_PRIVILEGED_SUM', 'RATE_INTEREST_PRIVILEGED_VAR', 'RATE_INTEREST_PRIVILEGED_MEDIAN', 'DAYS_DECISION_MEAN', 'DAYS_DECISION_MAX', 'DAYS_DECISION_SUM', 'DAYS_DECISION_VAR', 'DAYS_DECISION_MEDIAN', 'SELLERPLACE_AREA_MEAN', 'SELLERPLACE_AREA_MAX', 'SELLERPLACE_AREA_SUM', 'SELLERPLACE_AREA_VAR', 'SELLERPLACE_AREA_MEDIAN', 'CNT_PAYMENT_MEAN', 'CNT_PAYMENT_MAX', 'CNT_PAYMENT_SUM', 'CNT_PAYMENT_VAR', 'CNT_PAYMENT_MEDIAN', 'DAYS_FIRST_DRAWING_MEAN', 'DAYS_FIRST_DRAWING_MAX', 'DAYS_FIRST_DRAWING_SUM', 'DAYS_FIRST_DRAWING_VAR', 'DAYS_FIRST_DRAWING_MEDIAN', 'DAYS_FIRST_DUE_MEAN', 'DAYS_FIRST_DUE_MAX', 'DAYS_FIRST_DUE_SUM', 'DAYS_FIRST_DUE_VAR', 'DAYS_FIRST_DUE_MEDIAN', 'DAYS_LAST_DUE_1ST_VERSION_MEAN', 'DAYS_LAST_DUE_1ST_VERSION_MAX', 'DAYS_LAST_DUE_1ST_VERSION_SUM', 'DAYS_LAST_DUE_1ST_VERSION_VAR', 'DAYS_LAST_DUE_1ST_VERSION_MEDIAN', 'DAYS_LAST_DUE_MEAN', 'DAYS_LAST_DUE_MAX', 'DAYS_LAST_DUE_SUM', 'DAYS_LAST_DUE_VAR', 'DAYS_LAST_DUE_MEDIAN', 'DAYS_TERMINATION_MEAN', 'DAYS_TERMINATION_MAX', 'DAYS_TERMINATION_SUM', 'DAYS_TERMINATION_VAR', 'DAYS_TERMINATION_MEDIAN', 'NFLAG_INSURED_ON_APPROVAL_MEAN', 'NFLAG_INSURED_ON_APPROVAL_MAX', 'NFLAG_INSURED_ON_APPROVAL_SUM', 'NFLAG_INSURED_ON_APPROVAL_VAR', 'NFLAG_INSURED_ON_APPROVAL_MEDIAN', 'MONTHS_BALANCE_MEAN_x', 'MONTHS_BALANCE_MAX_x', 'MONTHS_BALANCE_SUM_x', 'MONTHS_BALANCE_VAR_x', 'MONTHS_BALANCE_MEDIAN_x', 'AMT_BALANCE_MEAN', 'AMT_BALANCE_MAX', 'AMT_BALANCE_SUM', 'AMT_BALANCE_VAR', 'AMT_BALANCE_MEDIAN', 'AMT_CREDIT_LIMIT_ACTUAL_MEAN', 'AMT_CREDIT_LIMIT_ACTUAL_MAX', 'AMT_CREDIT_LIMIT_ACTUAL_SUM', 'AMT_CREDIT_LIMIT_ACTUAL_VAR', 'AMT_CREDIT_LIMIT_ACTUAL_MEDIAN', 'AMT_DRAWINGS_ATM_CURRENT_MEAN', 'AMT_DRAWINGS_ATM_CURRENT_MAX', 'AMT_DRAWINGS_ATM_CURRENT_SUM', 'AMT_DRAWINGS_ATM_CURRENT_VAR', 'AMT_DRAWINGS_ATM_CURRENT_MEDIAN', 'AMT_DRAWINGS_CURRENT_MEAN', 'AMT_DRAWINGS_CURRENT_MAX', 'AMT_DRAWINGS_CURRENT_SUM', 'AMT_DRAWINGS_CURRENT_VAR', 'AMT_DRAWINGS_CURRENT_MEDIAN', 'AMT_DRAWINGS_OTHER_CURRENT_MEAN', 'AMT_DRAWINGS_OTHER_CURRENT_MAX', 'AMT_DRAWINGS_OTHER_CURRENT_SUM', 'AMT_DRAWINGS_OTHER_CURRENT_VAR', 'AMT_DRAWINGS_OTHER_CURRENT_MEDIAN', 'AMT_DRAWINGS_POS_CURRENT_MEAN', 'AMT_DRAWINGS_POS_CURRENT_MAX', 'AMT_DRAWINGS_POS_CURRENT_SUM', 'AMT_DRAWINGS_POS_CURRENT_VAR', 'AMT_DRAWINGS_POS_CURRENT_MEDIAN', 'AMT_INST_MIN_REGULARITY_MEAN', 'AMT_INST_MIN_REGULARITY_MAX', 'AMT_INST_MIN_REGULARITY_SUM', 'AMT_INST_MIN_REGULARITY_VAR', 'AMT_INST_MIN_REGULARITY_MEDIAN', 'AMT_PAYMENT_CURRENT_MEAN', 'AMT_PAYMENT_CURRENT_MAX', 'AMT_PAYMENT_CURRENT_SUM', 'AMT_PAYMENT_CURRENT_VAR', 'AMT_PAYMENT_CURRENT_MEDIAN', 'AMT_PAYMENT_TOTAL_CURRENT_MEAN', 'AMT_PAYMENT_TOTAL_CURRENT_MAX', 'AMT_PAYMENT_TOTAL_CURRENT_SUM', 'AMT_PAYMENT_TOTAL_CURRENT_VAR', 'AMT_PAYMENT_TOTAL_CURRENT_MEDIAN', 'AMT_RECEIVABLE_PRINCIPAL_MEAN', 'AMT_RECEIVABLE_PRINCIPAL_MAX', 'AMT_RECEIVABLE_PRINCIPAL_SUM', 'AMT_RECEIVABLE_PRINCIPAL_VAR', 'AMT_RECEIVABLE_PRINCIPAL_MEDIAN', 'AMT_RECIVABLE_MEAN', 'AMT_RECIVABLE_MAX', 'AMT_RECIVABLE_SUM', 'AMT_RECIVABLE_VAR', 'AMT_RECIVABLE_MEDIAN', 'AMT_TOTAL_RECEIVABLE_MEAN', 'AMT_TOTAL_RECEIVABLE_MAX', 'AMT_TOTAL_RECEIVABLE_SUM', 'AMT_TOTAL_RECEIVABLE_VAR', 'AMT_TOTAL_RECEIVABLE_MEDIAN', 'CNT_DRAWINGS_ATM_CURRENT_MEAN', 'CNT_DRAWINGS_ATM_CURRENT_MAX', 'CNT_DRAWINGS_ATM_CURRENT_SUM', 'CNT_DRAWINGS_ATM_CURRENT_VAR', 'CNT_DRAWINGS_ATM_CURRENT_MEDIAN', 'CNT_DRAWINGS_CURRENT_MEAN', 'CNT_DRAWINGS_CURRENT_MAX', 'CNT_DRAWINGS_CURRENT_SUM', 'CNT_DRAWINGS_CURRENT_VAR', 'CNT_DRAWINGS_CURRENT_MEDIAN', 'CNT_DRAWINGS_OTHER_CURRENT_MEAN', 'CNT_DRAWINGS_OTHER_CURRENT_MAX', 'CNT_DRAWINGS_OTHER_CURRENT_SUM', 'CNT_DRAWINGS_OTHER_CURRENT_VAR', 'CNT_DRAWINGS_OTHER_CURRENT_MEDIAN', 'CNT_DRAWINGS_POS_CURRENT_MEAN', 'CNT_DRAWINGS_POS_CURRENT_MAX', 'CNT_DRAWINGS_POS_CURRENT_SUM', 'CNT_DRAWINGS_POS_CURRENT_VAR', 'CNT_DRAWINGS_POS_CURRENT_MEDIAN', 'CNT_INSTALMENT_MATURE_CUM_MEAN', 'CNT_INSTALMENT_MATURE_CUM_MAX', 'CNT_INSTALMENT_MATURE_CUM_SUM', 'CNT_INSTALMENT_MATURE_CUM_VAR', 'CNT_INSTALMENT_MATURE_CUM_MEDIAN', 'SK_DPD_MEAN_x', 'SK_DPD_MAX_x', 'SK_DPD_SUM_x', 'SK_DPD_VAR_x', 'SK_DPD_MEDIAN_x', 'SK_DPD_DEF_MEAN_x', 'SK_DPD_DEF_MAX_x', 'SK_DPD_DEF_SUM_x', 'SK_DPD_DEF_VAR_x', 'SK_DPD_DEF_MEDIAN_x', 'MONTHS_BALANCE_MEAN_y', 'MONTHS_BALANCE_MAX_y', 'MONTHS_BALANCE_SUM_y', 'MONTHS_BALANCE_VAR_y', 'MONTHS_BALANCE_MEDIAN_y', 'CNT_INSTALMENT_MEAN', 'CNT_INSTALMENT_MAX', 'CNT_INSTALMENT_SUM', 'CNT_INSTALMENT_VAR', 'CNT_INSTALMENT_MEDIAN', 'CNT_INSTALMENT_FUTURE_MEAN', 'CNT_INSTALMENT_FUTURE_MAX', 'CNT_INSTALMENT_FUTURE_SUM', 'CNT_INSTALMENT_FUTURE_VAR', 'CNT_INSTALMENT_FUTURE_MEDIAN', 'SK_DPD_MEAN_y', 'SK_DPD_MAX_y', 'SK_DPD_SUM_y', 'SK_DPD_VAR_y', 'SK_DPD_MEDIAN_y', 'SK_DPD_DEF_MEAN_y', 'SK_DPD_DEF_MAX_y', 'SK_DPD_DEF_SUM_y', 'SK_DPD_DEF_VAR_y', 'SK_DPD_DEF_MEDIAN_y', 'NUM_INSTALMENT_VERSION_MEAN', 'NUM_INSTALMENT_VERSION_MAX', 'NUM_INSTALMENT_VERSION_SUM', 'NUM_INSTALMENT_VERSION_VAR', 'NUM_INSTALMENT_VERSION_MEDIAN', 'NUM_INSTALMENT_NUMBER_MEAN', 'NUM_INSTALMENT_NUMBER_MAX', 'NUM_INSTALMENT_NUMBER_SUM', 'NUM_INSTALMENT_NUMBER_VAR', 'NUM_INSTALMENT_NUMBER_MEDIAN', 'DAYS_INSTALMENT_MEAN', 'DAYS_INSTALMENT_MAX', 'DAYS_INSTALMENT_SUM', 'DAYS_INSTALMENT_VAR', 'DAYS_INSTALMENT_MEDIAN', 'DAYS_ENTRY_PAYMENT_MEAN', 'DAYS_ENTRY_PAYMENT_MAX', 'DAYS_ENTRY_PAYMENT_SUM', 'DAYS_ENTRY_PAYMENT_VAR', 'DAYS_ENTRY_PAYMENT_MEDIAN', 'AMT_INSTALMENT_MEAN', 'AMT_INSTALMENT_MAX', 'AMT_INSTALMENT_SUM', 'AMT_INSTALMENT_VAR', 'AMT_INSTALMENT_MEDIAN', 'AMT_PAYMENT_MEAN', 'AMT_PAYMENT_MAX', 'AMT_PAYMENT_SUM', 'AMT_PAYMENT_VAR', 'AMT_PAYMENT_MEDIAN']\n",
            "Number of categorical columns in application_test:  16 \n",
            " ['NAME_CONTRACT_TYPE', 'CODE_GENDER', 'FLAG_OWN_CAR', 'FLAG_OWN_REALTY', 'NAME_TYPE_SUITE', 'NAME_INCOME_TYPE', 'NAME_EDUCATION_TYPE', 'NAME_FAMILY_STATUS', 'NAME_HOUSING_TYPE', 'OCCUPATION_TYPE', 'WEEKDAY_APPR_PROCESS_START', 'ORGANIZATION_TYPE', 'FONDKAPREMONT_MODE', 'HOUSETYPE_MODE', 'WALLSMATERIAL_MODE', 'EMERGENCYSTATE_MODE']\n",
            "Number of numerical columns in application_test:  354 \n",
            " ['CNT_CHILDREN', 'AMT_INCOME_TOTAL', 'AMT_CREDIT', 'AMT_ANNUITY', 'AMT_GOODS_PRICE', 'REGION_POPULATION_RELATIVE', 'DAYS_BIRTH', 'DAYS_EMPLOYED', 'DAYS_REGISTRATION', 'DAYS_ID_PUBLISH', 'OWN_CAR_AGE', 'FLAG_MOBIL', 'FLAG_EMP_PHONE', 'FLAG_WORK_PHONE', 'FLAG_CONT_MOBILE', 'FLAG_PHONE', 'FLAG_EMAIL', 'CNT_FAM_MEMBERS', 'REGION_RATING_CLIENT', 'REGION_RATING_CLIENT_W_CITY', 'HOUR_APPR_PROCESS_START', 'REG_REGION_NOT_LIVE_REGION', 'REG_REGION_NOT_WORK_REGION', 'LIVE_REGION_NOT_WORK_REGION', 'REG_CITY_NOT_LIVE_CITY', 'REG_CITY_NOT_WORK_CITY', 'LIVE_CITY_NOT_WORK_CITY', 'EXT_SOURCE_1', 'EXT_SOURCE_2', 'EXT_SOURCE_3', 'APARTMENTS_AVG', 'BASEMENTAREA_AVG', 'YEARS_BEGINEXPLUATATION_AVG', 'YEARS_BUILD_AVG', 'COMMONAREA_AVG', 'ELEVATORS_AVG', 'ENTRANCES_AVG', 'FLOORSMAX_AVG', 'FLOORSMIN_AVG', 'LANDAREA_AVG', 'LIVINGAPARTMENTS_AVG', 'LIVINGAREA_AVG', 'NONLIVINGAPARTMENTS_AVG', 'NONLIVINGAREA_AVG', 'APARTMENTS_MODE', 'BASEMENTAREA_MODE', 'YEARS_BEGINEXPLUATATION_MODE', 'YEARS_BUILD_MODE', 'COMMONAREA_MODE', 'ELEVATORS_MODE', 'ENTRANCES_MODE', 'FLOORSMAX_MODE', 'FLOORSMIN_MODE', 'LANDAREA_MODE', 'LIVINGAPARTMENTS_MODE', 'LIVINGAREA_MODE', 'NONLIVINGAPARTMENTS_MODE', 'NONLIVINGAREA_MODE', 'APARTMENTS_MEDI', 'BASEMENTAREA_MEDI', 'YEARS_BEGINEXPLUATATION_MEDI', 'YEARS_BUILD_MEDI', 'COMMONAREA_MEDI', 'ELEVATORS_MEDI', 'ENTRANCES_MEDI', 'FLOORSMAX_MEDI', 'FLOORSMIN_MEDI', 'LANDAREA_MEDI', 'LIVINGAPARTMENTS_MEDI', 'LIVINGAREA_MEDI', 'NONLIVINGAPARTMENTS_MEDI', 'NONLIVINGAREA_MEDI', 'TOTALAREA_MODE', 'OBS_30_CNT_SOCIAL_CIRCLE', 'DEF_30_CNT_SOCIAL_CIRCLE', 'OBS_60_CNT_SOCIAL_CIRCLE', 'DEF_60_CNT_SOCIAL_CIRCLE', 'DAYS_LAST_PHONE_CHANGE', 'FLAG_DOCUMENT_2', 'FLAG_DOCUMENT_3', 'FLAG_DOCUMENT_4', 'FLAG_DOCUMENT_5', 'FLAG_DOCUMENT_6', 'FLAG_DOCUMENT_7', 'FLAG_DOCUMENT_8', 'FLAG_DOCUMENT_9', 'FLAG_DOCUMENT_10', 'FLAG_DOCUMENT_11', 'FLAG_DOCUMENT_12', 'FLAG_DOCUMENT_13', 'FLAG_DOCUMENT_14', 'FLAG_DOCUMENT_15', 'FLAG_DOCUMENT_16', 'FLAG_DOCUMENT_17', 'FLAG_DOCUMENT_18', 'FLAG_DOCUMENT_19', 'FLAG_DOCUMENT_20', 'FLAG_DOCUMENT_21', 'AMT_REQ_CREDIT_BUREAU_HOUR', 'AMT_REQ_CREDIT_BUREAU_DAY', 'AMT_REQ_CREDIT_BUREAU_WEEK', 'AMT_REQ_CREDIT_BUREAU_MON', 'AMT_REQ_CREDIT_BUREAU_QRT', 'AMT_REQ_CREDIT_BUREAU_YEAR', 'AMT_ANNUITY_MEAN', 'AMT_ANNUITY_MAX', 'AMT_ANNUITY_SUM', 'AMT_ANNUITY_VAR', 'AMT_ANNUITY_MEDIAN', 'AMT_APPLICATION_MEAN', 'AMT_APPLICATION_MAX', 'AMT_APPLICATION_SUM', 'AMT_APPLICATION_VAR', 'AMT_APPLICATION_MEDIAN', 'AMT_CREDIT_MEAN', 'AMT_CREDIT_MAX', 'AMT_CREDIT_SUM', 'AMT_CREDIT_VAR', 'AMT_CREDIT_MEDIAN', 'AMT_DOWN_PAYMENT_MEAN', 'AMT_DOWN_PAYMENT_MAX', 'AMT_DOWN_PAYMENT_SUM', 'AMT_DOWN_PAYMENT_VAR', 'AMT_DOWN_PAYMENT_MEDIAN', 'AMT_GOODS_PRICE_MEAN', 'AMT_GOODS_PRICE_MAX', 'AMT_GOODS_PRICE_SUM', 'AMT_GOODS_PRICE_VAR', 'AMT_GOODS_PRICE_MEDIAN', 'HOUR_APPR_PROCESS_START_MEAN', 'HOUR_APPR_PROCESS_START_MAX', 'HOUR_APPR_PROCESS_START_SUM', 'HOUR_APPR_PROCESS_START_VAR', 'HOUR_APPR_PROCESS_START_MEDIAN', 'NFLAG_LAST_APPL_IN_DAY_MEAN', 'NFLAG_LAST_APPL_IN_DAY_MAX', 'NFLAG_LAST_APPL_IN_DAY_SUM', 'NFLAG_LAST_APPL_IN_DAY_VAR', 'NFLAG_LAST_APPL_IN_DAY_MEDIAN', 'RATE_DOWN_PAYMENT_MEAN', 'RATE_DOWN_PAYMENT_MAX', 'RATE_DOWN_PAYMENT_SUM', 'RATE_DOWN_PAYMENT_VAR', 'RATE_DOWN_PAYMENT_MEDIAN', 'RATE_INTEREST_PRIMARY_MEAN', 'RATE_INTEREST_PRIMARY_MAX', 'RATE_INTEREST_PRIMARY_SUM', 'RATE_INTEREST_PRIMARY_VAR', 'RATE_INTEREST_PRIMARY_MEDIAN', 'RATE_INTEREST_PRIVILEGED_MEAN', 'RATE_INTEREST_PRIVILEGED_MAX', 'RATE_INTEREST_PRIVILEGED_SUM', 'RATE_INTEREST_PRIVILEGED_VAR', 'RATE_INTEREST_PRIVILEGED_MEDIAN', 'DAYS_DECISION_MEAN', 'DAYS_DECISION_MAX', 'DAYS_DECISION_SUM', 'DAYS_DECISION_VAR', 'DAYS_DECISION_MEDIAN', 'SELLERPLACE_AREA_MEAN', 'SELLERPLACE_AREA_MAX', 'SELLERPLACE_AREA_SUM', 'SELLERPLACE_AREA_VAR', 'SELLERPLACE_AREA_MEDIAN', 'CNT_PAYMENT_MEAN', 'CNT_PAYMENT_MAX', 'CNT_PAYMENT_SUM', 'CNT_PAYMENT_VAR', 'CNT_PAYMENT_MEDIAN', 'DAYS_FIRST_DRAWING_MEAN', 'DAYS_FIRST_DRAWING_MAX', 'DAYS_FIRST_DRAWING_SUM', 'DAYS_FIRST_DRAWING_VAR', 'DAYS_FIRST_DRAWING_MEDIAN', 'DAYS_FIRST_DUE_MEAN', 'DAYS_FIRST_DUE_MAX', 'DAYS_FIRST_DUE_SUM', 'DAYS_FIRST_DUE_VAR', 'DAYS_FIRST_DUE_MEDIAN', 'DAYS_LAST_DUE_1ST_VERSION_MEAN', 'DAYS_LAST_DUE_1ST_VERSION_MAX', 'DAYS_LAST_DUE_1ST_VERSION_SUM', 'DAYS_LAST_DUE_1ST_VERSION_VAR', 'DAYS_LAST_DUE_1ST_VERSION_MEDIAN', 'DAYS_LAST_DUE_MEAN', 'DAYS_LAST_DUE_MAX', 'DAYS_LAST_DUE_SUM', 'DAYS_LAST_DUE_VAR', 'DAYS_LAST_DUE_MEDIAN', 'DAYS_TERMINATION_MEAN', 'DAYS_TERMINATION_MAX', 'DAYS_TERMINATION_SUM', 'DAYS_TERMINATION_VAR', 'DAYS_TERMINATION_MEDIAN', 'NFLAG_INSURED_ON_APPROVAL_MEAN', 'NFLAG_INSURED_ON_APPROVAL_MAX', 'NFLAG_INSURED_ON_APPROVAL_SUM', 'NFLAG_INSURED_ON_APPROVAL_VAR', 'NFLAG_INSURED_ON_APPROVAL_MEDIAN', 'MONTHS_BALANCE_MEAN_x', 'MONTHS_BALANCE_MAX_x', 'MONTHS_BALANCE_SUM_x', 'MONTHS_BALANCE_VAR_x', 'MONTHS_BALANCE_MEDIAN_x', 'AMT_BALANCE_MEAN', 'AMT_BALANCE_MAX', 'AMT_BALANCE_SUM', 'AMT_BALANCE_VAR', 'AMT_BALANCE_MEDIAN', 'AMT_CREDIT_LIMIT_ACTUAL_MEAN', 'AMT_CREDIT_LIMIT_ACTUAL_MAX', 'AMT_CREDIT_LIMIT_ACTUAL_SUM', 'AMT_CREDIT_LIMIT_ACTUAL_VAR', 'AMT_CREDIT_LIMIT_ACTUAL_MEDIAN', 'AMT_DRAWINGS_ATM_CURRENT_MEAN', 'AMT_DRAWINGS_ATM_CURRENT_MAX', 'AMT_DRAWINGS_ATM_CURRENT_SUM', 'AMT_DRAWINGS_ATM_CURRENT_VAR', 'AMT_DRAWINGS_ATM_CURRENT_MEDIAN', 'AMT_DRAWINGS_CURRENT_MEAN', 'AMT_DRAWINGS_CURRENT_MAX', 'AMT_DRAWINGS_CURRENT_SUM', 'AMT_DRAWINGS_CURRENT_VAR', 'AMT_DRAWINGS_CURRENT_MEDIAN', 'AMT_DRAWINGS_OTHER_CURRENT_MEAN', 'AMT_DRAWINGS_OTHER_CURRENT_MAX', 'AMT_DRAWINGS_OTHER_CURRENT_SUM', 'AMT_DRAWINGS_OTHER_CURRENT_VAR', 'AMT_DRAWINGS_OTHER_CURRENT_MEDIAN', 'AMT_DRAWINGS_POS_CURRENT_MEAN', 'AMT_DRAWINGS_POS_CURRENT_MAX', 'AMT_DRAWINGS_POS_CURRENT_SUM', 'AMT_DRAWINGS_POS_CURRENT_VAR', 'AMT_DRAWINGS_POS_CURRENT_MEDIAN', 'AMT_INST_MIN_REGULARITY_MEAN', 'AMT_INST_MIN_REGULARITY_MAX', 'AMT_INST_MIN_REGULARITY_SUM', 'AMT_INST_MIN_REGULARITY_VAR', 'AMT_INST_MIN_REGULARITY_MEDIAN', 'AMT_PAYMENT_CURRENT_MEAN', 'AMT_PAYMENT_CURRENT_MAX', 'AMT_PAYMENT_CURRENT_SUM', 'AMT_PAYMENT_CURRENT_VAR', 'AMT_PAYMENT_CURRENT_MEDIAN', 'AMT_PAYMENT_TOTAL_CURRENT_MEAN', 'AMT_PAYMENT_TOTAL_CURRENT_MAX', 'AMT_PAYMENT_TOTAL_CURRENT_SUM', 'AMT_PAYMENT_TOTAL_CURRENT_VAR', 'AMT_PAYMENT_TOTAL_CURRENT_MEDIAN', 'AMT_RECEIVABLE_PRINCIPAL_MEAN', 'AMT_RECEIVABLE_PRINCIPAL_MAX', 'AMT_RECEIVABLE_PRINCIPAL_SUM', 'AMT_RECEIVABLE_PRINCIPAL_VAR', 'AMT_RECEIVABLE_PRINCIPAL_MEDIAN', 'AMT_RECIVABLE_MEAN', 'AMT_RECIVABLE_MAX', 'AMT_RECIVABLE_SUM', 'AMT_RECIVABLE_VAR', 'AMT_RECIVABLE_MEDIAN', 'AMT_TOTAL_RECEIVABLE_MEAN', 'AMT_TOTAL_RECEIVABLE_MAX', 'AMT_TOTAL_RECEIVABLE_SUM', 'AMT_TOTAL_RECEIVABLE_VAR', 'AMT_TOTAL_RECEIVABLE_MEDIAN', 'CNT_DRAWINGS_ATM_CURRENT_MEAN', 'CNT_DRAWINGS_ATM_CURRENT_MAX', 'CNT_DRAWINGS_ATM_CURRENT_SUM', 'CNT_DRAWINGS_ATM_CURRENT_VAR', 'CNT_DRAWINGS_ATM_CURRENT_MEDIAN', 'CNT_DRAWINGS_CURRENT_MEAN', 'CNT_DRAWINGS_CURRENT_MAX', 'CNT_DRAWINGS_CURRENT_SUM', 'CNT_DRAWINGS_CURRENT_VAR', 'CNT_DRAWINGS_CURRENT_MEDIAN', 'CNT_DRAWINGS_OTHER_CURRENT_MEAN', 'CNT_DRAWINGS_OTHER_CURRENT_MAX', 'CNT_DRAWINGS_OTHER_CURRENT_SUM', 'CNT_DRAWINGS_OTHER_CURRENT_VAR', 'CNT_DRAWINGS_OTHER_CURRENT_MEDIAN', 'CNT_DRAWINGS_POS_CURRENT_MEAN', 'CNT_DRAWINGS_POS_CURRENT_MAX', 'CNT_DRAWINGS_POS_CURRENT_SUM', 'CNT_DRAWINGS_POS_CURRENT_VAR', 'CNT_DRAWINGS_POS_CURRENT_MEDIAN', 'CNT_INSTALMENT_MATURE_CUM_MEAN', 'CNT_INSTALMENT_MATURE_CUM_MAX', 'CNT_INSTALMENT_MATURE_CUM_SUM', 'CNT_INSTALMENT_MATURE_CUM_VAR', 'CNT_INSTALMENT_MATURE_CUM_MEDIAN', 'SK_DPD_MEAN_x', 'SK_DPD_MAX_x', 'SK_DPD_SUM_x', 'SK_DPD_VAR_x', 'SK_DPD_MEDIAN_x', 'SK_DPD_DEF_MEAN_x', 'SK_DPD_DEF_MAX_x', 'SK_DPD_DEF_SUM_x', 'SK_DPD_DEF_VAR_x', 'SK_DPD_DEF_MEDIAN_x', 'MONTHS_BALANCE_MEAN_y', 'MONTHS_BALANCE_MAX_y', 'MONTHS_BALANCE_SUM_y', 'MONTHS_BALANCE_VAR_y', 'MONTHS_BALANCE_MEDIAN_y', 'CNT_INSTALMENT_MEAN', 'CNT_INSTALMENT_MAX', 'CNT_INSTALMENT_SUM', 'CNT_INSTALMENT_VAR', 'CNT_INSTALMENT_MEDIAN', 'CNT_INSTALMENT_FUTURE_MEAN', 'CNT_INSTALMENT_FUTURE_MAX', 'CNT_INSTALMENT_FUTURE_SUM', 'CNT_INSTALMENT_FUTURE_VAR', 'CNT_INSTALMENT_FUTURE_MEDIAN', 'SK_DPD_MEAN_y', 'SK_DPD_MAX_y', 'SK_DPD_SUM_y', 'SK_DPD_VAR_y', 'SK_DPD_MEDIAN_y', 'SK_DPD_DEF_MEAN_y', 'SK_DPD_DEF_MAX_y', 'SK_DPD_DEF_SUM_y', 'SK_DPD_DEF_VAR_y', 'SK_DPD_DEF_MEDIAN_y', 'NUM_INSTALMENT_VERSION_MEAN', 'NUM_INSTALMENT_VERSION_MAX', 'NUM_INSTALMENT_VERSION_SUM', 'NUM_INSTALMENT_VERSION_VAR', 'NUM_INSTALMENT_VERSION_MEDIAN', 'NUM_INSTALMENT_NUMBER_MEAN', 'NUM_INSTALMENT_NUMBER_MAX', 'NUM_INSTALMENT_NUMBER_SUM', 'NUM_INSTALMENT_NUMBER_VAR', 'NUM_INSTALMENT_NUMBER_MEDIAN', 'DAYS_INSTALMENT_MEAN', 'DAYS_INSTALMENT_MAX', 'DAYS_INSTALMENT_SUM', 'DAYS_INSTALMENT_VAR', 'DAYS_INSTALMENT_MEDIAN', 'DAYS_ENTRY_PAYMENT_MEAN', 'DAYS_ENTRY_PAYMENT_MAX', 'DAYS_ENTRY_PAYMENT_SUM', 'DAYS_ENTRY_PAYMENT_VAR', 'DAYS_ENTRY_PAYMENT_MEDIAN', 'AMT_INSTALMENT_MEAN', 'AMT_INSTALMENT_MAX', 'AMT_INSTALMENT_SUM', 'AMT_INSTALMENT_VAR', 'AMT_INSTALMENT_MEDIAN', 'AMT_PAYMENT_MEAN', 'AMT_PAYMENT_MAX', 'AMT_PAYMENT_SUM', 'AMT_PAYMENT_VAR', 'AMT_PAYMENT_MEDIAN']\n"
          ],
          "name": "stdout"
        }
      ]
    },
    {
      "cell_type": "code",
      "metadata": {
        "id": "8cqCPPAfrsxT"
      },
      "source": [
        "# atCC.remove('SK_ID_CURR')\n",
        "# atestCC.remove('SK_ID_CURR')"
      ],
      "execution_count": null,
      "outputs": []
    },
    {
      "cell_type": "code",
      "metadata": {
        "id": "xYvGGBOkJKzM"
      },
      "source": [
        "at_corr=application_train.corr()"
      ],
      "execution_count": null,
      "outputs": []
    },
    {
      "cell_type": "code",
      "metadata": {
        "id": "bV35g1VY3Z_q"
      },
      "source": [
        "new_application_train = remove_corr_columns(application_train,atNC,atCC,at_corr)"
      ],
      "execution_count": null,
      "outputs": []
    },
    {
      "cell_type": "code",
      "metadata": {
        "colab": {
          "base_uri": "https://localhost:8080/"
        },
        "id": "63VM9y-ruhQa",
        "outputId": "90e055b5-584b-4f2c-a7e7-a2c05988533c"
      },
      "source": [
        "labels = new_application_train['TARGET']\n",
        "\n",
        "new_application_train, new_application_test = new_application_train.align(application_test, join = 'inner', axis = 1)\n",
        "\n",
        "new_application_train['TARGET'] = labels\n",
        "\n",
        "print('Training Features shape: ', new_application_train.shape)\n",
        "print('Testing Features shape: ', new_application_test.shape)"
      ],
      "execution_count": null,
      "outputs": [
        {
          "output_type": "stream",
          "text": [
            "Training Features shape:  (199882, 224)\n",
            "Testing Features shape:  (107629, 223)\n"
          ],
          "name": "stdout"
        }
      ]
    },
    {
      "cell_type": "code",
      "metadata": {
        "id": "WhwINvcALbPn"
      },
      "source": [
        "# print(getDetailsAboutOnlyMissingValuesColumns(new_application_train).sort_values(ascending=False))\n",
        "# print(getDetailsAboutOnlyMissingValuesColumns(new_application_test).sort_values(ascending=False))"
      ],
      "execution_count": null,
      "outputs": []
    },
    {
      "cell_type": "code",
      "metadata": {
        "id": "bzUeQdeWAQDj"
      },
      "source": [
        "imputeCategoricalMissingValuesUsingMode(new_application_train)\n",
        "imputeNumericMissingValuesUsingMedian(new_application_train)\n",
        "\n",
        "imputeCategoricalMissingValuesUsingMode(new_application_test)\n",
        "imputeNumericMissingValuesUsingMedian(new_application_test)"
      ],
      "execution_count": null,
      "outputs": []
    },
    {
      "cell_type": "code",
      "metadata": {
        "id": "78qCpeR49oLe"
      },
      "source": [
        "# checkOutlier(new_application_train, atNC)"
      ],
      "execution_count": null,
      "outputs": []
    },
    {
      "cell_type": "code",
      "metadata": {
        "id": "5sBC728fDOv6"
      },
      "source": [
        "#Extract out target variable\n",
        "dfTarget = new_application_train.TARGET\n",
        "new_application_train = new_application_train.drop('TARGET', axis = 1)"
      ],
      "execution_count": null,
      "outputs": []
    },
    {
      "cell_type": "code",
      "metadata": {
        "id": "sLz1_gxdC5G_"
      },
      "source": [
        "atNC = getCnamesNumeric(new_application_train)\n",
        "atCC = getCnamesObject(new_application_train)"
      ],
      "execution_count": null,
      "outputs": []
    },
    {
      "cell_type": "code",
      "metadata": {
        "id": "_m5TUFo_CDdO"
      },
      "source": [
        "# new_application_train = removeOutlier(new_application_train, atNC)"
      ],
      "execution_count": null,
      "outputs": []
    },
    {
      "cell_type": "markdown",
      "metadata": {
        "id": "5C4VcG-9nrLc"
      },
      "source": [
        "#######################Exploring Categorical Variable########################"
      ]
    },
    {
      "cell_type": "code",
      "metadata": {
        "colab": {
          "base_uri": "https://localhost:8080/"
        },
        "id": "5DAYuuKhL8bk",
        "outputId": "e622700d-4362-4ac3-ec54-199d93808043"
      },
      "source": [
        "new_application_train.select_dtypes(['object','category']).apply(pd.Series.nunique, axis = 0)"
      ],
      "execution_count": null,
      "outputs": [
        {
          "output_type": "execute_result",
          "data": {
            "text/plain": [
              "NAME_CONTRACT_TYPE             2\n",
              "CODE_GENDER                    3\n",
              "FLAG_OWN_CAR                   2\n",
              "FLAG_OWN_REALTY                2\n",
              "NAME_TYPE_SUITE                7\n",
              "NAME_INCOME_TYPE               8\n",
              "NAME_EDUCATION_TYPE            5\n",
              "NAME_FAMILY_STATUS             6\n",
              "NAME_HOUSING_TYPE              6\n",
              "OCCUPATION_TYPE               18\n",
              "WEEKDAY_APPR_PROCESS_START     7\n",
              "ORGANIZATION_TYPE             58\n",
              "FONDKAPREMONT_MODE             4\n",
              "HOUSETYPE_MODE                 3\n",
              "WALLSMATERIAL_MODE             7\n",
              "EMERGENCYSTATE_MODE            2\n",
              "dtype: int64"
            ]
          },
          "metadata": {
            "tags": []
          },
          "execution_count": 105
        }
      ]
    },
    {
      "cell_type": "code",
      "metadata": {
        "id": "mN6Wn4TZco7I"
      },
      "source": [
        "frequency_encoded_variables = ['OCCUPATION_TYPE','ORGANIZATION_TYPE']"
      ],
      "execution_count": null,
      "outputs": []
    },
    {
      "cell_type": "code",
      "metadata": {
        "id": "MbfExHYWcybg"
      },
      "source": [
        "def frequency_encoding(variable):\r\n",
        "    t = pd.concat([new_application_train[variable], new_application_test[variable]]).value_counts().reset_index()\r\n",
        "    t = t.reset_index()\r\n",
        "    t.loc[t[variable] == 1, 'level_0'] = np.nan\r\n",
        "    t.set_index('index', inplace=True)\r\n",
        "    max_label = t['level_0'].max() + 1\r\n",
        "    t.fillna(max_label, inplace=True)\r\n",
        "    return t.to_dict()['level_0']"
      ],
      "execution_count": null,
      "outputs": []
    },
    {
      "cell_type": "code",
      "metadata": {
        "id": "A8Be8PXWdFll"
      },
      "source": [
        "from tqdm import tqdm"
      ],
      "execution_count": null,
      "outputs": []
    },
    {
      "cell_type": "code",
      "metadata": {
        "colab": {
          "base_uri": "https://localhost:8080/"
        },
        "id": "eascCKbydATn",
        "outputId": "8c4059c8-509c-4f56-f2c1-742c80b8bc0b"
      },
      "source": [
        "for variable in tqdm(frequency_encoded_variables):\r\n",
        "    freq_enc_dict = frequency_encoding(variable)\r\n",
        "    new_application_train[variable] = new_application_train[variable].map(lambda x: freq_enc_dict.get(x, np.nan))\r\n",
        "    new_application_test[variable] = new_application_test[variable].map(lambda x: freq_enc_dict.get(x, np.nan))"
      ],
      "execution_count": null,
      "outputs": [
        {
          "output_type": "stream",
          "text": [
            "100%|██████████| 2/2 [00:00<00:00, 60.21it/s]\n"
          ],
          "name": "stderr"
        }
      ]
    },
    {
      "cell_type": "code",
      "metadata": {
        "id": "a5wikJA7dKXJ"
      },
      "source": [
        "for col in frequency_encoded_variables:\r\n",
        "  new_application_train[col] = new_application_train[col].astype('int32')\r\n",
        "  new_application_test[col] = new_application_test[col].astype('int32')"
      ],
      "execution_count": null,
      "outputs": []
    },
    {
      "cell_type": "code",
      "metadata": {
        "id": "r6xeTyJddTBy"
      },
      "source": [
        "atNC = getCnamesNumeric(new_application_train)\r\n",
        "atCC = getCnamesObject(new_application_train)"
      ],
      "execution_count": null,
      "outputs": []
    },
    {
      "cell_type": "code",
      "metadata": {
        "id": "o5JQg3ZbdfMg"
      },
      "source": [
        "new_application_train=pd.get_dummies(new_application_train)\r\n",
        "new_application_test = pd.get_dummies(new_application_test)"
      ],
      "execution_count": null,
      "outputs": []
    },
    {
      "cell_type": "code",
      "metadata": {
        "colab": {
          "base_uri": "https://localhost:8080/"
        },
        "id": "OhYvr4Yev8fQ",
        "outputId": "0e9c1dca-b1af-460c-f097-1eaf4558dcfa"
      },
      "source": [
        "new_application_train, new_application_test = new_application_train.align(new_application_test, join = 'inner', axis = 1)\n",
        "\n",
        "print('Training Features shape: ', new_application_train.shape)\n",
        "print('Testing Features shape: ', new_application_test.shape)"
      ],
      "execution_count": null,
      "outputs": [
        {
          "output_type": "stream",
          "text": [
            "Training Features shape:  (199882, 272)\n",
            "Testing Features shape:  (107629, 272)\n"
          ],
          "name": "stdout"
        }
      ]
    },
    {
      "cell_type": "code",
      "metadata": {
        "id": "dVdNv2Rfww2V"
      },
      "source": [
        "train = new_application_train.copy()\n",
        "test = new_application_test.copy()\n",
        "train_labels = labels.copy()\n",
        "features = list(train.columns)"
      ],
      "execution_count": null,
      "outputs": []
    },
    {
      "cell_type": "code",
      "metadata": {
        "id": "24sxGGaW-Hj7"
      },
      "source": [
        "from sklearn.preprocessing import StandardScaler\n",
        "sc = StandardScaler()\n",
        "sc.fit(train)\n",
        "train = sc.transform(train)\n",
        "test = sc.transform(test)"
      ],
      "execution_count": null,
      "outputs": []
    },
    {
      "cell_type": "code",
      "metadata": {
        "id": "qI47i3Yqsvto"
      },
      "source": [
        "train = pd.DataFrame(train,columns=new_application_train.columns)\r\n",
        "test =pd.DataFrame(test,columns=new_application_test.columns)"
      ],
      "execution_count": null,
      "outputs": []
    },
    {
      "cell_type": "code",
      "metadata": {
        "id": "MWP-LW0u-N1O"
      },
      "source": [
        "from sklearn.model_selection import RepeatedStratifiedKFold\n",
        "from sklearn.ensemble import BaggingClassifier\n",
        "from sklearn.model_selection import StratifiedKFold"
      ],
      "execution_count": null,
      "outputs": []
    },
    {
      "cell_type": "code",
      "metadata": {
        "colab": {
          "base_uri": "https://localhost:8080/"
        },
        "id": "LQ1Oh-_QvZMl",
        "outputId": "b0f6ec9e-5a66-4c60-8204-4c5e774f4341"
      },
      "source": [
        "labels[labels==0].shape,labels[labels==1].shape"
      ],
      "execution_count": null,
      "outputs": [
        {
          "output_type": "execute_result",
          "data": {
            "text/plain": [
              "((183651,), (16231,))"
            ]
          },
          "metadata": {
            "tags": []
          },
          "execution_count": 117
        }
      ]
    },
    {
      "cell_type": "code",
      "metadata": {
        "id": "KnHy_OAF1txd"
      },
      "source": [
        "def model(features, test_features, encoding = 'ohe', n_folds = 5):\n",
        "    \n",
        "    \n",
        "    # Extract the ids\n",
        "    train_ids = features['SK_ID_CURR']\n",
        "    test_ids = test_features['SK_ID_CURR']\n",
        "    \n",
        "    # Extract the labels for training\n",
        "    labels = features['TARGET']\n",
        "    \n",
        "    # Remove the ids and target\n",
        "    features = features.drop(columns = ['SK_ID_CURR', 'TARGET'])\n",
        "    test_features = test_features.drop(columns = ['SK_ID_CURR'])\n",
        "    \n",
        "    \n",
        "    print('Training Data Shape: ', features.shape)\n",
        "    print('Testing Data Shape: ', test_features.shape)\n",
        "    \n",
        "    # Extract feature names\n",
        "    feature_names = list(features.columns)\n",
        "    \n",
        "    # Convert to np arrays\n",
        "    features = np.array(features)\n",
        "    test_features = np.array(test_features)\n",
        "    \n",
        "    # Create the kfold object\n",
        "    k_fold = StratifiedKFold(n_splits = n_folds, shuffle = True, random_state = 50)\n",
        "    \n",
        "    # Empty array for feature importances\n",
        "    feature_importance_values = np.zeros(len(feature_names))\n",
        "    \n",
        "    # Empty array for test predictions\n",
        "    test_predictions = np.zeros(test_features.shape[0])\n",
        "    \n",
        "    # Empty array for out of fold validation predictions\n",
        "    out_of_fold = np.zeros(features.shape[0])\n",
        "    \n",
        "    # Lists for recording validation and training scores\n",
        "    valid_scores = []\n",
        "    train_scores = []\n",
        "    \n",
        "    # Iterate through each fold\n",
        "    for train_indices, valid_indices in k_fold.split(features,labels):\n",
        "        \n",
        "        # Training data for the fold\n",
        "        train_features, train_labels = features[train_indices], labels[train_indices]\n",
        "        # Validation data for the fold\n",
        "        valid_features, valid_labels = features[valid_indices], labels[valid_indices]\n",
        "        \n",
        "        # Create the model\n",
        "        # model = lgb.LGBMClassifier(n_estimators=10000, objective = 'binary',\n",
        "        #                            class_weight = 'balanced', learning_rate = 0.03,scale_pos_weight=9,\n",
        "        #                            reg_alpha = 0.01, reg_lambda = 0.01, n_jobs = -1, random_state = 50)\n",
        "        model = lgb.LGBMClassifier(n_estimators=10000,learning_rate=0.03,num_leaves=511,colsample_bytree=0.9,\n",
        "            subsample=0.8,max_depth=-1,reg_alpha=.1,reg_lambda=.1,min_split_gain=.01,min_child_weight=300,\n",
        "            class_weight='balanced', boosting_type = 'dart',bagging_fraction = 0.6, bagging_freq = 100\n",
        "            )\n",
        "        # Train the model\n",
        "        model.fit(train_features, train_labels, eval_metric = 'auc',\n",
        "                  eval_set = [(valid_features, valid_labels), (train_features, train_labels)],\n",
        "                  eval_names = ['valid', 'train'],\n",
        "                  early_stopping_rounds = 200, verbose = 200)\n",
        "        \n",
        "        # Record the best iteration\n",
        "        best_iteration = model.best_iteration_\n",
        "        \n",
        "        # Record the feature importances\n",
        "        feature_importance_values += model.feature_importances_ / k_fold.n_splits\n",
        "        \n",
        "        # Make predictions\n",
        "        test_predictions += model.predict_proba(test_features, num_iteration = best_iteration)[:, 1] / k_fold.n_splits\n",
        "        \n",
        "        # Record the out of fold predictions\n",
        "        out_of_fold[valid_indices] = model.predict_proba(valid_features, num_iteration = best_iteration)[:, 1]\n",
        "        \n",
        "        # Record the best score\n",
        "        valid_score = model.best_score_['valid']['auc']\n",
        "        train_score = model.best_score_['train']['auc']\n",
        "        \n",
        "        valid_scores.append(valid_score)\n",
        "        train_scores.append(train_score)\n",
        "        \n",
        "        # Clean up memory\n",
        "        gc.enable()\n",
        "        del model, train_features, valid_features\n",
        "        gc.collect()\n",
        "        \n",
        "    # Make the submission dataframe\n",
        "    submission = pd.DataFrame({'SK_ID_CURR': test_ids, 'TARGET': test_predictions})\n",
        "    \n",
        "    # Make the feature importance dataframe\n",
        "    feature_importances = pd.DataFrame({'feature': feature_names, 'importance': feature_importance_values})\n",
        "    \n",
        "    # Overall validation score\n",
        "    valid_auc = roc_auc_score(labels, out_of_fold)\n",
        "    \n",
        "    # Add the overall scores to the metrics\n",
        "    valid_scores.append(valid_auc)\n",
        "    train_scores.append(np.mean(train_scores))\n",
        "    \n",
        "    # Needed for creating dataframe of validation scores\n",
        "    fold_names = list(range(n_folds))\n",
        "    fold_names.append('overall')\n",
        "    \n",
        "    # Dataframe of validation scores\n",
        "    metrics = pd.DataFrame({'fold': fold_names,\n",
        "                            'train': train_scores,\n",
        "                            'valid': valid_scores}) \n",
        "    \n",
        "    return submission, feature_importances, metrics"
      ],
      "execution_count": null,
      "outputs": []
    },
    {
      "cell_type": "code",
      "metadata": {
        "colab": {
          "base_uri": "https://localhost:8080/"
        },
        "id": "aiowkoV81Wth",
        "outputId": "3bf26964-320c-4d38-bfaf-a67819fde17d"
      },
      "source": [
        "train['TARGET'] = pd.Series(labels)\n",
        "train['SK_ID_CURR'] = import_data('/content/application_train.csv').SK_ID_CURR\n",
        "test['SK_ID_CURR'] = import_data('/content/application_test.csv').SK_ID_CURR"
      ],
      "execution_count": null,
      "outputs": [
        {
          "output_type": "stream",
          "text": [
            "Memory usage of dataframe is 186.05 MB\n",
            "Memory usage after optimization is: 45.23 MB\n",
            "Decreased by 75.7%\n",
            "Memory usage of dataframe is 99.36 MB\n",
            "Memory usage after optimization is: 26.56 MB\n",
            "Decreased by 73.3%\n"
          ],
          "name": "stdout"
        }
      ]
    },
    {
      "cell_type": "code",
      "metadata": {
        "colab": {
          "base_uri": "https://localhost:8080/"
        },
        "id": "-DC5tGbAtHZf",
        "outputId": "b22f8d7a-5b38-4249-f4c9-64db20f3b597"
      },
      "source": [
        "submission, feature_importances, metrics = model(train, test)"
      ],
      "execution_count": null,
      "outputs": [
        {
          "output_type": "stream",
          "text": [
            "Training Data Shape:  (199882, 272)\n",
            "Testing Data Shape:  (107629, 272)\n",
            "[200]\ttrain's auc: 0.780414\ttrain's binary_logloss: 0.583786\tvalid's auc: 0.755969\tvalid's binary_logloss: 0.580931\n",
            "[400]\ttrain's auc: 0.803117\ttrain's binary_logloss: 0.553508\tvalid's auc: 0.76583\tvalid's binary_logloss: 0.557846\n",
            "[600]\ttrain's auc: 0.818165\ttrain's binary_logloss: 0.537434\tvalid's auc: 0.769239\tvalid's binary_logloss: 0.544254\n",
            "[800]\ttrain's auc: 0.829593\ttrain's binary_logloss: 0.524886\tvalid's auc: 0.770165\tvalid's binary_logloss: 0.535015\n",
            "[1000]\ttrain's auc: 0.840775\ttrain's binary_logloss: 0.512217\tvalid's auc: 0.771738\tvalid's binary_logloss: 0.532757\n",
            "[1200]\ttrain's auc: 0.850132\ttrain's binary_logloss: 0.502999\tvalid's auc: 0.773055\tvalid's binary_logloss: 0.518711\n",
            "[1400]\ttrain's auc: 0.85997\ttrain's binary_logloss: 0.491628\tvalid's auc: 0.7728\tvalid's binary_logloss: 0.512067\n",
            "[1600]\ttrain's auc: 0.866362\ttrain's binary_logloss: 0.483057\tvalid's auc: 0.773001\tvalid's binary_logloss: 0.505364\n",
            "[1800]\ttrain's auc: 0.875059\ttrain's binary_logloss: 0.473058\tvalid's auc: 0.772888\tvalid's binary_logloss: 0.503348\n",
            "[2000]\ttrain's auc: 0.882225\ttrain's binary_logloss: 0.464105\tvalid's auc: 0.772315\tvalid's binary_logloss: 0.499754\n",
            "[2200]\ttrain's auc: 0.889453\ttrain's binary_logloss: 0.454154\tvalid's auc: 0.772577\tvalid's binary_logloss: 0.490756\n",
            "[2400]\ttrain's auc: 0.896567\ttrain's binary_logloss: 0.443878\tvalid's auc: 0.772684\tvalid's binary_logloss: 0.484804\n",
            "[2600]\ttrain's auc: 0.903865\ttrain's binary_logloss: 0.4364\tvalid's auc: 0.771787\tvalid's binary_logloss: 0.48118\n",
            "[2800]\ttrain's auc: 0.90788\ttrain's binary_logloss: 0.430494\tvalid's auc: 0.771882\tvalid's binary_logloss: 0.47623\n",
            "[3000]\ttrain's auc: 0.913847\ttrain's binary_logloss: 0.422072\tvalid's auc: 0.771446\tvalid's binary_logloss: 0.473588\n",
            "[3200]\ttrain's auc: 0.918967\ttrain's binary_logloss: 0.415367\tvalid's auc: 0.77109\tvalid's binary_logloss: 0.466946\n",
            "[3400]\ttrain's auc: 0.92403\ttrain's binary_logloss: 0.406553\tvalid's auc: 0.770618\tvalid's binary_logloss: 0.463403\n",
            "[3600]\ttrain's auc: 0.929246\ttrain's binary_logloss: 0.399344\tvalid's auc: 0.769562\tvalid's binary_logloss: 0.459858\n"
          ],
          "name": "stdout"
        }
      ]
    },
    {
      "cell_type": "code",
      "metadata": {
        "colab": {
          "base_uri": "https://localhost:8080/",
          "height": 373
        },
        "id": "9NlazC47XoZW",
        "outputId": "283813aa-0c9d-400d-bd57-ecc28b59f7b0"
      },
      "source": [
        "metrics"
      ],
      "execution_count": null,
      "outputs": [
        {
          "output_type": "execute_result",
          "data": {
            "text/html": [
              "<div>\n",
              "<style scoped>\n",
              "    .dataframe tbody tr th:only-of-type {\n",
              "        vertical-align: middle;\n",
              "    }\n",
              "\n",
              "    .dataframe tbody tr th {\n",
              "        vertical-align: top;\n",
              "    }\n",
              "\n",
              "    .dataframe thead th {\n",
              "        text-align: right;\n",
              "    }\n",
              "</style>\n",
              "<table border=\"1\" class=\"dataframe\">\n",
              "  <thead>\n",
              "    <tr style=\"text-align: right;\">\n",
              "      <th></th>\n",
              "      <th>fold</th>\n",
              "      <th>train</th>\n",
              "      <th>valid</th>\n",
              "    </tr>\n",
              "  </thead>\n",
              "  <tbody>\n",
              "    <tr>\n",
              "      <th>0</th>\n",
              "      <td>0</td>\n",
              "      <td>0.788964</td>\n",
              "      <td>0.741400</td>\n",
              "    </tr>\n",
              "    <tr>\n",
              "      <th>1</th>\n",
              "      <td>1</td>\n",
              "      <td>0.788135</td>\n",
              "      <td>0.746738</td>\n",
              "    </tr>\n",
              "    <tr>\n",
              "      <th>2</th>\n",
              "      <td>2</td>\n",
              "      <td>0.788672</td>\n",
              "      <td>0.747869</td>\n",
              "    </tr>\n",
              "    <tr>\n",
              "      <th>3</th>\n",
              "      <td>3</td>\n",
              "      <td>0.788854</td>\n",
              "      <td>0.744437</td>\n",
              "    </tr>\n",
              "    <tr>\n",
              "      <th>4</th>\n",
              "      <td>4</td>\n",
              "      <td>0.788748</td>\n",
              "      <td>0.745161</td>\n",
              "    </tr>\n",
              "    <tr>\n",
              "      <th>5</th>\n",
              "      <td>5</td>\n",
              "      <td>0.789138</td>\n",
              "      <td>0.736319</td>\n",
              "    </tr>\n",
              "    <tr>\n",
              "      <th>6</th>\n",
              "      <td>6</td>\n",
              "      <td>0.788981</td>\n",
              "      <td>0.744723</td>\n",
              "    </tr>\n",
              "    <tr>\n",
              "      <th>7</th>\n",
              "      <td>7</td>\n",
              "      <td>0.789152</td>\n",
              "      <td>0.735812</td>\n",
              "    </tr>\n",
              "    <tr>\n",
              "      <th>8</th>\n",
              "      <td>8</td>\n",
              "      <td>0.788854</td>\n",
              "      <td>0.745586</td>\n",
              "    </tr>\n",
              "    <tr>\n",
              "      <th>9</th>\n",
              "      <td>9</td>\n",
              "      <td>0.789293</td>\n",
              "      <td>0.739942</td>\n",
              "    </tr>\n",
              "    <tr>\n",
              "      <th>10</th>\n",
              "      <td>overall</td>\n",
              "      <td>0.788879</td>\n",
              "      <td>0.742771</td>\n",
              "    </tr>\n",
              "  </tbody>\n",
              "</table>\n",
              "</div>"
            ],
            "text/plain": [
              "       fold     train     valid\n",
              "0         0  0.788964  0.741400\n",
              "1         1  0.788135  0.746738\n",
              "2         2  0.788672  0.747869\n",
              "3         3  0.788854  0.744437\n",
              "4         4  0.788748  0.745161\n",
              "5         5  0.789138  0.736319\n",
              "6         6  0.788981  0.744723\n",
              "7         7  0.789152  0.735812\n",
              "8         8  0.788854  0.745586\n",
              "9         9  0.789293  0.739942\n",
              "10  overall  0.788879  0.742771"
            ]
          },
          "metadata": {
            "tags": []
          },
          "execution_count": 158
        }
      ]
    },
    {
      "cell_type": "code",
      "metadata": {
        "id": "yrS01ikV3IoJ"
      },
      "source": [
        "submission.to_csv('Elite11_lgbm.csv', index = False)"
      ],
      "execution_count": null,
      "outputs": []
    },
    {
      "cell_type": "code",
      "metadata": {
        "colab": {
          "base_uri": "https://localhost:8080/",
          "height": 195
        },
        "id": "G2Q7oKPbDw_S",
        "outputId": "7a83f35c-36a9-4c08-fbc5-a0fb5c3ef7f2"
      },
      "source": [
        "submission.head()"
      ],
      "execution_count": null,
      "outputs": [
        {
          "output_type": "execute_result",
          "data": {
            "text/html": [
              "<div>\n",
              "<style scoped>\n",
              "    .dataframe tbody tr th:only-of-type {\n",
              "        vertical-align: middle;\n",
              "    }\n",
              "\n",
              "    .dataframe tbody tr th {\n",
              "        vertical-align: top;\n",
              "    }\n",
              "\n",
              "    .dataframe thead th {\n",
              "        text-align: right;\n",
              "    }\n",
              "</style>\n",
              "<table border=\"1\" class=\"dataframe\">\n",
              "  <thead>\n",
              "    <tr style=\"text-align: right;\">\n",
              "      <th></th>\n",
              "      <th>SK_ID_CURR</th>\n",
              "      <th>TARGET</th>\n",
              "    </tr>\n",
              "  </thead>\n",
              "  <tbody>\n",
              "    <tr>\n",
              "      <th>0</th>\n",
              "      <td>7auxod</td>\n",
              "      <td>0.045308</td>\n",
              "    </tr>\n",
              "    <tr>\n",
              "      <th>1</th>\n",
              "      <td>xur7ur</td>\n",
              "      <td>0.199900</td>\n",
              "    </tr>\n",
              "    <tr>\n",
              "      <th>2</th>\n",
              "      <td>eau6rx</td>\n",
              "      <td>0.101285</td>\n",
              "    </tr>\n",
              "    <tr>\n",
              "      <th>3</th>\n",
              "      <td>obdr67</td>\n",
              "      <td>0.053920</td>\n",
              "    </tr>\n",
              "    <tr>\n",
              "      <th>4</th>\n",
              "      <td>7xbu7d</td>\n",
              "      <td>0.067029</td>\n",
              "    </tr>\n",
              "  </tbody>\n",
              "</table>\n",
              "</div>"
            ],
            "text/plain": [
              "  SK_ID_CURR    TARGET\n",
              "0     7auxod  0.045308\n",
              "1     xur7ur  0.199900\n",
              "2     eau6rx  0.101285\n",
              "3     obdr67  0.053920\n",
              "4     7xbu7d  0.067029"
            ]
          },
          "metadata": {
            "tags": []
          },
          "execution_count": 85
        }
      ]
    },
    {
      "cell_type": "code",
      "metadata": {
        "id": "auIb4dQKF_nn"
      },
      "source": [
        "one = pd.read_csv(\"Elite8_lgbm.csv\")"
      ],
      "execution_count": null,
      "outputs": []
    },
    {
      "cell_type": "code",
      "metadata": {
        "id": "VryNvTrGIIeO"
      },
      "source": [
        "two =  pd.read_csv(\"Elite9_lgbm.csv\")"
      ],
      "execution_count": null,
      "outputs": []
    },
    {
      "cell_type": "code",
      "metadata": {
        "id": "AZNWCVnyIRbe"
      },
      "source": [
        "three = pd.read_csv(\"Elite10_lgbm.csv\")"
      ],
      "execution_count": null,
      "outputs": []
    },
    {
      "cell_type": "code",
      "metadata": {
        "id": "4gqQJYURIUdI"
      },
      "source": [
        "one[\"TARGET2\"] = two[\"TARGET\"]"
      ],
      "execution_count": null,
      "outputs": []
    },
    {
      "cell_type": "code",
      "metadata": {
        "id": "NsK2VT-TIX0Q"
      },
      "source": [
        "one[\"TARGET3\"] = three[\"TARGET\"]"
      ],
      "execution_count": null,
      "outputs": []
    },
    {
      "cell_type": "code",
      "metadata": {
        "colab": {
          "base_uri": "https://localhost:8080/",
          "height": 402
        },
        "id": "EF8uj6srIgaw",
        "outputId": "25ac9902-2a90-40c3-fc0b-103049298f40"
      },
      "source": [
        "one"
      ],
      "execution_count": null,
      "outputs": [
        {
          "output_type": "execute_result",
          "data": {
            "text/html": [
              "<div>\n",
              "<style scoped>\n",
              "    .dataframe tbody tr th:only-of-type {\n",
              "        vertical-align: middle;\n",
              "    }\n",
              "\n",
              "    .dataframe tbody tr th {\n",
              "        vertical-align: top;\n",
              "    }\n",
              "\n",
              "    .dataframe thead th {\n",
              "        text-align: right;\n",
              "    }\n",
              "</style>\n",
              "<table border=\"1\" class=\"dataframe\">\n",
              "  <thead>\n",
              "    <tr style=\"text-align: right;\">\n",
              "      <th></th>\n",
              "      <th>SK_ID_CURR</th>\n",
              "      <th>TARGET</th>\n",
              "      <th>TARGET2</th>\n",
              "      <th>TARGET3</th>\n",
              "    </tr>\n",
              "  </thead>\n",
              "  <tbody>\n",
              "    <tr>\n",
              "      <th>0</th>\n",
              "      <td>7auxod</td>\n",
              "      <td>0.044102</td>\n",
              "      <td>0.043694</td>\n",
              "      <td>0.045308</td>\n",
              "    </tr>\n",
              "    <tr>\n",
              "      <th>1</th>\n",
              "      <td>xur7ur</td>\n",
              "      <td>0.203215</td>\n",
              "      <td>0.205553</td>\n",
              "      <td>0.199900</td>\n",
              "    </tr>\n",
              "    <tr>\n",
              "      <th>2</th>\n",
              "      <td>eau6rx</td>\n",
              "      <td>0.105135</td>\n",
              "      <td>0.102717</td>\n",
              "      <td>0.101285</td>\n",
              "    </tr>\n",
              "    <tr>\n",
              "      <th>3</th>\n",
              "      <td>obdr67</td>\n",
              "      <td>0.054243</td>\n",
              "      <td>0.053841</td>\n",
              "      <td>0.053920</td>\n",
              "    </tr>\n",
              "    <tr>\n",
              "      <th>4</th>\n",
              "      <td>7xbu7d</td>\n",
              "      <td>0.062540</td>\n",
              "      <td>0.062075</td>\n",
              "      <td>0.067029</td>\n",
              "    </tr>\n",
              "    <tr>\n",
              "      <th>...</th>\n",
              "      <td>...</td>\n",
              "      <td>...</td>\n",
              "      <td>...</td>\n",
              "      <td>...</td>\n",
              "    </tr>\n",
              "    <tr>\n",
              "      <th>107624</th>\n",
              "      <td>x7o6ud</td>\n",
              "      <td>0.127500</td>\n",
              "      <td>0.128519</td>\n",
              "      <td>0.132594</td>\n",
              "    </tr>\n",
              "    <tr>\n",
              "      <th>107625</th>\n",
              "      <td>ueexer</td>\n",
              "      <td>0.022331</td>\n",
              "      <td>0.022330</td>\n",
              "      <td>0.019634</td>\n",
              "    </tr>\n",
              "    <tr>\n",
              "      <th>107626</th>\n",
              "      <td>ou7exx</td>\n",
              "      <td>0.050077</td>\n",
              "      <td>0.051195</td>\n",
              "      <td>0.050738</td>\n",
              "    </tr>\n",
              "    <tr>\n",
              "      <th>107627</th>\n",
              "      <td>6ux6rd</td>\n",
              "      <td>0.090136</td>\n",
              "      <td>0.089816</td>\n",
              "      <td>0.088201</td>\n",
              "    </tr>\n",
              "    <tr>\n",
              "      <th>107628</th>\n",
              "      <td>7rx7ed</td>\n",
              "      <td>0.076587</td>\n",
              "      <td>0.075645</td>\n",
              "      <td>0.081431</td>\n",
              "    </tr>\n",
              "  </tbody>\n",
              "</table>\n",
              "<p>107629 rows × 4 columns</p>\n",
              "</div>"
            ],
            "text/plain": [
              "       SK_ID_CURR    TARGET   TARGET2   TARGET3\n",
              "0          7auxod  0.044102  0.043694  0.045308\n",
              "1          xur7ur  0.203215  0.205553  0.199900\n",
              "2          eau6rx  0.105135  0.102717  0.101285\n",
              "3          obdr67  0.054243  0.053841  0.053920\n",
              "4          7xbu7d  0.062540  0.062075  0.067029\n",
              "...           ...       ...       ...       ...\n",
              "107624     x7o6ud  0.127500  0.128519  0.132594\n",
              "107625     ueexer  0.022331  0.022330  0.019634\n",
              "107626     ou7exx  0.050077  0.051195  0.050738\n",
              "107627     6ux6rd  0.090136  0.089816  0.088201\n",
              "107628     7rx7ed  0.076587  0.075645  0.081431\n",
              "\n",
              "[107629 rows x 4 columns]"
            ]
          },
          "metadata": {
            "tags": []
          },
          "execution_count": 121
        }
      ]
    },
    {
      "cell_type": "code",
      "metadata": {
        "id": "LndQcnEfIh1T"
      },
      "source": [
        "one['TARGET_AVG'] = (one['TARGET'] + one['TARGET2']+one['TARGET3'])/3"
      ],
      "execution_count": null,
      "outputs": []
    },
    {
      "cell_type": "code",
      "metadata": {
        "id": "57WCZ7T0IxMB"
      },
      "source": [
        "avg = one[['SK_ID_CURR',\"TARGET_AVG\"]]"
      ],
      "execution_count": null,
      "outputs": []
    },
    {
      "cell_type": "code",
      "metadata": {
        "id": "HBEvk_EnI2J7"
      },
      "source": [
        "avg.rename(columns={\"TARGET_AVG\":\"TARGET\"},inplace=True)"
      ],
      "execution_count": null,
      "outputs": []
    },
    {
      "cell_type": "code",
      "metadata": {
        "colab": {
          "base_uri": "https://localhost:8080/",
          "height": 195
        },
        "id": "ZLKIdx_0NRV7",
        "outputId": "c9914842-efba-48fd-ecaf-a028ba6d2c42"
      },
      "source": [
        "avg.head()"
      ],
      "execution_count": null,
      "outputs": [
        {
          "output_type": "execute_result",
          "data": {
            "text/html": [
              "<div>\n",
              "<style scoped>\n",
              "    .dataframe tbody tr th:only-of-type {\n",
              "        vertical-align: middle;\n",
              "    }\n",
              "\n",
              "    .dataframe tbody tr th {\n",
              "        vertical-align: top;\n",
              "    }\n",
              "\n",
              "    .dataframe thead th {\n",
              "        text-align: right;\n",
              "    }\n",
              "</style>\n",
              "<table border=\"1\" class=\"dataframe\">\n",
              "  <thead>\n",
              "    <tr style=\"text-align: right;\">\n",
              "      <th></th>\n",
              "      <th>SK_ID_CURR</th>\n",
              "      <th>TARGET</th>\n",
              "    </tr>\n",
              "  </thead>\n",
              "  <tbody>\n",
              "    <tr>\n",
              "      <th>0</th>\n",
              "      <td>7auxod</td>\n",
              "      <td>0.044368</td>\n",
              "    </tr>\n",
              "    <tr>\n",
              "      <th>1</th>\n",
              "      <td>xur7ur</td>\n",
              "      <td>0.202889</td>\n",
              "    </tr>\n",
              "    <tr>\n",
              "      <th>2</th>\n",
              "      <td>eau6rx</td>\n",
              "      <td>0.103046</td>\n",
              "    </tr>\n",
              "    <tr>\n",
              "      <th>3</th>\n",
              "      <td>obdr67</td>\n",
              "      <td>0.054001</td>\n",
              "    </tr>\n",
              "    <tr>\n",
              "      <th>4</th>\n",
              "      <td>7xbu7d</td>\n",
              "      <td>0.063881</td>\n",
              "    </tr>\n",
              "  </tbody>\n",
              "</table>\n",
              "</div>"
            ],
            "text/plain": [
              "  SK_ID_CURR    TARGET\n",
              "0     7auxod  0.044368\n",
              "1     xur7ur  0.202889\n",
              "2     eau6rx  0.103046\n",
              "3     obdr67  0.054001\n",
              "4     7xbu7d  0.063881"
            ]
          },
          "metadata": {
            "tags": []
          },
          "execution_count": 130
        }
      ]
    },
    {
      "cell_type": "code",
      "metadata": {
        "id": "lLmgTWsdJVS7"
      },
      "source": [
        "avg.to_csv(\"Elite_lgbm_8_9_10_avg.csv\",index = False)"
      ],
      "execution_count": null,
      "outputs": []
    },
    {
      "cell_type": "code",
      "metadata": {
        "id": "Ltg5PP8DM5nK"
      },
      "source": [
        ""
      ],
      "execution_count": null,
      "outputs": []
    },
    {
      "cell_type": "code",
      "metadata": {
        "id": "lSEkv7UOnmI4"
      },
      "source": [
        ""
      ],
      "execution_count": null,
      "outputs": []
    }
  ]
}